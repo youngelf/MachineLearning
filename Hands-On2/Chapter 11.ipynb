{
 "cells": [
  {
   "cell_type": "markdown",
   "metadata": {},
   "source": [
    "# Chapter 11: Training deep neural networks\n",
    "\n",
    "\n",
    "Neural networks suffer from vanishing (too small) or exploding (too large) gradients.\n",
    "This caused them to be abandoned.\n",
    "\n",
    "Xavier Glorot and Yoshua Bengio showed in 2010 that this was caused by logistic activation (mean is 0.5, and gradient is close to the edges: output 0 or output 1) or the initialization used.\n",
    "\n",
    "The outcome was to have a fan-in as close to fan-out for hidden layers, and the initialization is done in a crafty way to account for differences in fan-in and fan-out called Xavier initialization now. $\\sigma^2 = 1/{fan}$, fan is the average of fan-in and fan-out.\n",
    "\n",
    "\n",
    "Another approach is to use Rectified Linear Units (ReLU) with another kind of initialization called He Initialization. $\\sigma^2 = 2/{fan}_{in}$\n",
    "\n",
    "A third approach is Scaled Exponential Linear Units (SELU) with a third initialization mechanism called LeCunn Initialization. $\\sigma^2 = 1/{fan}_{in}$\n",
    "\n",
    "This can be modified in Keras by doing kernel_initializer=\"he_uniform\" or \"he_normal\" etc.\n",
    "\n",
    "The 2010 paper showed that just because biological neurons use logistic activation, we don't have to. And in fact, using them causes all sorts of mathematical problems. ReLU activation functions work well in practice, but suffer from a problem where once they start outputting 0, they stay there. As a result, a leaky ReLU works better when it outputs a small negative value instead of 0 all the way through.\n",
    "\n",
    "The exponential LU is an exponential function shifted down by 1, so it outputs -1 (instead of 0 at $-\\inf$ and 0 at 1): ${ELU}(z) = exp(z) - 1$. Differentiable, doesn't cause vanishing or exploding gradients. Slower to compute\n",
    "\n",
    "SELU needs sequential networks (no skip connections). Needs a specific initializer \"lecun_normal\", and standard scaling of inputs. When this happens, SELU will self-normalize (mean 0 and variance 1, this is desirable) when all hidden layers use SELU.\n",
    "\n",
    "\n",
    "Initialization choices listed above only help at the start of the training. During training, the intermediate layers can still have poor gradients. Batch Normalization is a set of extra layers added that seek to estimate the mean and variance of their inputs at their layer (during training), and modify output scaling and output shifting as errors are calculated. After training, the layer modifies its inputs by using the training means and variances, and also modifies the output to scale and shift it to ensure that the behavior at that layer is good.\n",
    "\n",
    "I don't have a good sense of it though. To standard-scale the input, it must be applied before a hidden neural network layer, and to modify the output, it should be applied after the neural network layer. Not sure how this really works in practice.\n",
    "\n",
    "\n",
    "This chapter was mostly talk. The exercises are where the information get solidified.\n",
    "\n"
   ]
  },
  {
   "cell_type": "markdown",
   "metadata": {},
   "source": [
    "# Exercises\n",
    "\n",
    "1. It is ok to initialize values to the same thing, though you are better off with random initialization to different values.\n",
    "\n",
    "2. Nope, not ok to initialize values to 0. Some of the activation functions have a zero gradient (or undefined gradient) at 0. Best to initialize to nonzero values.\n",
    "\n",
    "3. SELU is differentiable everywhere, and usually converges faster, even though it is slower to compute.\n",
    " When SELU is used in all layers, it self-normalizes to mean 0 and standard deviation of 1, which greatly helps convergence.\n",
    "\n",
    "4. SELU: when the input can be scaled, and \n",
    "\n",
    "5. No idea. Probably the result doesn't converge?\n",
    "\n",
    "6. Sparse models can be produced by:\n",
    "  * Using dropout. This removes some nodes.\n",
    "  * High value of regularization.\n",
    "  * Ue Tensorflow's Model Optimization Toolkit (MOT) to prune connections with small magnitude.\n",
    "\n",
    "7. Dropout might down training as we might need more iterations to converge. It does speeds up inference. MC Dropout slows down training as we have to get the boosted model iteratively. And it does slow down inference as well (inference requires training with dropout turned on and keeping the previous inferred results to average)\n",
    "\n",
    "8. Doing that below here.\n",
    "\n",
    "\n",
    "\n",
    "\n"
   ]
  },
  {
   "cell_type": "code",
   "execution_count": 4,
   "metadata": {},
   "outputs": [
    {
     "name": "stdout",
     "output_type": "stream",
     "text": [
      "TF version  2.3.0\n",
      "Keras version  2.4.0\n"
     ]
    }
   ],
   "source": [
    "# Common imports\n",
    "\n",
    "import matplotlib.cm as cm\n",
    "from matplotlib.image import imread\n",
    "import matplotlib as mpl\n",
    "import matplotlib.pyplot as plt\n",
    "import mpl_toolkits.mplot3d.axes3d as p3\n",
    "\n",
    "import numpy as np\n",
    "\n",
    "from sklearn.cluster import KMeans\n",
    "from sklearn.datasets import make_blobs\n",
    "\n",
    "from sklearn.metrics import accuracy_score\n",
    "from sklearn.metrics import silhouette_samples\n",
    "from sklearn.metrics import silhouette_score\n",
    "\n",
    "from sklearn.datasets import fetch_california_housing\n",
    "from sklearn.datasets import make_blobs\n",
    "from sklearn.cluster import KMeans\n",
    "from sklearn.metrics import silhouette_samples, silhouette_score\n",
    "\n",
    "from sklearn.model_selection import StratifiedShuffleSplit\n",
    "from sklearn.model_selection import train_test_split\n",
    "from sklearn.preprocessing import StandardScaler\n",
    "\n",
    "import tensorflow as tf\n",
    "from tensorflow import keras\n",
    "\n",
    "print(\"TF version \", tf.__version__)\n",
    "print(\"Keras version \", keras.__version__)\n",
    "\n",
    "# Custom error handler for the entire notebook so stack traces are not lost\n",
    "from IPython.core.ultratb import AutoFormattedTB\n",
    "\n",
    "# initialize the formatter for making the tracebacks into strings\n",
    "itb = AutoFormattedTB(mode = 'Plain', tb_offset = 1)\n",
    "\n",
    "# Define a global with the stack trace that we can append to in the handler.\n",
    "viki_stack_trace = ''\n",
    "\n",
    "# this function will be called on exceptions in any cell\n",
    "def custom_exc(shell, etype, evalue, tb, tb_offset=None):\n",
    "    global viki_stack_trace\n",
    "\n",
    "    # still show the error within the notebook, don't just swallow it\n",
    "    shell.showtraceback((etype, evalue, tb), tb_offset=tb_offset)\n",
    "\n",
    "    # grab the traceback and make it into a list of strings\n",
    "    stb = itb.structured_traceback(etype, evalue, tb)\n",
    "    sstb = itb.stb2text(stb)\n",
    "\n",
    "    print (sstb) # <--- this is the variable with the traceback string\n",
    "    viki_stack_trace = viki_stack_trace + sstb\n",
    "\n",
    "# this registers a custom exception handler for the whole current notebook\n",
    "get_ipython().set_custom_exc((Exception,), custom_exc)\n"
   ]
  },
  {
   "cell_type": "code",
   "execution_count": 8,
   "metadata": {},
   "outputs": [],
   "source": [
    "cifar = keras.datasets.cifar10.load_data()"
   ]
  },
  {
   "cell_type": "code",
   "execution_count": 5,
   "metadata": {},
   "outputs": [],
   "source": [
    "(X, y), (testX, testy) = keras.datasets.cifar10.load_data()"
   ]
  },
  {
   "cell_type": "code",
   "execution_count": 6,
   "metadata": {},
   "outputs": [
    {
     "name": "stdout",
     "output_type": "stream",
     "text": [
      "Validation:  (10000, 32, 32, 3)\n",
      "Training:  (40000, 32, 32, 3)\n",
      "Labels validation:  (10000,)\n",
      "Labels training:  (40000,)\n",
      "Test:  (10000, 32, 32, 3)\n",
      "Labels test:  (10000, 1)\n"
     ]
    }
   ],
   "source": [
    "X_train, X_valid = X[:40000] / 255.0, X[40000:] / 255.0\n",
    "y = y.reshape(50000)\n",
    "testy.reshape(10000)\n",
    "\n",
    "y_train, y_valid = y[:40000]        , y[40000:]\n",
    "\n",
    "print(\"Validation: \", X_valid.shape)\n",
    "print(\"Training: \", X_train.shape)\n",
    "print(\"Labels validation: \", y_valid.shape)\n",
    "print(\"Labels training: \", y_train.shape)\n",
    "\n",
    "print(\"Test: \", testX.shape)\n",
    "print(\"Labels test: \", testy.shape)"
   ]
  },
  {
   "cell_type": "code",
   "execution_count": 53,
   "metadata": {},
   "outputs": [
    {
     "data": {
      "text/plain": [
       "(50000, 32, 32, 3)"
      ]
     },
     "execution_count": 53,
     "metadata": {},
     "output_type": "execute_result"
    }
   ],
   "source": [
    "X.shape"
   ]
  },
  {
   "cell_type": "code",
   "execution_count": 56,
   "metadata": {},
   "outputs": [
    {
     "data": {
      "text/plain": [
       "(50000, 1)"
      ]
     },
     "execution_count": 56,
     "metadata": {},
     "output_type": "execute_result"
    }
   ],
   "source": [
    "y.shape"
   ]
  },
  {
   "cell_type": "code",
   "execution_count": 55,
   "metadata": {},
   "outputs": [
    {
     "data": {
      "text/plain": [
       "(32, 32, 3)"
      ]
     },
     "execution_count": 55,
     "metadata": {},
     "output_type": "execute_result"
    }
   ],
   "source": [
    "X[2].shape"
   ]
  },
  {
   "cell_type": "code",
   "execution_count": 86,
   "metadata": {},
   "outputs": [
    {
     "name": "stdout",
     "output_type": "stream",
     "text": [
      "Model built:  <tensorflow.python.keras.engine.sequential.Sequential object at 0x7f8fc0ee2100>\n"
     ]
    }
   ],
   "source": [
    "from sklearn.base import clone\n",
    "\n",
    "def create_keras_classifier_model(n_classes=100):\n",
    "    \"\"\"Keras multinomial logistic regression creation model\n",
    " \n",
    "    Args:\n",
    "        n_classes(int): Number of classes to be classified\n",
    " \n",
    "    Returns:\n",
    "        Compiled keras model\n",
    " \n",
    "    \"\"\"\n",
    "    # create model\n",
    "    model = keras.models.Sequential()\n",
    "    \n",
    "    # The input: we get 32x32 pixels, each with 3 colors (rgb)\n",
    "    model.add(keras.layers.Flatten(input_shape=[32,32,3]))\n",
    "    # Then the hidden layers, fully connected (100 by default)\n",
    "    for i in range(20):\n",
    "        model.add(keras.layers.Dense(\n",
    "            n_classes, \n",
    "            activation=\"elu\",\n",
    "            kernel_initializer=tf.keras.initializers.HeNormal()\n",
    "        ))\n",
    "    # Now add the output layer: 10 classes in CIFAR10, so 10 outputs.\n",
    "    model.add(keras.layers.Dense(10, activation=\"softmax\"))\n",
    "\n",
    "    # print(model.summary())\n",
    "    # Compile model\n",
    "    nadam = keras.optimizers.Nadam(learning_rate=0.001, beta_1=0.9, beta_2=0.999, epsilon=1e-07)\n",
    "\n",
    "    model.compile(\n",
    "        loss=\"sparse_categorical_crossentropy\", \n",
    "        optimizer=nadam,\n",
    "        metrics=[\"accuracy\"]\n",
    "    )\n",
    "    return model\n",
    " \n",
    "estimator = keras.wrappers.scikit_learn.KerasClassifier(\n",
    "    build_fn=create_keras_classifier_model,\n",
    "    n_classes=10,\n",
    "    class_weight={0: 1, 1:3})\n",
    "\n",
    "viki_stack_trace = ''\n",
    "\n",
    "mm = create_keras_classifier_model(100)\n",
    "print (\"Model built: \", mm)"
   ]
  },
  {
   "cell_type": "markdown",
   "metadata": {},
   "source": [
    "Need to create a model and test against the training data."
   ]
  },
  {
   "cell_type": "code",
   "execution_count": 77,
   "metadata": {
    "collapsed": true
   },
   "outputs": [
    {
     "name": "stdout",
     "output_type": "stream",
     "text": [
      "Epoch 1/30\n",
      "1563/1563 [==============================] - 84s 54ms/step - loss: 3.3307 - accuracy: 0.2220\n",
      "Epoch 2/30\n",
      "1563/1563 [==============================] - 85s 54ms/step - loss: 1.9199 - accuracy: 0.2920\n",
      "Epoch 3/30\n",
      "1563/1563 [==============================] - 84s 54ms/step - loss: 1.8658 - accuracy: 0.3137\n",
      "Epoch 4/30\n",
      "1563/1563 [==============================] - 84s 54ms/step - loss: 1.8350 - accuracy: 0.3299\n",
      "Epoch 5/30\n",
      "1563/1563 [==============================] - 84s 54ms/step - loss: 1.7982 - accuracy: 0.3459\n",
      "Epoch 6/30\n",
      "1563/1563 [==============================] - 84s 54ms/step - loss: 1.7787 - accuracy: 0.3539\n",
      "Epoch 7/30\n",
      "1563/1563 [==============================] - 84s 54ms/step - loss: 1.7599 - accuracy: 0.3602\n",
      "Epoch 8/30\n",
      "1563/1563 [==============================] - 84s 54ms/step - loss: 2.5332 - accuracy: 0.3436\n",
      "Epoch 9/30\n",
      "1563/1563 [==============================] - 84s 54ms/step - loss: 2.0148 - accuracy: 0.2232\n",
      "Epoch 10/30\n",
      "1563/1563 [==============================] - 84s 54ms/step - loss: 1.8990 - accuracy: 0.2870\n",
      "Epoch 11/30\n",
      "1563/1563 [==============================] - 84s 54ms/step - loss: 1.8506 - accuracy: 0.3102\n",
      "Epoch 12/30\n",
      "1563/1563 [==============================] - 84s 54ms/step - loss: 1.7974 - accuracy: 0.3329\n",
      "Epoch 13/30\n",
      "1563/1563 [==============================] - 84s 54ms/step - loss: 1.7717 - accuracy: 0.3433\n",
      "Epoch 14/30\n",
      "1563/1563 [==============================] - 84s 54ms/step - loss: 1.7509 - accuracy: 0.3568\n",
      "Epoch 15/30\n",
      "1563/1563 [==============================] - 85s 54ms/step - loss: 1.7293 - accuracy: 0.3677\n",
      "Epoch 16/30\n",
      "1563/1563 [==============================] - 84s 54ms/step - loss: 1.7155 - accuracy: 0.3744\n",
      "Epoch 17/30\n",
      "1563/1563 [==============================] - 85s 54ms/step - loss: 1.7035 - accuracy: 0.3797\n",
      "Epoch 18/30\n",
      "1563/1563 [==============================] - 84s 54ms/step - loss: 1.6904 - accuracy: 0.3864\n",
      "Epoch 19/30\n",
      "1563/1563 [==============================] - 89s 57ms/step - loss: 1.6830 - accuracy: 0.3905\n",
      "Epoch 20/30\n",
      "1563/1563 [==============================] - 116s 74ms/step - loss: 1.7356 - accuracy: 0.3799\n",
      "Epoch 21/30\n",
      "1563/1563 [==============================] - 116s 74ms/step - loss: 2.0222 - accuracy: 0.2125\n",
      "Epoch 22/30\n",
      "1563/1563 [==============================] - 116s 74ms/step - loss: 1.9801 - accuracy: 0.2317\n",
      "Epoch 23/30\n",
      "1563/1563 [==============================] - 116s 74ms/step - loss: 1.9464 - accuracy: 0.2579\n",
      "Epoch 24/30\n",
      "1563/1563 [==============================] - 115s 74ms/step - loss: 6.8164 - accuracy: 0.2936\n",
      "Epoch 26/30\n",
      "1563/1563 [==============================] - 114s 73ms/step - loss: 1.8548 - accuracy: 0.3085\n",
      "Epoch 27/30\n",
      "1563/1563 [==============================] - 114s 73ms/step - loss: 1.8365 - accuracy: 0.3179\n",
      "Epoch 28/30\n",
      "1563/1563 [==============================] - 114s 73ms/step - loss: 1.8120 - accuracy: 0.3274\n",
      "Epoch 29/30\n",
      "1563/1563 [==============================] - 114s 73ms/step - loss: 1.7838 - accuracy: 0.3420\n",
      "Epoch 30/30\n",
      "1563/1563 [==============================] - 114s 73ms/step - loss: 1.7662 - accuracy: 0.3523\n"
     ]
    }
   ],
   "source": [
    "history = mm.fit(trainX, trainy, epochs=30, verbose=0)"
   ]
  },
  {
   "cell_type": "code",
   "execution_count": 78,
   "metadata": {},
   "outputs": [
    {
     "data": {
      "image/png": "[encoded data removed]",
      "text/plain": [
       "<Figure size 576x360 with 1 Axes>"
      ]
     },
     "metadata": {
      "needs_background": "light"
     },
     "output_type": "display_data"
    }
   ],
   "source": [
    "import pandas as pd\n",
    "\n",
    "pd.DataFrame(history.history).plot(figsize=(8,5))\n",
    "plt.grid(True)\n",
    "plt.gca().set_ylim(0,1) # Y axis set to [0,1]\n",
    "plt.show()"
   ]
  },
  {
   "cell_type": "code",
   "execution_count": 80,
   "metadata": {},
   "outputs": [
    {
     "name": "stdout",
     "output_type": "stream",
     "text": [
      "313/313 [==============================] - 8s 25ms/step - loss: 1.7779 - accuracy: 0.3484\n"
     ]
    }
   ],
   "source": [
    "(loss, accuracy) = mm.evaluate(testX, testy)"
   ]
  },
  {
   "cell_type": "code",
   "execution_count": 83,
   "metadata": {},
   "outputs": [
    {
     "name": "stdout",
     "output_type": "stream",
     "text": [
      "Loss is 1.777857\n",
      "Accuracy is 0.348400\n"
     ]
    }
   ],
   "source": [
    "print (\"Loss is %f\" % loss)\n",
    "print (\"Accuracy is %f\" % accuracy)"
   ]
  },
  {
   "cell_type": "markdown",
   "metadata": {},
   "source": [
    "That wasn't any good. Let's try with more epochs, and a smaller learning schedule."
   ]
  },
  {
   "cell_type": "code",
   "execution_count": 87,
   "metadata": {},
   "outputs": [],
   "source": [
    "history = mm.fit(trainX, trainy, epochs=300, verbose=0)"
   ]
  },
  {
   "cell_type": "code",
   "execution_count": 88,
   "metadata": {},
   "outputs": [
    {
     "data": {
      "image/png": "[encoded data removed]",
      "text/plain": [
       "<Figure size 576x360 with 1 Axes>"
      ]
     },
     "metadata": {
      "needs_background": "light"
     },
     "output_type": "display_data"
    }
   ],
   "source": [
    "import pandas as pd\n",
    "\n",
    "pd.DataFrame(history.history).plot(figsize=(8,5))\n",
    "plt.grid(True)\n",
    "plt.gca().set_ylim(0,1) # Y axis set to [0,1]\n",
    "plt.show()"
   ]
  },
  {
   "cell_type": "markdown",
   "metadata": {},
   "source": [
    "Wow, what happened here? This is not working out at all."
   ]
  },
  {
   "cell_type": "code",
   "execution_count": 106,
   "metadata": {},
   "outputs": [
    {
     "name": "stdout",
     "output_type": "stream",
     "text": [
      "Model built:  <tensorflow.python.keras.engine.sequential.Sequential object at 0x7f8fc25c54f0>\n"
     ]
    }
   ],
   "source": [
    "from sklearn.base import clone\n",
    "\n",
    "def create_keras_classifier_model(hidden_neurons=100):\n",
    "    \"\"\"Keras multinomial logistic regression creation model\n",
    " \n",
    "    Args:\n",
    "        n_classes(int): Number of classes to be classified\n",
    " \n",
    "    Returns:\n",
    "        Compiled keras model\n",
    " \n",
    "    \"\"\"\n",
    "    # create model\n",
    "    model = keras.models.Sequential()\n",
    "    \n",
    "    # The input: we get 32x32 pixels, each with 3 colors (rgb)\n",
    "    model.add(keras.layers.Flatten(input_shape=[32,32,3]))\n",
    "    # Then the hidden layers, fully connected (100 by default)\n",
    "    for i in range(20):\n",
    "        model.add(keras.layers.Dense(\n",
    "            hidden_neurons, \n",
    "            activation=\"elu\",\n",
    "            kernel_initializer=tf.keras.initializers.HeNormal()\n",
    "        ))\n",
    "    # Now add the output layer: 10 classes in CIFAR10, so 10 outputs.\n",
    "    model.add(keras.layers.Dense(10, activation=\"softmax\"))\n",
    "\n",
    "    # print(model.summary())\n",
    "    # Compile model\n",
    "    nadam = keras.optimizers.Nadam(learning_rate=0.0001, beta_1=0.9, beta_2=0.999, epsilon=1e-07)\n",
    "\n",
    "    model.compile(\n",
    "        loss=\"sparse_categorical_crossentropy\", \n",
    "        optimizer=nadam,\n",
    "        metrics=[\"accuracy\"]\n",
    "    )\n",
    "    return model\n",
    "\n",
    "# Clear the errors, in case we observe them in the long run.\n",
    "viki_stack_trace = ''\n",
    "\n",
    "# Build a model with 20 layers of 100 hidden neurons each.\n",
    "mm = create_keras_classifier_model(100)\n",
    "print (\"Model built: \", mm)"
   ]
  },
  {
   "cell_type": "markdown",
   "metadata": {},
   "source": [
    "Let's scale the attributes, and reshape the observations, and let's set aside some data for validation during training."
   ]
  },
  {
   "cell_type": "markdown",
   "metadata": {},
   "source": [
    "Split training and validation, and flattening out the labels."
   ]
  },
  {
   "cell_type": "code",
   "execution_count": 7,
   "metadata": {},
   "outputs": [
    {
     "name": "stdout",
     "output_type": "stream",
     "text": [
      "Validation:  (10000, 32, 32, 3)\n",
      "Training:  (40000, 32, 32, 3)\n",
      "Labels validation:  (10000,)\n",
      "Labels training:  (40000,)\n",
      "Test:  (10000, 32, 32, 3)\n",
      "Labels test:  (10000, 1)\n"
     ]
    }
   ],
   "source": [
    "X_train, X_valid = X[:40000] / 255.0, X[40000:] / 255.0\n",
    "y = y.reshape(50000)\n",
    "testy.reshape(10000)\n",
    "\n",
    "y_train, y_valid = y[:40000]        , y[40000:]\n",
    "\n",
    "print(\"Validation: \", X_valid.shape)\n",
    "print(\"Training: \", X_train.shape)\n",
    "print(\"Labels validation: \", y_valid.shape)\n",
    "print(\"Labels training: \", y_train.shape)\n",
    "\n",
    "print(\"Test: \", testX.shape)\n",
    "print(\"Labels test: \", testy.shape)"
   ]
  },
  {
   "cell_type": "markdown",
   "metadata": {},
   "source": [
    "Let's validate that the distribution of classes in the test, validation and training dataset is fine\n"
   ]
  },
  {
   "cell_type": "code",
   "execution_count": 8,
   "metadata": {},
   "outputs": [
    {
     "data": {
      "text/plain": [
       "(array([1014., 1014.,  952., 1016.,  997., 1025.,  980.,  977., 1003.,\n",
       "        1022.]),\n",
       " array([0. , 0.9, 1.8, 2.7, 3.6, 4.5, 5.4, 6.3, 7.2, 8.1, 9. ]),\n",
       " <BarContainer object of 10 artists>)"
      ]
     },
     "execution_count": 8,
     "metadata": {},
     "output_type": "execute_result"
    },
    {
     "data": {
      "image/png": "[encoded data removed]",
      "text/plain": [
       "<Figure size 432x288 with 1 Axes>"
      ]
     },
     "metadata": {
      "needs_background": "light"
     },
     "output_type": "display_data"
    }
   ],
   "source": [
    "plt.hist(y_valid)"
   ]
  },
  {
   "cell_type": "code",
   "execution_count": 9,
   "metadata": {},
   "outputs": [
    {
     "data": {
      "text/plain": [
       "(array([3986., 3986., 4048., 3984., 4003., 3975., 4020., 4023., 3997.,\n",
       "        3978.]),\n",
       " array([0. , 0.9, 1.8, 2.7, 3.6, 4.5, 5.4, 6.3, 7.2, 8.1, 9. ]),\n",
       " <BarContainer object of 10 artists>)"
      ]
     },
     "execution_count": 9,
     "metadata": {},
     "output_type": "execute_result"
    },
    {
     "data": {
      "image/png": "[encoded data removed]",
      "text/plain": [
       "<Figure size 432x288 with 1 Axes>"
      ]
     },
     "metadata": {
      "needs_background": "light"
     },
     "output_type": "display_data"
    }
   ],
   "source": [
    "plt.hist(y_train)"
   ]
  },
  {
   "cell_type": "code",
   "execution_count": 10,
   "metadata": {},
   "outputs": [
    {
     "data": {
      "text/plain": [
       "(array([1000., 1000., 1000., 1000., 1000., 1000., 1000., 1000., 1000.,\n",
       "        1000.]),\n",
       " array([0. , 0.9, 1.8, 2.7, 3.6, 4.5, 5.4, 6.3, 7.2, 8.1, 9. ]),\n",
       " <BarContainer object of 10 artists>)"
      ]
     },
     "execution_count": 10,
     "metadata": {},
     "output_type": "execute_result"
    },
    {
     "data": {
      "image/png": "[encoded data removed]",
      "text/plain": [
       "<Figure size 432x288 with 1 Axes>"
      ]
     },
     "metadata": {
      "needs_background": "light"
     },
     "output_type": "display_data"
    }
   ],
   "source": [
    "plt.hist(testy)"
   ]
  },
  {
   "cell_type": "markdown",
   "metadata": {},
   "source": [
    "Ok, those look ok, so we don't have a huge skew in the classes in the validation, test or training data."
   ]
  },
  {
   "cell_type": "code",
   "execution_count": 111,
   "metadata": {},
   "outputs": [
    {
     "name": "stdout",
     "output_type": "stream",
     "text": [
      "Epoch 1/300\n",
      "313/313 [==============================] - 46s 148ms/step - loss: 1.9601 - accuracy: 0.2870 - val_loss: 1.8911 - val_accuracy: 0.3068\n",
      "Epoch 2/300\n",
      "313/313 [==============================] - 45s 143ms/step - loss: 1.8609 - accuracy: 0.3322 - val_loss: 2.0836 - val_accuracy: 0.2698\n",
      "Epoch 3/300\n",
      "313/313 [==============================] - 45s 143ms/step - loss: 1.7955 - accuracy: 0.3543 - val_loss: 1.9362 - val_accuracy: 0.3010\n",
      "Epoch 4/300\n",
      "313/313 [==============================] - 45s 142ms/step - loss: 1.7331 - accuracy: 0.3726 - val_loss: 1.7834 - val_accuracy: 0.3540\n",
      "Epoch 5/300\n",
      "313/313 [==============================] - 45s 143ms/step - loss: 1.6960 - accuracy: 0.3851 - val_loss: 1.7824 - val_accuracy: 0.3622\n",
      "Epoch 6/300\n",
      "313/313 [==============================] - 45s 143ms/step - loss: 1.6431 - accuracy: 0.4050 - val_loss: 1.7908 - val_accuracy: 0.3632\n",
      "Epoch 7/300\n",
      "313/313 [==============================] - 45s 142ms/step - loss: 1.6057 - accuracy: 0.4231 - val_loss: 1.7062 - val_accuracy: 0.3849\n",
      "Epoch 8/300\n",
      "313/313 [==============================] - 45s 143ms/step - loss: 1.5600 - accuracy: 0.4410 - val_loss: 1.7427 - val_accuracy: 0.3753\n",
      "Epoch 9/300\n",
      "313/313 [==============================] - 45s 143ms/step - loss: 1.5278 - accuracy: 0.4495 - val_loss: 1.7197 - val_accuracy: 0.3996\n",
      "Epoch 10/300\n",
      "313/313 [==============================] - 45s 143ms/step - loss: 1.4847 - accuracy: 0.4626 - val_loss: 1.7949 - val_accuracy: 0.3710\n",
      "Epoch 11/300\n",
      "313/313 [==============================] - 45s 143ms/step - loss: 1.4494 - accuracy: 0.4832 - val_loss: 1.7144 - val_accuracy: 0.4019\n",
      "Epoch 12/300\n",
      "313/313 [==============================] - 45s 143ms/step - loss: 1.4113 - accuracy: 0.4925 - val_loss: 1.6963 - val_accuracy: 0.4055\n",
      "Epoch 13/300\n",
      "313/313 [==============================] - 45s 143ms/step - loss: 1.3797 - accuracy: 0.4998 - val_loss: 1.7077 - val_accuracy: 0.4027\n",
      "Epoch 14/300\n",
      "313/313 [==============================] - 45s 143ms/step - loss: 1.3478 - accuracy: 0.5151 - val_loss: 1.6935 - val_accuracy: 0.4171\n",
      "Epoch 15/300\n",
      "313/313 [==============================] - 45s 143ms/step - loss: 1.3231 - accuracy: 0.5247 - val_loss: 1.7092 - val_accuracy: 0.4091\n",
      "Epoch 16/300\n",
      "313/313 [==============================] - 45s 142ms/step - loss: 1.2876 - accuracy: 0.5425 - val_loss: 1.7546 - val_accuracy: 0.4064\n",
      "Epoch 17/300\n",
      "313/313 [==============================] - 45s 143ms/step - loss: 1.2630 - accuracy: 0.5453 - val_loss: 1.7052 - val_accuracy: 0.4171\n",
      "Epoch 18/300\n",
      "313/313 [==============================] - 45s 143ms/step - loss: 1.2308 - accuracy: 0.5577 - val_loss: 1.7272 - val_accuracy: 0.4156\n",
      "Epoch 19/300\n",
      "313/313 [==============================] - 44s 142ms/step - loss: 1.1978 - accuracy: 0.5679 - val_loss: 1.7807 - val_accuracy: 0.4078\n",
      "Epoch 20/300\n",
      "313/313 [==============================] - 45s 143ms/step - loss: 1.1697 - accuracy: 0.5759 - val_loss: 1.8165 - val_accuracy: 0.3963\n",
      "Epoch 21/300\n",
      "313/313 [==============================] - 45s 143ms/step - loss: 1.1348 - accuracy: 0.5878 - val_loss: 1.7856 - val_accuracy: 0.4102\n",
      "Epoch 22/300\n",
      "313/313 [==============================] - 45s 143ms/step - loss: 1.1055 - accuracy: 0.6043 - val_loss: 1.8669 - val_accuracy: 0.4056\n",
      "Epoch 23/300\n",
      "313/313 [==============================] - 45s 143ms/step - loss: 1.0782 - accuracy: 0.6092 - val_loss: 1.8080 - val_accuracy: 0.4131\n",
      "Epoch 24/300\n",
      "313/313 [==============================] - 45s 143ms/step - loss: 1.0451 - accuracy: 0.6248 - val_loss: 1.8863 - val_accuracy: 0.4126\n",
      "Epoch 25/300\n",
      "313/313 [==============================] - 45s 143ms/step - loss: 1.0255 - accuracy: 0.6305 - val_loss: 1.8828 - val_accuracy: 0.4092\n",
      "Epoch 26/300\n",
      "313/313 [==============================] - 45s 143ms/step - loss: 0.9875 - accuracy: 0.6479 - val_loss: 1.9503 - val_accuracy: 0.4123\n",
      "Epoch 27/300\n",
      "313/313 [==============================] - 45s 143ms/step - loss: 0.9588 - accuracy: 0.6529 - val_loss: 1.9104 - val_accuracy: 0.4114\n",
      "Epoch 28/300\n",
      "313/313 [==============================] - 45s 143ms/step - loss: 0.9271 - accuracy: 0.6669 - val_loss: 2.0105 - val_accuracy: 0.4048\n",
      "Epoch 29/300\n",
      "313/313 [==============================] - 45s 143ms/step - loss: 0.9090 - accuracy: 0.6724 - val_loss: 2.2298 - val_accuracy: 0.3953\n",
      "Epoch 30/300\n",
      "313/313 [==============================] - 45s 142ms/step - loss: 0.8950 - accuracy: 0.6824 - val_loss: 2.0341 - val_accuracy: 0.4117\n",
      "Epoch 31/300\n",
      "313/313 [==============================] - 45s 143ms/step - loss: 0.8574 - accuracy: 0.6906 - val_loss: 2.0327 - val_accuracy: 0.4122\n",
      "Epoch 32/300\n",
      "313/313 [==============================] - 45s 142ms/step - loss: 0.8321 - accuracy: 0.6976 - val_loss: 2.0452 - val_accuracy: 0.4026\n",
      "Epoch 33/300\n",
      "313/313 [==============================] - 45s 143ms/step - loss: 0.8008 - accuracy: 0.7107 - val_loss: 2.2192 - val_accuracy: 0.3886\n",
      "Epoch 34/300\n",
      "313/313 [==============================] - 45s 143ms/step - loss: 0.7872 - accuracy: 0.7163 - val_loss: 2.1787 - val_accuracy: 0.4125\n",
      "Epoch 35/300\n",
      "313/313 [==============================] - 45s 142ms/step - loss: 0.7563 - accuracy: 0.7289 - val_loss: 2.2684 - val_accuracy: 0.4094\n",
      "Epoch 36/300\n",
      "313/313 [==============================] - 45s 143ms/step - loss: 0.7417 - accuracy: 0.7331 - val_loss: 2.1847 - val_accuracy: 0.4130\n",
      "Epoch 37/300\n",
      "313/313 [==============================] - 45s 143ms/step - loss: 0.7230 - accuracy: 0.7426 - val_loss: 2.4731 - val_accuracy: 0.3877\n",
      "Epoch 38/300\n",
      "313/313 [==============================] - 45s 143ms/step - loss: 0.6845 - accuracy: 0.7510 - val_loss: 2.3620 - val_accuracy: 0.4025\n",
      "Epoch 39/300\n",
      "313/313 [==============================] - 45s 142ms/step - loss: 0.6748 - accuracy: 0.7611 - val_loss: 2.3875 - val_accuracy: 0.4085\n",
      "Epoch 40/300\n",
      "313/313 [==============================] - 44s 142ms/step - loss: 0.6472 - accuracy: 0.7672 - val_loss: 2.5180 - val_accuracy: 0.4026\n",
      "Epoch 41/300\n",
      "313/313 [==============================] - 44s 142ms/step - loss: 0.6221 - accuracy: 0.7797 - val_loss: 2.4087 - val_accuracy: 0.4124\n",
      "Epoch 42/300\n",
      "313/313 [==============================] - 45s 143ms/step - loss: 0.5990 - accuracy: 0.7853 - val_loss: 2.5332 - val_accuracy: 0.4097\n",
      "Epoch 43/300\n",
      "313/313 [==============================] - 45s 142ms/step - loss: 0.5834 - accuracy: 0.7971 - val_loss: 2.5580 - val_accuracy: 0.4015\n",
      "Epoch 44/300\n",
      "313/313 [==============================] - 45s 143ms/step - loss: 0.5625 - accuracy: 0.8005 - val_loss: 2.7839 - val_accuracy: 0.4042\n",
      "Epoch 45/300\n",
      "313/313 [==============================] - 45s 142ms/step - loss: 0.5510 - accuracy: 0.8029 - val_loss: 2.6435 - val_accuracy: 0.4055\n",
      "Epoch 46/300\n",
      "313/313 [==============================] - 45s 143ms/step - loss: 0.5394 - accuracy: 0.8076 - val_loss: 2.7467 - val_accuracy: 0.3952\n",
      "Epoch 47/300\n",
      "313/313 [==============================] - 45s 142ms/step - loss: 0.5235 - accuracy: 0.8154 - val_loss: 2.6943 - val_accuracy: 0.4042\n",
      "Epoch 48/300\n",
      "313/313 [==============================] - 45s 143ms/step - loss: 0.5098 - accuracy: 0.8206 - val_loss: 2.8197 - val_accuracy: 0.4026\n",
      "Epoch 49/300\n",
      "313/313 [==============================] - 44s 142ms/step - loss: 0.4809 - accuracy: 0.8314 - val_loss: 2.9572 - val_accuracy: 0.3955\n",
      "Epoch 50/300\n",
      "313/313 [==============================] - 44s 142ms/step - loss: 0.4747 - accuracy: 0.8308 - val_loss: 2.9447 - val_accuracy: 0.3837\n",
      "Epoch 51/300\n",
      "313/313 [==============================] - 44s 142ms/step - loss: 0.4643 - accuracy: 0.8341 - val_loss: 2.9692 - val_accuracy: 0.4013\n",
      "Epoch 52/300\n",
      "313/313 [==============================] - 45s 143ms/step - loss: 0.4375 - accuracy: 0.8428 - val_loss: 3.0055 - val_accuracy: 0.4060\n",
      "Epoch 53/300\n",
      "313/313 [==============================] - 45s 142ms/step - loss: 0.4297 - accuracy: 0.8487 - val_loss: 2.9740 - val_accuracy: 0.3933\n",
      "Epoch 54/300\n",
      "313/313 [==============================] - 44s 142ms/step - loss: 0.4111 - accuracy: 0.8552 - val_loss: 3.1216 - val_accuracy: 0.4028\n",
      "Epoch 55/300\n",
      "313/313 [==============================] - 45s 143ms/step - loss: 0.4355 - accuracy: 0.8439 - val_loss: 3.1400 - val_accuracy: 0.3995\n",
      "Epoch 56/300\n",
      "313/313 [==============================] - 45s 142ms/step - loss: 0.3853 - accuracy: 0.8641 - val_loss: 3.3521 - val_accuracy: 0.4002\n"
     ]
    },
    {
     "name": "stdout",
     "output_type": "stream",
     "text": [
      "Epoch 57/300\n",
      "313/313 [==============================] - 45s 142ms/step - loss: 0.3793 - accuracy: 0.8649 - val_loss: 3.1451 - val_accuracy: 0.4012\n",
      "Epoch 58/300\n",
      "313/313 [==============================] - 45s 142ms/step - loss: 0.3745 - accuracy: 0.8634 - val_loss: 3.3669 - val_accuracy: 0.3945\n",
      "Epoch 59/300\n",
      "313/313 [==============================] - 45s 142ms/step - loss: 0.3694 - accuracy: 0.8716 - val_loss: 3.3350 - val_accuracy: 0.3907\n",
      "Epoch 60/300\n",
      "313/313 [==============================] - 45s 143ms/step - loss: 0.3530 - accuracy: 0.8758 - val_loss: 3.5949 - val_accuracy: 0.4024\n",
      "Epoch 61/300\n",
      "313/313 [==============================] - 44s 142ms/step - loss: 0.3395 - accuracy: 0.8810 - val_loss: 3.8245 - val_accuracy: 0.3973\n",
      "Epoch 62/300\n",
      "313/313 [==============================] - 45s 142ms/step - loss: 0.3637 - accuracy: 0.8692 - val_loss: 3.6379 - val_accuracy: 0.3974\n",
      "Epoch 63/300\n",
      "313/313 [==============================] - 45s 143ms/step - loss: 0.3434 - accuracy: 0.8771 - val_loss: 3.5264 - val_accuracy: 0.3920\n",
      "Epoch 64/300\n",
      "313/313 [==============================] - 45s 142ms/step - loss: 0.2908 - accuracy: 0.8996 - val_loss: 3.7613 - val_accuracy: 0.3995\n",
      "Epoch 65/300\n",
      "313/313 [==============================] - 45s 143ms/step - loss: 0.3257 - accuracy: 0.8853 - val_loss: 3.5601 - val_accuracy: 0.3928\n",
      "Epoch 66/300\n",
      "313/313 [==============================] - 45s 143ms/step - loss: 0.3320 - accuracy: 0.8813 - val_loss: 3.5419 - val_accuracy: 0.4082\n",
      "Epoch 67/300\n",
      "313/313 [==============================] - 44s 142ms/step - loss: 0.3133 - accuracy: 0.8912 - val_loss: 3.6603 - val_accuracy: 0.4019\n",
      "Epoch 68/300\n",
      "313/313 [==============================] - 45s 142ms/step - loss: 0.3197 - accuracy: 0.8856 - val_loss: 3.6596 - val_accuracy: 0.4024\n",
      "Epoch 69/300\n",
      "313/313 [==============================] - 45s 142ms/step - loss: 0.2865 - accuracy: 0.8998 - val_loss: 3.8410 - val_accuracy: 0.3961\n",
      "Epoch 70/300\n",
      "313/313 [==============================] - 44s 142ms/step - loss: 0.2832 - accuracy: 0.8972 - val_loss: 3.7382 - val_accuracy: 0.3992\n",
      "Epoch 71/300\n",
      "313/313 [==============================] - 45s 142ms/step - loss: 0.2894 - accuracy: 0.8983 - val_loss: 3.7026 - val_accuracy: 0.3974\n",
      "Epoch 72/300\n",
      "313/313 [==============================] - 44s 142ms/step - loss: 0.2722 - accuracy: 0.9034 - val_loss: 3.7191 - val_accuracy: 0.4029\n",
      "Epoch 73/300\n",
      "313/313 [==============================] - 44s 142ms/step - loss: 0.2778 - accuracy: 0.9009 - val_loss: 3.9136 - val_accuracy: 0.3970\n",
      "Epoch 74/300\n",
      "313/313 [==============================] - 45s 143ms/step - loss: 0.2342 - accuracy: 0.9172 - val_loss: 4.0163 - val_accuracy: 0.4058\n",
      "Epoch 75/300\n",
      "313/313 [==============================] - 45s 144ms/step - loss: 0.2399 - accuracy: 0.9149 - val_loss: 3.9486 - val_accuracy: 0.4001\n",
      "Epoch 76/300\n",
      "313/313 [==============================] - 45s 144ms/step - loss: 0.3008 - accuracy: 0.8936 - val_loss: 3.9911 - val_accuracy: 0.3950\n",
      "Epoch 77/300\n",
      "313/313 [==============================] - 45s 143ms/step - loss: 0.2164 - accuracy: 0.9271 - val_loss: 4.1510 - val_accuracy: 0.4030\n",
      "Epoch 78/300\n",
      "313/313 [==============================] - 45s 142ms/step - loss: 0.2151 - accuracy: 0.9236 - val_loss: 4.0396 - val_accuracy: 0.3881\n",
      "Epoch 79/300\n",
      "312/313 [============================>.] - ETA: 0s - loss: 0.2717 - accuracy: 0.9049"
     ]
    },
    {
     "ename": "KeyboardInterrupt",
     "evalue": "",
     "output_type": "error",
     "traceback": [
      "\u001b[0;31m---------------------------------------------------------------------------\u001b[0m",
      "\u001b[0;31mKeyboardInterrupt\u001b[0m                         Traceback (most recent call last)",
      "\u001b[0;32m<ipython-input-111-3c6275d9ba01>\u001b[0m in \u001b[0;36m<module>\u001b[0;34m\u001b[0m\n\u001b[0;32m----> 1\u001b[0;31m history = mm.fit(X_train, y_train, epochs=300, verbose=1,\n\u001b[0m\u001b[1;32m      2\u001b[0m                  validation_data=(X_valid, y_valid))\n",
      "\u001b[0;32m/usr/local/lib/python3.8/dist-packages/tensorflow/python/keras/engine/training.py\u001b[0m in \u001b[0;36m_method_wrapper\u001b[0;34m(self, *args, **kwargs)\u001b[0m\n\u001b[1;32m    106\u001b[0m   \u001b[0;32mdef\u001b[0m \u001b[0m_method_wrapper\u001b[0m\u001b[0;34m(\u001b[0m\u001b[0mself\u001b[0m\u001b[0;34m,\u001b[0m \u001b[0;34m*\u001b[0m\u001b[0margs\u001b[0m\u001b[0;34m,\u001b[0m \u001b[0;34m**\u001b[0m\u001b[0mkwargs\u001b[0m\u001b[0;34m)\u001b[0m\u001b[0;34m:\u001b[0m\u001b[0;34m\u001b[0m\u001b[0;34m\u001b[0m\u001b[0m\n\u001b[1;32m    107\u001b[0m     \u001b[0;32mif\u001b[0m \u001b[0;32mnot\u001b[0m \u001b[0mself\u001b[0m\u001b[0;34m.\u001b[0m\u001b[0m_in_multi_worker_mode\u001b[0m\u001b[0;34m(\u001b[0m\u001b[0;34m)\u001b[0m\u001b[0;34m:\u001b[0m  \u001b[0;31m# pylint: disable=protected-access\u001b[0m\u001b[0;34m\u001b[0m\u001b[0;34m\u001b[0m\u001b[0m\n\u001b[0;32m--> 108\u001b[0;31m       \u001b[0;32mreturn\u001b[0m \u001b[0mmethod\u001b[0m\u001b[0;34m(\u001b[0m\u001b[0mself\u001b[0m\u001b[0;34m,\u001b[0m \u001b[0;34m*\u001b[0m\u001b[0margs\u001b[0m\u001b[0;34m,\u001b[0m \u001b[0;34m**\u001b[0m\u001b[0mkwargs\u001b[0m\u001b[0;34m)\u001b[0m\u001b[0;34m\u001b[0m\u001b[0;34m\u001b[0m\u001b[0m\n\u001b[0m\u001b[1;32m    109\u001b[0m \u001b[0;34m\u001b[0m\u001b[0m\n\u001b[1;32m    110\u001b[0m     \u001b[0;31m# Running inside `run_distribute_coordinator` already.\u001b[0m\u001b[0;34m\u001b[0m\u001b[0;34m\u001b[0m\u001b[0;34m\u001b[0m\u001b[0m\n",
      "\u001b[0;32m/usr/local/lib/python3.8/dist-packages/tensorflow/python/keras/engine/training.py\u001b[0m in \u001b[0;36mfit\u001b[0;34m(self, x, y, batch_size, epochs, verbose, callbacks, validation_split, validation_data, shuffle, class_weight, sample_weight, initial_epoch, steps_per_epoch, validation_steps, validation_batch_size, validation_freq, max_queue_size, workers, use_multiprocessing)\u001b[0m\n\u001b[1;32m   1121\u001b[0m                 \u001b[0mmodel\u001b[0m\u001b[0;34m=\u001b[0m\u001b[0mself\u001b[0m\u001b[0;34m,\u001b[0m\u001b[0;34m\u001b[0m\u001b[0;34m\u001b[0m\u001b[0m\n\u001b[1;32m   1122\u001b[0m                 steps_per_execution=self._steps_per_execution)\n\u001b[0;32m-> 1123\u001b[0;31m           val_logs = self.evaluate(\n\u001b[0m\u001b[1;32m   1124\u001b[0m               \u001b[0mx\u001b[0m\u001b[0;34m=\u001b[0m\u001b[0mval_x\u001b[0m\u001b[0;34m,\u001b[0m\u001b[0;34m\u001b[0m\u001b[0;34m\u001b[0m\u001b[0m\n\u001b[1;32m   1125\u001b[0m               \u001b[0my\u001b[0m\u001b[0;34m=\u001b[0m\u001b[0mval_y\u001b[0m\u001b[0;34m,\u001b[0m\u001b[0;34m\u001b[0m\u001b[0;34m\u001b[0m\u001b[0m\n",
      "\u001b[0;32m/usr/local/lib/python3.8/dist-packages/tensorflow/python/keras/engine/training.py\u001b[0m in \u001b[0;36m_method_wrapper\u001b[0;34m(self, *args, **kwargs)\u001b[0m\n\u001b[1;32m    106\u001b[0m   \u001b[0;32mdef\u001b[0m \u001b[0m_method_wrapper\u001b[0m\u001b[0;34m(\u001b[0m\u001b[0mself\u001b[0m\u001b[0;34m,\u001b[0m \u001b[0;34m*\u001b[0m\u001b[0margs\u001b[0m\u001b[0;34m,\u001b[0m \u001b[0;34m**\u001b[0m\u001b[0mkwargs\u001b[0m\u001b[0;34m)\u001b[0m\u001b[0;34m:\u001b[0m\u001b[0;34m\u001b[0m\u001b[0;34m\u001b[0m\u001b[0m\n\u001b[1;32m    107\u001b[0m     \u001b[0;32mif\u001b[0m \u001b[0;32mnot\u001b[0m \u001b[0mself\u001b[0m\u001b[0;34m.\u001b[0m\u001b[0m_in_multi_worker_mode\u001b[0m\u001b[0;34m(\u001b[0m\u001b[0;34m)\u001b[0m\u001b[0;34m:\u001b[0m  \u001b[0;31m# pylint: disable=protected-access\u001b[0m\u001b[0;34m\u001b[0m\u001b[0;34m\u001b[0m\u001b[0m\n\u001b[0;32m--> 108\u001b[0;31m       \u001b[0;32mreturn\u001b[0m \u001b[0mmethod\u001b[0m\u001b[0;34m(\u001b[0m\u001b[0mself\u001b[0m\u001b[0;34m,\u001b[0m \u001b[0;34m*\u001b[0m\u001b[0margs\u001b[0m\u001b[0;34m,\u001b[0m \u001b[0;34m**\u001b[0m\u001b[0mkwargs\u001b[0m\u001b[0;34m)\u001b[0m\u001b[0;34m\u001b[0m\u001b[0;34m\u001b[0m\u001b[0m\n\u001b[0m\u001b[1;32m    109\u001b[0m \u001b[0;34m\u001b[0m\u001b[0m\n\u001b[1;32m    110\u001b[0m     \u001b[0;31m# Running inside `run_distribute_coordinator` already.\u001b[0m\u001b[0;34m\u001b[0m\u001b[0;34m\u001b[0m\u001b[0;34m\u001b[0m\u001b[0m\n",
      "\u001b[0;32m/usr/local/lib/python3.8/dist-packages/tensorflow/python/keras/engine/training.py\u001b[0m in \u001b[0;36mevaluate\u001b[0;34m(self, x, y, batch_size, verbose, sample_weight, steps, callbacks, max_queue_size, workers, use_multiprocessing, return_dict)\u001b[0m\n\u001b[1;32m   1377\u001b[0m             \u001b[0;32mwith\u001b[0m \u001b[0mtrace\u001b[0m\u001b[0;34m.\u001b[0m\u001b[0mTrace\u001b[0m\u001b[0;34m(\u001b[0m\u001b[0;34m'TraceContext'\u001b[0m\u001b[0;34m,\u001b[0m \u001b[0mgraph_type\u001b[0m\u001b[0;34m=\u001b[0m\u001b[0;34m'test'\u001b[0m\u001b[0;34m,\u001b[0m \u001b[0mstep_num\u001b[0m\u001b[0;34m=\u001b[0m\u001b[0mstep\u001b[0m\u001b[0;34m)\u001b[0m\u001b[0;34m:\u001b[0m\u001b[0;34m\u001b[0m\u001b[0;34m\u001b[0m\u001b[0m\n\u001b[1;32m   1378\u001b[0m               \u001b[0mcallbacks\u001b[0m\u001b[0;34m.\u001b[0m\u001b[0mon_test_batch_begin\u001b[0m\u001b[0;34m(\u001b[0m\u001b[0mstep\u001b[0m\u001b[0;34m)\u001b[0m\u001b[0;34m\u001b[0m\u001b[0;34m\u001b[0m\u001b[0m\n\u001b[0;32m-> 1379\u001b[0;31m               \u001b[0mtmp_logs\u001b[0m \u001b[0;34m=\u001b[0m \u001b[0mtest_function\u001b[0m\u001b[0;34m(\u001b[0m\u001b[0miterator\u001b[0m\u001b[0;34m)\u001b[0m\u001b[0;34m\u001b[0m\u001b[0;34m\u001b[0m\u001b[0m\n\u001b[0m\u001b[1;32m   1380\u001b[0m               \u001b[0;32mif\u001b[0m \u001b[0mdata_handler\u001b[0m\u001b[0;34m.\u001b[0m\u001b[0mshould_sync\u001b[0m\u001b[0;34m:\u001b[0m\u001b[0;34m\u001b[0m\u001b[0;34m\u001b[0m\u001b[0m\n\u001b[1;32m   1381\u001b[0m                 \u001b[0mcontext\u001b[0m\u001b[0;34m.\u001b[0m\u001b[0masync_wait\u001b[0m\u001b[0;34m(\u001b[0m\u001b[0;34m)\u001b[0m\u001b[0;34m\u001b[0m\u001b[0;34m\u001b[0m\u001b[0m\n",
      "\u001b[0;32m/usr/local/lib/python3.8/dist-packages/tensorflow/python/eager/def_function.py\u001b[0m in \u001b[0;36m__call__\u001b[0;34m(self, *args, **kwds)\u001b[0m\n\u001b[1;32m    778\u001b[0m       \u001b[0;32melse\u001b[0m\u001b[0;34m:\u001b[0m\u001b[0;34m\u001b[0m\u001b[0;34m\u001b[0m\u001b[0m\n\u001b[1;32m    779\u001b[0m         \u001b[0mcompiler\u001b[0m \u001b[0;34m=\u001b[0m \u001b[0;34m\"nonXla\"\u001b[0m\u001b[0;34m\u001b[0m\u001b[0;34m\u001b[0m\u001b[0m\n\u001b[0;32m--> 780\u001b[0;31m         \u001b[0mresult\u001b[0m \u001b[0;34m=\u001b[0m \u001b[0mself\u001b[0m\u001b[0;34m.\u001b[0m\u001b[0m_call\u001b[0m\u001b[0;34m(\u001b[0m\u001b[0;34m*\u001b[0m\u001b[0margs\u001b[0m\u001b[0;34m,\u001b[0m \u001b[0;34m**\u001b[0m\u001b[0mkwds\u001b[0m\u001b[0;34m)\u001b[0m\u001b[0;34m\u001b[0m\u001b[0;34m\u001b[0m\u001b[0m\n\u001b[0m\u001b[1;32m    781\u001b[0m \u001b[0;34m\u001b[0m\u001b[0m\n\u001b[1;32m    782\u001b[0m       \u001b[0mnew_tracing_count\u001b[0m \u001b[0;34m=\u001b[0m \u001b[0mself\u001b[0m\u001b[0;34m.\u001b[0m\u001b[0m_get_tracing_count\u001b[0m\u001b[0;34m(\u001b[0m\u001b[0;34m)\u001b[0m\u001b[0;34m\u001b[0m\u001b[0;34m\u001b[0m\u001b[0m\n",
      "\u001b[0;32m/usr/local/lib/python3.8/dist-packages/tensorflow/python/eager/def_function.py\u001b[0m in \u001b[0;36m_call\u001b[0;34m(self, *args, **kwds)\u001b[0m\n\u001b[1;32m    812\u001b[0m       \u001b[0;31m# In this case we have not created variables on the first call. So we can\u001b[0m\u001b[0;34m\u001b[0m\u001b[0;34m\u001b[0m\u001b[0;34m\u001b[0m\u001b[0m\n\u001b[1;32m    813\u001b[0m       \u001b[0;31m# run the first trace but we should fail if variables are created.\u001b[0m\u001b[0;34m\u001b[0m\u001b[0;34m\u001b[0m\u001b[0;34m\u001b[0m\u001b[0m\n\u001b[0;32m--> 814\u001b[0;31m       \u001b[0mresults\u001b[0m \u001b[0;34m=\u001b[0m \u001b[0mself\u001b[0m\u001b[0;34m.\u001b[0m\u001b[0m_stateful_fn\u001b[0m\u001b[0;34m(\u001b[0m\u001b[0;34m*\u001b[0m\u001b[0margs\u001b[0m\u001b[0;34m,\u001b[0m \u001b[0;34m**\u001b[0m\u001b[0mkwds\u001b[0m\u001b[0;34m)\u001b[0m\u001b[0;34m\u001b[0m\u001b[0;34m\u001b[0m\u001b[0m\n\u001b[0m\u001b[1;32m    815\u001b[0m       \u001b[0;32mif\u001b[0m \u001b[0mself\u001b[0m\u001b[0;34m.\u001b[0m\u001b[0m_created_variables\u001b[0m\u001b[0;34m:\u001b[0m\u001b[0;34m\u001b[0m\u001b[0;34m\u001b[0m\u001b[0m\n\u001b[1;32m    816\u001b[0m         raise ValueError(\"Creating variables on a non-first call to a function\"\n",
      "\u001b[0;32m/usr/local/lib/python3.8/dist-packages/tensorflow/python/eager/function.py\u001b[0m in \u001b[0;36m__call__\u001b[0;34m(self, *args, **kwargs)\u001b[0m\n\u001b[1;32m   2827\u001b[0m     \u001b[0;32mwith\u001b[0m \u001b[0mself\u001b[0m\u001b[0;34m.\u001b[0m\u001b[0m_lock\u001b[0m\u001b[0;34m:\u001b[0m\u001b[0;34m\u001b[0m\u001b[0;34m\u001b[0m\u001b[0m\n\u001b[1;32m   2828\u001b[0m       \u001b[0mgraph_function\u001b[0m\u001b[0;34m,\u001b[0m \u001b[0margs\u001b[0m\u001b[0;34m,\u001b[0m \u001b[0mkwargs\u001b[0m \u001b[0;34m=\u001b[0m \u001b[0mself\u001b[0m\u001b[0;34m.\u001b[0m\u001b[0m_maybe_define_function\u001b[0m\u001b[0;34m(\u001b[0m\u001b[0margs\u001b[0m\u001b[0;34m,\u001b[0m \u001b[0mkwargs\u001b[0m\u001b[0;34m)\u001b[0m\u001b[0;34m\u001b[0m\u001b[0;34m\u001b[0m\u001b[0m\n\u001b[0;32m-> 2829\u001b[0;31m     \u001b[0;32mreturn\u001b[0m \u001b[0mgraph_function\u001b[0m\u001b[0;34m.\u001b[0m\u001b[0m_filtered_call\u001b[0m\u001b[0;34m(\u001b[0m\u001b[0margs\u001b[0m\u001b[0;34m,\u001b[0m \u001b[0mkwargs\u001b[0m\u001b[0;34m)\u001b[0m  \u001b[0;31m# pylint: disable=protected-access\u001b[0m\u001b[0;34m\u001b[0m\u001b[0;34m\u001b[0m\u001b[0m\n\u001b[0m\u001b[1;32m   2830\u001b[0m \u001b[0;34m\u001b[0m\u001b[0m\n\u001b[1;32m   2831\u001b[0m   \u001b[0;34m@\u001b[0m\u001b[0mproperty\u001b[0m\u001b[0;34m\u001b[0m\u001b[0;34m\u001b[0m\u001b[0m\n",
      "\u001b[0;32m/usr/local/lib/python3.8/dist-packages/tensorflow/python/eager/function.py\u001b[0m in \u001b[0;36m_filtered_call\u001b[0;34m(self, args, kwargs, cancellation_manager)\u001b[0m\n\u001b[1;32m   1841\u001b[0m       \u001b[0;31m`\u001b[0m\u001b[0margs\u001b[0m\u001b[0;31m`\u001b[0m \u001b[0;32mand\u001b[0m\u001b[0;31m \u001b[0m\u001b[0;31m`\u001b[0m\u001b[0mkwargs\u001b[0m\u001b[0;31m`\u001b[0m\u001b[0;34m.\u001b[0m\u001b[0;34m\u001b[0m\u001b[0;34m\u001b[0m\u001b[0m\n\u001b[1;32m   1842\u001b[0m     \"\"\"\n\u001b[0;32m-> 1843\u001b[0;31m     return self._call_flat(\n\u001b[0m\u001b[1;32m   1844\u001b[0m         [t for t in nest.flatten((args, kwargs), expand_composites=True)\n\u001b[1;32m   1845\u001b[0m          if isinstance(t, (ops.Tensor,\n",
      "\u001b[0;32m/usr/local/lib/python3.8/dist-packages/tensorflow/python/eager/function.py\u001b[0m in \u001b[0;36m_call_flat\u001b[0;34m(self, args, captured_inputs, cancellation_manager)\u001b[0m\n\u001b[1;32m   1921\u001b[0m         and executing_eagerly):\n\u001b[1;32m   1922\u001b[0m       \u001b[0;31m# No tape is watching; skip to running the function.\u001b[0m\u001b[0;34m\u001b[0m\u001b[0;34m\u001b[0m\u001b[0;34m\u001b[0m\u001b[0m\n\u001b[0;32m-> 1923\u001b[0;31m       return self._build_call_outputs(self._inference_function.call(\n\u001b[0m\u001b[1;32m   1924\u001b[0m           ctx, args, cancellation_manager=cancellation_manager))\n\u001b[1;32m   1925\u001b[0m     forward_backward = self._select_forward_and_backward_functions(\n",
      "\u001b[0;32m/usr/local/lib/python3.8/dist-packages/tensorflow/python/eager/function.py\u001b[0m in \u001b[0;36mcall\u001b[0;34m(self, ctx, args, cancellation_manager)\u001b[0m\n\u001b[1;32m    543\u001b[0m       \u001b[0;32mwith\u001b[0m \u001b[0m_InterpolateFunctionError\u001b[0m\u001b[0;34m(\u001b[0m\u001b[0mself\u001b[0m\u001b[0;34m)\u001b[0m\u001b[0;34m:\u001b[0m\u001b[0;34m\u001b[0m\u001b[0;34m\u001b[0m\u001b[0m\n\u001b[1;32m    544\u001b[0m         \u001b[0;32mif\u001b[0m \u001b[0mcancellation_manager\u001b[0m \u001b[0;32mis\u001b[0m \u001b[0;32mNone\u001b[0m\u001b[0;34m:\u001b[0m\u001b[0;34m\u001b[0m\u001b[0;34m\u001b[0m\u001b[0m\n\u001b[0;32m--> 545\u001b[0;31m           outputs = execute.execute(\n\u001b[0m\u001b[1;32m    546\u001b[0m               \u001b[0mstr\u001b[0m\u001b[0;34m(\u001b[0m\u001b[0mself\u001b[0m\u001b[0;34m.\u001b[0m\u001b[0msignature\u001b[0m\u001b[0;34m.\u001b[0m\u001b[0mname\u001b[0m\u001b[0;34m)\u001b[0m\u001b[0;34m,\u001b[0m\u001b[0;34m\u001b[0m\u001b[0;34m\u001b[0m\u001b[0m\n\u001b[1;32m    547\u001b[0m               \u001b[0mnum_outputs\u001b[0m\u001b[0;34m=\u001b[0m\u001b[0mself\u001b[0m\u001b[0;34m.\u001b[0m\u001b[0m_num_outputs\u001b[0m\u001b[0;34m,\u001b[0m\u001b[0;34m\u001b[0m\u001b[0;34m\u001b[0m\u001b[0m\n",
      "\u001b[0;32m/usr/local/lib/python3.8/dist-packages/tensorflow/python/eager/execute.py\u001b[0m in \u001b[0;36mquick_execute\u001b[0;34m(op_name, num_outputs, inputs, attrs, ctx, name)\u001b[0m\n\u001b[1;32m     57\u001b[0m   \u001b[0;32mtry\u001b[0m\u001b[0;34m:\u001b[0m\u001b[0;34m\u001b[0m\u001b[0;34m\u001b[0m\u001b[0m\n\u001b[1;32m     58\u001b[0m     \u001b[0mctx\u001b[0m\u001b[0;34m.\u001b[0m\u001b[0mensure_initialized\u001b[0m\u001b[0;34m(\u001b[0m\u001b[0;34m)\u001b[0m\u001b[0;34m\u001b[0m\u001b[0;34m\u001b[0m\u001b[0m\n\u001b[0;32m---> 59\u001b[0;31m     tensors = pywrap_tfe.TFE_Py_Execute(ctx._handle, device_name, op_name,\n\u001b[0m\u001b[1;32m     60\u001b[0m                                         inputs, attrs, num_outputs)\n\u001b[1;32m     61\u001b[0m   \u001b[0;32mexcept\u001b[0m \u001b[0mcore\u001b[0m\u001b[0;34m.\u001b[0m\u001b[0m_NotOkStatusException\u001b[0m \u001b[0;32mas\u001b[0m \u001b[0me\u001b[0m\u001b[0;34m:\u001b[0m\u001b[0;34m\u001b[0m\u001b[0;34m\u001b[0m\u001b[0m\n",
      "\u001b[0;31mKeyboardInterrupt\u001b[0m: "
     ]
    }
   ],
   "source": [
    "history = mm.fit(X_train, y_train, epochs=300, verbose=1,\n",
    "                 validation_data=(X_valid, y_valid))"
   ]
  },
  {
   "cell_type": "code",
   "execution_count": 113,
   "metadata": {},
   "outputs": [
    {
     "data": {
      "image/png": "[encoded data removed]",
      "text/plain": [
       "<Figure size 576x360 with 1 Axes>"
      ]
     },
     "metadata": {
      "needs_background": "light"
     },
     "output_type": "display_data"
    }
   ],
   "source": [
    "# I should run 100 epochs, and then print this graph. That allows me to check things are going well. If they\n",
    "# are, then we scan run 200 more epochs if needed.\n",
    "\n",
    "import pandas as pd\n",
    "\n",
    "pd.DataFrame(history.history).plot(figsize=(8,5))\n",
    "plt.grid(True)\n",
    "plt.gca().set_ylim(0,1) # Y axis set to [0,1]\n",
    "plt.show()"
   ]
  },
  {
   "cell_type": "markdown",
   "metadata": {},
   "source": [
    "That is severely over-fitting. Training data accuracy is 92% but validation accuracy is about 40%. Stopping this now."
   ]
  },
  {
   "cell_type": "markdown",
   "metadata": {},
   "source": [
    "Let's try increasing the batch size. By default, model.fit() uses a [batch size of 32](https://www.tensorflow.org/api_docs/python/tf/keras/Model), and we can try increasing this. Also looks like the learning rate is too low.\n",
    "\n",
    "Also, let's use L2 regularization to avoid overfitting"
   ]
  },
  {
   "cell_type": "code",
   "execution_count": 114,
   "metadata": {},
   "outputs": [
    {
     "name": "stdout",
     "output_type": "stream",
     "text": [
      "Model built:  <tensorflow.python.keras.engine.sequential.Sequential object at 0x7f8fc25c54f0>\n"
     ]
    }
   ],
   "source": [
    "from sklearn.base import clone\n",
    "\n",
    "def create_keras_classifier_model(n_classes=100):\n",
    "    \"\"\"Keras multinomial logistic regression creation model\n",
    " \n",
    "    Args:\n",
    "        n_classes(int): Number of classes to be classified\n",
    " \n",
    "    Returns:\n",
    "        Compiled keras model\n",
    " \n",
    "    \"\"\"\n",
    "    # create model\n",
    "    model = keras.models.Sequential()\n",
    "    \n",
    "    # The input: we get 32x32 pixels, each with 3 colors (rgb)\n",
    "    model.add(keras.layers.Flatten(input_shape=[32,32,3]))\n",
    "    # Then the hidden layers, fully connected (100 by default)\n",
    "    for i in range(20):\n",
    "        model.add(keras.layers.Dense(\n",
    "            n_classes, \n",
    "            activation=\"elu\",\n",
    "            kernel_initializer=tf.keras.initializers.HeNormal(),\n",
    "            kernel_regularizer=tf.keras.regularizers.l2(0.01),\n",
    "        ))\n",
    "    # Now add the output layer: 10 classes in CIFAR10, so 10 outputs.\n",
    "    model.add(keras.layers.Dense(10, activation=\"softmax\"))\n",
    "\n",
    "    # print(model.summary())\n",
    "    # Compile model\n",
    "    nadam = keras.optimizers.Nadam(learning_rate=0.0001, beta_1=0.9, beta_2=0.999, epsilon=1e-07)\n",
    "\n",
    "    model.compile(\n",
    "        loss=\"sparse_categorical_crossentropy\", \n",
    "        optimizer=nadam,\n",
    "        metrics=[\"accuracy\"]\n",
    "    )\n",
    "    return model\n",
    "\n",
    "# Clear the errors, in case we observe them in the long run.\n",
    "viki_stack_trace = ''\n",
    "\n",
    "mm2 = create_keras_classifier_model(100)\n",
    "print (\"Model built: \", mm)"
   ]
  },
  {
   "cell_type": "code",
   "execution_count": 115,
   "metadata": {},
   "outputs": [
    {
     "name": "stdout",
     "output_type": "stream",
     "text": [
      "Epoch 1/100\n",
      "239/239 [==============================] - 47s 195ms/step - loss: 41.3250 - accuracy: 0.2097 - val_loss: 40.1171 - val_accuracy: 0.2076\n",
      "Epoch 2/100\n",
      "239/239 [==============================] - 43s 179ms/step - loss: 38.6378 - accuracy: 0.2952 - val_loss: 37.5655 - val_accuracy: 0.2166\n",
      "Epoch 3/100\n",
      "239/239 [==============================] - 46s 192ms/step - loss: 36.0718 - accuracy: 0.3278 - val_loss: 35.4213 - val_accuracy: 0.1645\n",
      "Epoch 4/100\n",
      "239/239 [==============================] - 45s 189ms/step - loss: 33.6465 - accuracy: 0.3514 - val_loss: 32.7742 - val_accuracy: 0.2799\n",
      "Epoch 5/100\n",
      "239/239 [==============================] - 43s 178ms/step - loss: 31.4061 - accuracy: 0.3657 - val_loss: 30.8720 - val_accuracy: 0.2037\n",
      "Epoch 6/100\n",
      "239/239 [==============================] - 43s 178ms/step - loss: 29.3501 - accuracy: 0.3825 - val_loss: 28.5429 - val_accuracy: 0.3088\n",
      "Epoch 7/100\n",
      "239/239 [==============================] - 43s 179ms/step - loss: 27.4554 - accuracy: 0.3967 - val_loss: 26.8323 - val_accuracy: 0.2799\n",
      "Epoch 8/100\n",
      "239/239 [==============================] - 42s 178ms/step - loss: 25.7117 - accuracy: 0.4066 - val_loss: 25.3276 - val_accuracy: 0.2936\n",
      "Epoch 9/100\n",
      "239/239 [==============================] - 43s 178ms/step - loss: 24.1010 - accuracy: 0.4202 - val_loss: 23.5022 - val_accuracy: 0.3477\n",
      "Epoch 10/100\n",
      "239/239 [==============================] - 43s 178ms/step - loss: 22.6074 - accuracy: 0.4239 - val_loss: 22.3652 - val_accuracy: 0.2527\n",
      "Epoch 11/100\n",
      "239/239 [==============================] - 43s 178ms/step - loss: 21.2165 - accuracy: 0.4263 - val_loss: 21.1245 - val_accuracy: 0.2335\n",
      "Epoch 12/100\n",
      "239/239 [==============================] - 43s 178ms/step - loss: 19.9201 - accuracy: 0.4260 - val_loss: 19.4054 - val_accuracy: 0.3824\n",
      "Epoch 13/100\n",
      "239/239 [==============================] - 42s 178ms/step - loss: 18.6821 - accuracy: 0.4379 - val_loss: 18.2093 - val_accuracy: 0.3848\n",
      "Epoch 14/100\n",
      "239/239 [==============================] - 43s 178ms/step - loss: 17.5315 - accuracy: 0.4325 - val_loss: 17.1110 - val_accuracy: 0.3822\n",
      "Epoch 15/100\n",
      "239/239 [==============================] - 43s 178ms/step - loss: 16.4470 - accuracy: 0.4433 - val_loss: 16.2098 - val_accuracy: 0.3277\n",
      "Epoch 16/100\n",
      "239/239 [==============================] - 42s 178ms/step - loss: 15.4326 - accuracy: 0.4358 - val_loss: 15.0842 - val_accuracy: 0.3794\n",
      "Epoch 17/100\n",
      "239/239 [==============================] - 43s 178ms/step - loss: 14.4647 - accuracy: 0.4349 - val_loss: 14.4008 - val_accuracy: 0.3241\n",
      "Epoch 18/100\n",
      "239/239 [==============================] - 43s 180ms/step - loss: 13.5614 - accuracy: 0.4347 - val_loss: 13.4087 - val_accuracy: 0.3482\n",
      "Epoch 19/100\n",
      "239/239 [==============================] - 42s 178ms/step - loss: 12.7164 - accuracy: 0.4458 - val_loss: 12.4526 - val_accuracy: 0.3778\n",
      "Epoch 20/100\n",
      "239/239 [==============================] - 43s 178ms/step - loss: 11.9239 - accuracy: 0.4417 - val_loss: 11.6494 - val_accuracy: 0.4009\n",
      "Epoch 21/100\n",
      "239/239 [==============================] - 42s 178ms/step - loss: 11.1852 - accuracy: 0.4454 - val_loss: 11.3610 - val_accuracy: 0.2758\n",
      "Epoch 22/100\n",
      "239/239 [==============================] - 42s 178ms/step - loss: 10.5023 - accuracy: 0.4382 - val_loss: 10.4205 - val_accuracy: 0.3512\n",
      "Epoch 23/100\n",
      "239/239 [==============================] - 43s 178ms/step - loss: 9.8612 - accuracy: 0.4445 - val_loss: 10.2738 - val_accuracy: 0.2145\n",
      "Epoch 24/100\n",
      "239/239 [==============================] - 42s 178ms/step - loss: 9.2790 - accuracy: 0.4406 - val_loss: 9.1721 - val_accuracy: 0.3742\n",
      "Epoch 25/100\n",
      "239/239 [==============================] - 42s 178ms/step - loss: 8.7315 - accuracy: 0.4414 - val_loss: 8.8261 - val_accuracy: 0.3333\n",
      "Epoch 26/100\n",
      "239/239 [==============================] - 42s 178ms/step - loss: 8.2299 - accuracy: 0.4356 - val_loss: 8.2056 - val_accuracy: 0.3387\n",
      "Epoch 27/100\n",
      "239/239 [==============================] - 43s 178ms/step - loss: 7.7655 - accuracy: 0.4409 - val_loss: 7.8536 - val_accuracy: 0.3596\n",
      "Epoch 28/100\n",
      "239/239 [==============================] - 42s 178ms/step - loss: 7.3483 - accuracy: 0.4327 - val_loss: 7.4693 - val_accuracy: 0.3428\n",
      "Epoch 29/100\n",
      "239/239 [==============================] - 43s 178ms/step - loss: 6.9642 - accuracy: 0.4385 - val_loss: 6.9050 - val_accuracy: 0.3826\n",
      "Epoch 30/100\n",
      "239/239 [==============================] - 42s 178ms/step - loss: 6.6065 - accuracy: 0.4365 - val_loss: 6.8680 - val_accuracy: 0.2948\n",
      "Epoch 31/100\n",
      "239/239 [==============================] - 42s 178ms/step - loss: 6.2838 - accuracy: 0.4344 - val_loss: 6.5205 - val_accuracy: 0.3368\n",
      "Epoch 32/100\n",
      "239/239 [==============================] - 43s 178ms/step - loss: 5.9765 - accuracy: 0.4426 - val_loss: 6.0666 - val_accuracy: 0.3561\n",
      "Epoch 33/100\n",
      "239/239 [==============================] - 43s 178ms/step - loss: 5.2132 - accuracy: 0.4476 - val_loss: 5.3126 - val_accuracy: 0.3524\n",
      "Epoch 36/100\n",
      "239/239 [==============================] - 42s 177ms/step - loss: 5.0063 - accuracy: 0.4457 - val_loss: 5.4693 - val_accuracy: 0.2840\n",
      "Epoch 37/100\n",
      "239/239 [==============================] - 42s 177ms/step - loss: 4.8123 - accuracy: 0.4394 - val_loss: 5.1330 - val_accuracy: 0.2933\n",
      "Epoch 38/100\n",
      "239/239 [==============================] - 42s 177ms/step - loss: 4.6394 - accuracy: 0.4452 - val_loss: 4.7250 - val_accuracy: 0.3760\n",
      "Epoch 39/100\n",
      "239/239 [==============================] - 42s 177ms/step - loss: 4.4789 - accuracy: 0.4471 - val_loss: 4.6223 - val_accuracy: 0.3673\n",
      "Epoch 40/100\n",
      "239/239 [==============================] - 42s 177ms/step - loss: 4.3279 - accuracy: 0.4447 - val_loss: 4.5113 - val_accuracy: 0.3615\n",
      "Epoch 41/100\n",
      "239/239 [==============================] - 42s 177ms/step - loss: 4.1975 - accuracy: 0.4534 - val_loss: 4.4967 - val_accuracy: 0.3347\n",
      "Epoch 42/100\n",
      "239/239 [==============================] - 42s 177ms/step - loss: 4.0812 - accuracy: 0.4572 - val_loss: 4.5499 - val_accuracy: 0.3182\n",
      "Epoch 43/100\n",
      "239/239 [==============================] - 42s 177ms/step - loss: 3.9726 - accuracy: 0.4534 - val_loss: 4.3050 - val_accuracy: 0.3350\n",
      "Epoch 44/100\n",
      "239/239 [==============================] - 42s 177ms/step - loss: 3.8755 - accuracy: 0.4510 - val_loss: 4.1923 - val_accuracy: 0.3194\n",
      "Epoch 45/100\n",
      "239/239 [==============================] - 42s 177ms/step - loss: 3.7838 - accuracy: 0.4565 - val_loss: 4.4712 - val_accuracy: 0.2677\n",
      "Epoch 46/100\n",
      "239/239 [==============================] - 42s 177ms/step - loss: 3.7074 - accuracy: 0.4577 - val_loss: 3.8994 - val_accuracy: 0.3746\n",
      "Epoch 47/100\n",
      "239/239 [==============================] - 42s 177ms/step - loss: 3.6259 - accuracy: 0.4561 - val_loss: 3.9159 - val_accuracy: 0.3426\n",
      "Epoch 48/100\n",
      "239/239 [==============================] - 42s 177ms/step - loss: 3.5615 - accuracy: 0.4587 - val_loss: 3.8758 - val_accuracy: 0.3282\n",
      "Epoch 49/100\n",
      "239/239 [==============================] - 42s 177ms/step - loss: 3.4978 - accuracy: 0.4610 - val_loss: 4.0124 - val_accuracy: 0.3050\n",
      "Epoch 50/100\n",
      "239/239 [==============================] - 42s 177ms/step - loss: 3.4424 - accuracy: 0.4624 - val_loss: 3.6036 - val_accuracy: 0.3948\n",
      "Epoch 51/100\n",
      "239/239 [==============================] - 42s 177ms/step - loss: 3.3857 - accuracy: 0.4659 - val_loss: 3.6697 - val_accuracy: 0.3547\n",
      "Epoch 52/100\n",
      "239/239 [==============================] - 42s 177ms/step - loss: 3.3385 - accuracy: 0.4627 - val_loss: 3.6414 - val_accuracy: 0.3423\n",
      "Epoch 53/100\n",
      "239/239 [==============================] - 42s 177ms/step - loss: 3.2942 - accuracy: 0.4620 - val_loss: 3.5042 - val_accuracy: 0.3759\n",
      "Epoch 54/100\n",
      "239/239 [==============================] - 42s 177ms/step - loss: 3.2517 - accuracy: 0.4632 - val_loss: 3.6606 - val_accuracy: 0.3604\n",
      "Epoch 55/100\n",
      "239/239 [==============================] - 42s 177ms/step - loss: 3.2097 - accuracy: 0.4674 - val_loss: 3.7491 - val_accuracy: 0.3065\n",
      "Epoch 56/100\n",
      "239/239 [==============================] - 42s 177ms/step - loss: 3.1795 - accuracy: 0.4734 - val_loss: 3.7120 - val_accuracy: 0.3245\n",
      "Epoch 57/100\n",
      "239/239 [==============================] - 42s 177ms/step - loss: 3.1398 - accuracy: 0.4689 - val_loss: 3.3766 - val_accuracy: 0.3901\n",
      "Epoch 58/100\n",
      "239/239 [==============================] - 42s 177ms/step - loss: 3.1072 - accuracy: 0.4754 - val_loss: 3.4209 - val_accuracy: 0.3496\n",
      "Epoch 59/100\n",
      "239/239 [==============================] - 42s 177ms/step - loss: 3.0816 - accuracy: 0.4700 - val_loss: 3.5708 - val_accuracy: 0.3304\n",
      "Epoch 60/100\n",
      "239/239 [==============================] - 42s 177ms/step - loss: 3.0519 - accuracy: 0.4804 - val_loss: 3.3540 - val_accuracy: 0.3717\n",
      "Epoch 61/100\n",
      "239/239 [==============================] - 42s 178ms/step - loss: 3.0270 - accuracy: 0.4754 - val_loss: 3.7981 - val_accuracy: 0.2681\n",
      "Epoch 62/100\n",
      "239/239 [==============================] - 42s 177ms/step - loss: 3.0026 - accuracy: 0.4780 - val_loss: 3.2716 - val_accuracy: 0.3779\n",
      "Epoch 63/100\n",
      "239/239 [==============================] - 42s 177ms/step - loss: 2.9723 - accuracy: 0.4811 - val_loss: 3.2095 - val_accuracy: 0.3953\n",
      "Epoch 64/100\n",
      "239/239 [==============================] - 42s 177ms/step - loss: 2.9506 - accuracy: 0.4824 - val_loss: 3.1946 - val_accuracy: 0.3951\n",
      "Epoch 65/100\n",
      "239/239 [==============================] - 42s 177ms/step - loss: 2.9274 - accuracy: 0.4891 - val_loss: 3.5735 - val_accuracy: 0.2981\n",
      "Epoch 66/100\n",
      "239/239 [==============================] - 42s 177ms/step - loss: 2.9169 - accuracy: 0.4764 - val_loss: 3.2706 - val_accuracy: 0.3683\n",
      "Epoch 67/100\n",
      "239/239 [==============================] - 42s 177ms/step - loss: 2.8911 - accuracy: 0.4825 - val_loss: 3.2878 - val_accuracy: 0.3598\n",
      "Epoch 68/100\n",
      "239/239 [==============================] - 42s 177ms/step - loss: 2.8740 - accuracy: 0.4843 - val_loss: 3.1629 - val_accuracy: 0.3844\n",
      "Epoch 69/100\n",
      "239/239 [==============================] - 42s 177ms/step - loss: 2.8556 - accuracy: 0.4885 - val_loss: 3.6709 - val_accuracy: 0.3061\n",
      "Epoch 70/100\n",
      "239/239 [==============================] - 42s 177ms/step - loss: 2.8419 - accuracy: 0.4836 - val_loss: 3.2718 - val_accuracy: 0.3481\n",
      "Epoch 71/100\n",
      "239/239 [==============================] - 42s 177ms/step - loss: 2.8195 - accuracy: 0.4881 - val_loss: 3.1614 - val_accuracy: 0.3788\n",
      "Epoch 72/100\n",
      "239/239 [==============================] - 42s 176ms/step - loss: 2.8085 - accuracy: 0.4877 - val_loss: 3.0456 - val_accuracy: 0.4116\n",
      "Epoch 73/100\n",
      "239/239 [==============================] - 42s 177ms/step - loss: 2.7871 - accuracy: 0.4898 - val_loss: 3.5265 - val_accuracy: 0.2996\n",
      "Epoch 74/100\n",
      "239/239 [==============================] - 42s 177ms/step - loss: 2.7777 - accuracy: 0.4970 - val_loss: 3.1018 - val_accuracy: 0.3774\n",
      "Epoch 75/100\n",
      "239/239 [==============================] - 42s 177ms/step - loss: 2.7626 - accuracy: 0.4881 - val_loss: 3.1573 - val_accuracy: 0.3645\n",
      "Epoch 76/100\n",
      "239/239 [==============================] - 42s 177ms/step - loss: 2.7469 - accuracy: 0.4943 - val_loss: 3.3026 - val_accuracy: 0.3293\n",
      "Epoch 77/100\n",
      "239/239 [==============================] - 42s 177ms/step - loss: 2.7332 - accuracy: 0.4908 - val_loss: 3.0256 - val_accuracy: 0.4035\n",
      "Epoch 78/100\n",
      "239/239 [==============================] - 42s 177ms/step - loss: 2.7208 - accuracy: 0.5043 - val_loss: 3.0463 - val_accuracy: 0.3920\n",
      "Epoch 79/100\n",
      "239/239 [==============================] - 42s 177ms/step - loss: 2.7127 - accuracy: 0.4990 - val_loss: 3.0637 - val_accuracy: 0.3842\n",
      "Epoch 80/100\n",
      "239/239 [==============================] - 42s 177ms/step - loss: 2.6967 - accuracy: 0.4988 - val_loss: 3.1513 - val_accuracy: 0.3629\n",
      "Epoch 81/100\n",
      "239/239 [==============================] - 42s 177ms/step - loss: 2.6902 - accuracy: 0.5089 - val_loss: 3.1115 - val_accuracy: 0.3792\n",
      "Epoch 82/100\n",
      "239/239 [==============================] - 42s 177ms/step - loss: 2.6797 - accuracy: 0.4974 - val_loss: 3.3476 - val_accuracy: 0.3079\n",
      "Epoch 83/100\n",
      "239/239 [==============================] - 42s 177ms/step - loss: 2.6705 - accuracy: 0.4993 - val_loss: 2.9847 - val_accuracy: 0.4001\n",
      "Epoch 84/100\n",
      "239/239 [==============================] - 42s 177ms/step - loss: 2.6545 - accuracy: 0.5004 - val_loss: 3.3598 - val_accuracy: 0.3079\n",
      "Epoch 85/100\n",
      "239/239 [==============================] - 42s 177ms/step - loss: 2.6434 - accuracy: 0.5084 - val_loss: 3.1736 - val_accuracy: 0.3586\n",
      "Epoch 86/100\n",
      "239/239 [==============================] - 42s 177ms/step - loss: 2.6400 - accuracy: 0.5066 - val_loss: 3.4746 - val_accuracy: 0.3073\n",
      "Epoch 87/100\n",
      "239/239 [==============================] - 42s 177ms/step - loss: 2.6290 - accuracy: 0.5074 - val_loss: 3.0656 - val_accuracy: 0.3783\n",
      "Epoch 88/100\n",
      "239/239 [==============================] - 42s 177ms/step - loss: 2.6157 - accuracy: 0.5092 - val_loss: 2.9747 - val_accuracy: 0.3916\n",
      "Epoch 89/100\n",
      "239/239 [==============================] - 43s 179ms/step - loss: 2.6048 - accuracy: 0.5143 - val_loss: 3.3659 - val_accuracy: 0.2973\n",
      "Epoch 90/100\n",
      "239/239 [==============================] - 43s 178ms/step - loss: 2.6028 - accuracy: 0.5093 - val_loss: 3.0933 - val_accuracy: 0.3591\n",
      "Epoch 91/100\n",
      "239/239 [==============================] - 42s 177ms/step - loss: 2.5866 - accuracy: 0.5166 - val_loss: 2.9712 - val_accuracy: 0.3954\n",
      "Epoch 92/100\n",
      "239/239 [==============================] - 42s 177ms/step - loss: 2.5782 - accuracy: 0.5129 - val_loss: 3.8892 - val_accuracy: 0.2781\n",
      "Epoch 93/100\n",
      "239/239 [==============================] - 42s 177ms/step - loss: 2.5855 - accuracy: 0.5104 - val_loss: 3.0952 - val_accuracy: 0.3661\n",
      "Epoch 94/100\n",
      "239/239 [==============================] - 43s 178ms/step - loss: 2.5680 - accuracy: 0.5168 - val_loss: 2.9187 - val_accuracy: 0.4023\n",
      "Epoch 95/100\n",
      "239/239 [==============================] - 42s 177ms/step - loss: 2.5556 - accuracy: 0.5225 - val_loss: 2.9621 - val_accuracy: 0.3919\n",
      "Epoch 96/100\n",
      "239/239 [==============================] - 42s 177ms/step - loss: 2.5513 - accuracy: 0.5191 - val_loss: 3.1153 - val_accuracy: 0.3458\n",
      "Epoch 97/100\n",
      "239/239 [==============================] - 42s 177ms/step - loss: 2.5461 - accuracy: 0.5190 - val_loss: 3.0736 - val_accuracy: 0.3640\n",
      "Epoch 98/100\n",
      "239/239 [==============================] - 42s 177ms/step - loss: 2.5443 - accuracy: 0.5167 - val_loss: 3.0650 - val_accuracy: 0.3661\n",
      "Epoch 99/100\n",
      "239/239 [==============================] - 42s 177ms/step - loss: 2.5334 - accuracy: 0.5230 - val_loss: 3.4100 - val_accuracy: 0.2849\n",
      "Epoch 100/100\n",
      "239/239 [==============================] - 42s 177ms/step - loss: 2.5299 - accuracy: 0.5147 - val_loss: 3.4898 - val_accuracy: 0.2990\n"
     ]
    }
   ],
   "source": [
    "history2_bigbatch = mm2.fit(X_train, y_train, epochs=100, verbose=1,\n",
    "                 batch_size=42,\n",
    "                 validation_data=(X_valid, y_valid))"
   ]
  },
  {
   "cell_type": "code",
   "execution_count": 116,
   "metadata": {},
   "outputs": [
    {
     "data": {
      "image/png": "[encoded data removed]",
      "text/plain": [
       "<Figure size 576x360 with 1 Axes>"
      ]
     },
     "metadata": {
      "needs_background": "light"
     },
     "output_type": "display_data"
    }
   ],
   "source": [
    "import pandas as pd\n",
    "\n",
    "pd.DataFrame(history2_bigbatch.history).plot(figsize=(8,5))\n",
    "plt.grid(True)\n",
    "plt.gca().set_ylim(0,1) # Y axis set to [0,1]\n",
    "plt.show()"
   ]
  },
  {
   "cell_type": "markdown",
   "metadata": {},
   "source": [
    "Let's train for 200 more epochs, though it isn't goingo to improve."
   ]
  },
  {
   "cell_type": "code",
   "execution_count": null,
   "metadata": {},
   "outputs": [],
   "source": [
    "history2_bigbatch = mm2.fit(X_train, y_train, epochs=200, verbose=0,\n",
    "                 batch_size=32,\n",
    "                 validation_data=(X_valid, y_valid))"
   ]
  },
  {
   "cell_type": "code",
   "execution_count": 118,
   "metadata": {},
   "outputs": [
    {
     "data": {
      "image/png": "[encoded data removed]",
      "text/plain": [
       "<Figure size 576x360 with 1 Axes>"
      ]
     },
     "metadata": {
      "needs_background": "light"
     },
     "output_type": "display_data"
    }
   ],
   "source": [
    "import pandas as pd\n",
    "\n",
    "pd.DataFrame(history2_bigbatch.history).plot(figsize=(8,5))\n",
    "plt.grid(True)\n",
    "plt.gca().set_ylim(0,1) # Y axis set to [0,1]\n",
    "plt.show()"
   ]
  },
  {
   "cell_type": "markdown",
   "metadata": {},
   "source": [
    "This is a mess. No real convergence, and the model overfits the training data, even with regularization. Maybe the point is that this doesn't work so well? Let's continue with the rest of the exercises and revisit this in the end if nothing converges."
   ]
  },
  {
   "cell_type": "code",
   "execution_count": null,
   "metadata": {},
   "outputs": [
    {
     "name": "stdout",
     "output_type": "stream",
     "text": [
      "Model built:  <tensorflow.python.keras.engine.sequential.Sequential object at 0x7fb8d412f310>\n"
     ]
    }
   ],
   "source": [
    "from sklearn.base import clone\n",
    "\n",
    "def create_keras_classifier_model(n_classes=100):\n",
    "    \"\"\"Keras multinomial logistic regression creation model\n",
    " \n",
    "    Args:\n",
    "        n_classes(int): Number of classes to be classified\n",
    " \n",
    "    Returns:\n",
    "        Compiled keras model\n",
    " \n",
    "    \"\"\"\n",
    "    # create model\n",
    "    model = keras.models.Sequential()\n",
    "    \n",
    "    # The input: we get 32x32 pixels, each with 3 colors (rgb)\n",
    "    model.add(keras.layers.Flatten(input_shape=[32,32,3]))\n",
    "    # Then the hidden layers, fully connected (100 by default)\n",
    "    for i in range(20):\n",
    "        model.add(keras.layers.Dense(\n",
    "            n_classes, \n",
    "            activation=\"elu\",\n",
    "            kernel_initializer=tf.keras.initializers.HeNormal(),\n",
    "            kernel_regularizer=tf.keras.regularizers.l2(0.01),\n",
    "        ))\n",
    "        model.add(keras.layers.BatchNormalization())\n",
    "    # Now add the output layer: 10 classes in CIFAR10, so 10 outputs.\n",
    "    model.add(keras.layers.Dense(10, activation=\"softmax\"))\n",
    "\n",
    "    # print(model.summary())\n",
    "    # Compile model\n",
    "    nadam = keras.optimizers.Nadam(learning_rate=0.0001, beta_1=0.9, beta_2=0.999, epsilon=1e-07)\n",
    "\n",
    "    model.compile(\n",
    "        loss=\"sparse_categorical_crossentropy\", \n",
    "        optimizer=nadam,\n",
    "        metrics=[\"accuracy\"]\n",
    "    )\n",
    "    return model\n",
    "\n",
    "# Clear the errors, in case we observe them in the long run.\n",
    "viki_stack_trace = ''\n",
    "\n",
    "# Got to remember them. mm_bn is the model with Batch normalization\n",
    "mm_bn = create_keras_classifier_model(100)\n",
    "print (\"Model built: \", mm_bn)\n",
    "\n",
    "history_bn = mm_bn.fit(X_train, y_train, epochs=100, verbose=0,\n",
    "                 batch_size=32,\n",
    "                 validation_data=(X_valid, y_valid))"
   ]
  },
  {
   "cell_type": "code",
   "execution_count": 11,
   "metadata": {},
   "outputs": [
    {
     "data": {
      "image/png": "[encoded data removed]",
      "text/plain": [
       "<Figure size 576x360 with 1 Axes>"
      ]
     },
     "metadata": {
      "needs_background": "light"
     },
     "output_type": "display_data"
    }
   ],
   "source": [
    "import pandas as pd\n",
    "\n",
    "pd.DataFrame(history_bn.history).plot(figsize=(8,5))\n",
    "plt.grid(True)\n",
    "plt.gca().set_ylim(0,1) # Y axis set to [0,1]\n",
    "plt.show()"
   ]
  },
  {
   "cell_type": "markdown",
   "metadata": {
    "collapsed": true
   },
   "source": [
    "Build a model with Batch normalization before the layers, because that is supposed to be better."
   ]
  },
  {
   "cell_type": "code",
   "execution_count": null,
   "metadata": {},
   "outputs": [
    {
     "name": "stdout",
     "output_type": "stream",
     "text": [
      "Model built:  <tensorflow.python.keras.engine.sequential.Sequential object at 0x7fb8a867b280>\n"
     ]
    }
   ],
   "source": [
    "from sklearn.base import clone\n",
    "\n",
    "def create_keras_classifier_model(n_classes=100):\n",
    "    \"\"\"Keras multinomial logistic regression creation model\n",
    " \n",
    "    Args:\n",
    "        n_classes(int): Number of classes to be classified\n",
    " \n",
    "    Returns:\n",
    "        Compiled keras model\n",
    " \n",
    "    \"\"\"\n",
    "    # create model\n",
    "    model = keras.models.Sequential()\n",
    "    \n",
    "    # The input: we get 32x32 pixels, each with 3 colors (rgb)\n",
    "    model.add(keras.layers.Flatten(input_shape=[32,32,3]))\n",
    "    # Batch normalization after the input output.\n",
    "    model.add(keras.layers.BatchNormalization())\n",
    "\n",
    "        \n",
    "    # Then the hidden layers, fully connected (100 by default)\n",
    "    for i in range(20):\n",
    "        model.add(keras.layers.Dense(\n",
    "            n_classes, \n",
    "            kernel_initializer=tf.keras.initializers.HeNormal(),\n",
    "        ))\n",
    "        model.add(keras.layers.BatchNormalization())\n",
    "        model.add(keras.layers.Activation(\"elu\"))\n",
    "\n",
    "    # Now add the output layer: 10 classes in CIFAR10, so 10 outputs.\n",
    "    model.add(keras.layers.Dense(10, activation=\"softmax\"))\n",
    "\n",
    "    # print(model.summary())\n",
    "    # Compile model\n",
    "    nadam = keras.optimizers.Nadam(learning_rate=0.0001, beta_1=0.9, beta_2=0.999, epsilon=1e-07)\n",
    "\n",
    "    model.compile(\n",
    "        loss=\"sparse_categorical_crossentropy\", \n",
    "        optimizer=nadam,\n",
    "        metrics=[\"accuracy\"]\n",
    "    )\n",
    "    return model\n",
    "\n",
    "# Clear the errors, in case we observe them in the long run.\n",
    "viki_stack_trace = ''\n",
    "\n",
    "# Got to remember them. mm_bn is the model with Batch normalization\n",
    "mm_bn2 = create_keras_classifier_model(100)\n",
    "print (\"Model built: \", mm_bn2)\n",
    "\n",
    "history_bn2 = mm_bn2.fit(X_train, y_train, epochs=100, verbose=0,\n",
    "                 batch_size=32,\n",
    "                 validation_data=(X_valid, y_valid))"
   ]
  },
  {
   "cell_type": "code",
   "execution_count": 15,
   "metadata": {},
   "outputs": [
    {
     "data": {
      "image/png": "[encoded data removed]",
      "text/plain": [
       "<Figure size 576x360 with 1 Axes>"
      ]
     },
     "metadata": {
      "needs_background": "light"
     },
     "output_type": "display_data"
    }
   ],
   "source": [
    "import pandas as pd\n",
    "\n",
    "pd.DataFrame(history_bn2.history).plot(figsize=(8,5))\n",
    "plt.grid(True)\n",
    "plt.gca().set_ylim(0,1) # Y axis set to [0,1]\n",
    "plt.show()"
   ]
  },
  {
   "cell_type": "markdown",
   "metadata": {},
   "source": [
    "Using selu and seeing if it self normalizes."
   ]
  },
  {
   "cell_type": "code",
   "execution_count": 17,
   "metadata": {},
   "outputs": [
    {
     "name": "stdout",
     "output_type": "stream",
     "text": [
      "(2, 32, 32, 3)\n",
      "(2, 3072)\n",
      "[0.4        0.39607843 0.38823529]\n",
      "[0.4        0.39607843 0.38823529 0.49019608 0.51372549 0.54509804\n",
      " 0.60784314 0.65098039 0.70588235]\n"
     ]
    }
   ],
   "source": [
    "# Learning reshape.\n",
    "\n",
    "X_few = X_train[:2]\n",
    "print(X_few.shape)\n",
    "\n",
    "# Flatten out each row, using C ordering where the right-most index (lowest index) is the one to increase the\n",
    "# first, then the next one. The alternative is 'F'ortran ordering, where the left-most index (highest index)\n",
    "# increases first. Since our observations are X[0][:], X[1], [:], and so on, we want C ordering. This is also\n",
    "# the default, but forcing it to ensure I understand this in the future.\n",
    "X_reshaped = X_few.reshape((2,3072), order='C')\n",
    "print(X_reshaped.shape)\n",
    "\n",
    "print (X_few[1][0][3][:])\n",
    "print (X_reshaped[1][9:18])"
   ]
  },
  {
   "cell_type": "code",
   "execution_count": 18,
   "metadata": {},
   "outputs": [
    {
     "name": "stdout",
     "output_type": "stream",
     "text": [
      "(40000, 32, 32, 3)\n",
      "(10000, 32, 32, 3)\n",
      "(10000, 32, 32, 3)\n"
     ]
    }
   ],
   "source": [
    "print(X_train.shape)\n",
    "print(X_valid.shape)\n",
    "print(testX.shape)"
   ]
  },
  {
   "cell_type": "code",
   "execution_count": 11,
   "metadata": {},
   "outputs": [
    {
     "name": "stdout",
     "output_type": "stream",
     "text": [
      "Model built:  <tensorflow.python.keras.engine.sequential.Sequential object at 0x7f3aa867a3a0>\n"
     ]
    }
   ],
   "source": [
    "from sklearn.base import clone\n",
    "\n",
    "def create_keras_classifier_model(n_classes=100):\n",
    "    \"\"\"Keras multinomial logistic regression creation model\n",
    " \n",
    "    Args:\n",
    "        n_classes(int): Number of classes to be classified\n",
    " \n",
    "    Returns:\n",
    "        Compiled keras model\n",
    " \n",
    "    \"\"\"\n",
    "    # create model\n",
    "    model = keras.models.Sequential()\n",
    "    \n",
    "    # The input: we get 32x32 pixels, each with 3 colors (rgb). StandardScalar wants the dimensions flattened,\n",
    "    # so now this gets the input directly.\n",
    "    model.add(keras.layers.Flatten(input_shape=[3072]))\n",
    "    # Batch normalization after the input output.\n",
    "    model.add(keras.layers.BatchNormalization())\n",
    "        \n",
    "    # Then the hidden layers, fully connected (100 by default)\n",
    "    for i in range(20):\n",
    "        model.add(keras.layers.Dense(\n",
    "            n_classes, \n",
    "            kernel_initializer=\"lecun_normal\",\n",
    "        ))\n",
    "        model.add(keras.layers.BatchNormalization())\n",
    "        model.add(keras.layers.Activation(\"selu\"))\n",
    "\n",
    "    # Now add the output layer: 10 classes in CIFAR10, so 10 outputs.\n",
    "    model.add(keras.layers.Dense(10, activation=\"softmax\"))\n",
    "\n",
    "    # print(model.summary())\n",
    "    # Compile model\n",
    "    nadam = keras.optimizers.Nadam(learning_rate=0.0001, beta_1=0.9, beta_2=0.999, epsilon=1e-07)\n",
    "\n",
    "    model.compile(\n",
    "        loss=\"sparse_categorical_crossentropy\", \n",
    "        optimizer=nadam,\n",
    "        metrics=[\"accuracy\"]\n",
    "    )\n",
    "    return model\n",
    "\n",
    "# Clear the errors, in case we observe them in the long run.\n",
    "viki_stack_trace = ''\n",
    "\n",
    "# Got to remember them. mm_bn is the model with Batch normalization\n",
    "mm_selu = create_keras_classifier_model(100)\n",
    "print (\"Model built: \", mm_selu)\n",
    "\n",
    "# Now we must standard scale the data.\n",
    "scaler = StandardScaler()\n",
    "X_train_reshape = X_train.reshape(40000, 3072)\n",
    "X_valid_reshape = X_valid.reshape(10000, 3072)\n",
    "X_test_reshape = testX.reshape(10000, 3072)\n",
    "\n",
    "X_train_ss = scaler.fit_transform(X_train_reshape)\n",
    "# Always use the same scaler for the X_validation and X_test!\n",
    "X_valid_ss = scaler.transform(X_valid_reshape)\n",
    "X_test_ss = scaler.transform(X_test_reshape)\n",
    "\n",
    "history_selu = mm_selu.fit(X_train_ss, y_train, epochs=100, verbose=0,\n",
    "                 batch_size=32,\n",
    "                 validation_data=(X_valid_ss, y_valid))"
   ]
  },
  {
   "cell_type": "code",
   "execution_count": 14,
   "metadata": {},
   "outputs": [
    {
     "data": {
      "image/png": "[encoded data removed]",
      "text/plain": [
       "<Figure size 576x360 with 1 Axes>"
      ]
     },
     "metadata": {
      "needs_background": "light"
     },
     "output_type": "display_data"
    }
   ],
   "source": [
    "import pandas as pd\n",
    "\n",
    "pd.DataFrame(history_selu.history).plot(figsize=(8,5))\n",
    "plt.grid(True)\n",
    "plt.gca().set_ylim(0,1) # Y axis set to [0,1]\n",
    "plt.show()"
   ]
  },
  {
   "cell_type": "markdown",
   "metadata": {},
   "source": [
    "Slightly better than before! Next up is \n",
    "\n",
    "e. Try regularization with the model using alpha dropout. Then, without retraining your model, see if you can achieve better accuracy using MC Dropout"
   ]
  },
  {
   "cell_type": "code",
   "execution_count": null,
   "metadata": {},
   "outputs": [
    {
     "name": "stdout",
     "output_type": "stream",
     "text": [
      "Model built:  <tensorflow.python.keras.engine.sequential.Sequential object at 0x7f39a621ea60>\n"
     ]
    }
   ],
   "source": [
    "from sklearn.base import clone\n",
    "\n",
    "# Alpha dropout work.\n",
    "def normalized_dropout(n_classes=100, dropout_rate=0.2):\n",
    "    \"\"\"Keras multinomial logistic regression creation model\n",
    " \n",
    "    Args:\n",
    "        n_classes(int): Number of classes to be classified\n",
    " \n",
    "    Returns:\n",
    "        Compiled keras model\n",
    " \n",
    "    \"\"\"\n",
    "    # create model\n",
    "    model = keras.models.Sequential()\n",
    "    \n",
    "    # The input: we get 32x32 pixels, each with 3 colors (rgb). StandardScalar wants the dimensions flattened,\n",
    "    # so now this gets the input directly.\n",
    "    model.add(keras.layers.Flatten(input_shape=[3072]))\n",
    "   \n",
    "    # Apply dropout and then normalize\n",
    "    keras.layers.Dropout(rate=dropout_rate)\n",
    "    # Batch normalization after the input output.\n",
    "    model.add(keras.layers.BatchNormalization())\n",
    "    \n",
    "    # Then the hidden layers, fully connected (100 by default)\n",
    "    for i in range(20):\n",
    "        model.add(keras.layers.Dense(\n",
    "            n_classes, \n",
    "            kernel_initializer=\"lecun_normal\",\n",
    "        ))\n",
    "        # Apply dropout and then normalize\n",
    "        keras.layers.Dropout(rate=dropout_rate)\n",
    "        model.add(keras.layers.BatchNormalization())\n",
    "        model.add(keras.layers.Activation(\"selu\"))\n",
    "\n",
    "    # Now add the output layer: 10 classes in CIFAR10, so 10 outputs.\n",
    "    model.add(keras.layers.Dense(10, activation=\"softmax\"))\n",
    "\n",
    "    # print(model.summary())\n",
    "    # Compile model\n",
    "    nadam = keras.optimizers.Nadam(learning_rate=0.0001, beta_1=0.9, beta_2=0.999, epsilon=1e-07)\n",
    "\n",
    "    model.compile(\n",
    "        loss=\"sparse_categorical_crossentropy\", \n",
    "        optimizer=nadam,\n",
    "        metrics=[\"accuracy\"]\n",
    "    )\n",
    "    return model\n",
    "\n",
    "# Clear the errors, in case we observe them in the long run.\n",
    "viki_stack_trace = ''\n",
    "\n",
    "# Got to remember them. mm_bn is the model with Batch normalization\n",
    "mm_drop = normalized_dropout(100)\n",
    "print (\"Model built: \", mm_drop)\n",
    "\n",
    "# Now we must standard scale the data.\n",
    "scaler = StandardScaler()\n",
    "X_train_reshape = X_train.reshape(40000, 3072)\n",
    "X_valid_reshape = X_valid.reshape(10000, 3072)\n",
    "X_test_reshape = testX.reshape(10000, 3072)\n",
    "\n",
    "X_train_ss = scaler.fit_transform(X_train_reshape)\n",
    "# Always use the same scaler for the X_validation and X_test!\n",
    "X_valid_ss = scaler.transform(X_valid_reshape)\n",
    "X_test_ss = scaler.transform(X_test_reshape)\n",
    "\n",
    "history_drop = mm_drop.fit(X_train_ss, y_train, epochs=100, verbose=0,\n",
    "                 batch_size=32,\n",
    "                 validation_data=(X_valid_ss, y_valid))"
   ]
  },
  {
   "cell_type": "code",
   "execution_count": 17,
   "metadata": {},
   "outputs": [
    {
     "data": {
      "image/png": "[encoded data removed]",
      "text/plain": [
       "<Figure size 576x360 with 1 Axes>"
      ]
     },
     "metadata": {
      "needs_background": "light"
     },
     "output_type": "display_data"
    }
   ],
   "source": [
    "import pandas as pd\n",
    "\n",
    "pd.DataFrame(history_drop.history).plot(figsize=(8,5))\n",
    "plt.grid(True)\n",
    "plt.gca().set_ylim(0,1) # Y axis set to [0,1]\n",
    "plt.show()"
   ]
  },
  {
   "cell_type": "code",
   "execution_count": null,
   "metadata": {},
   "outputs": [],
   "source": [
    "from sklearn.metrics import accuracy_score\n",
    "\n",
    "y_pred_nomc = mm_drop.predict(X_test_ss)\n"
   ]
  },
  {
   "cell_type": "code",
   "execution_count": null,
   "metadata": {},
   "outputs": [],
   "source": [
    "accuracy_score(y_pred_nomc, testy)"
   ]
  },
  {
   "cell_type": "code",
   "execution_count": 19,
   "metadata": {},
   "outputs": [],
   "source": [
    "y_probas = np.stack([mm_drop(X_test_ss, training=True)\n",
    "                     for sameple in range(100)])\n",
    "\n",
    "y_proba = y_probas.mean(axis=0)"
   ]
  },
  {
   "cell_type": "markdown",
   "metadata": {},
   "source": [
    "That was better, but only slightly, let's try MC dropout without training to see if it improves the performance"
   ]
  },
  {
   "cell_type": "code",
   "execution_count": 21,
   "metadata": {},
   "outputs": [
    {
     "data": {
      "text/plain": [
       "array([0.02, 0.01, 0.  , 0.  , 0.  , 0.  , 0.  , 0.  , 0.97, 0.  ],\n",
       "      dtype=float32)"
      ]
     },
     "execution_count": 21,
     "metadata": {},
     "output_type": "execute_result"
    }
   ],
   "source": [
    "np.round(y_proba[1], 2)"
   ]
  },
  {
   "cell_type": "code",
   "execution_count": 23,
   "metadata": {},
   "outputs": [],
   "source": [
    "y_pred = np.argmax(y_proba, axis=1)"
   ]
  },
  {
   "cell_type": "code",
   "execution_count": 25,
   "metadata": {},
   "outputs": [
    {
     "data": {
      "text/plain": [
       "0.5159"
      ]
     },
     "execution_count": 25,
     "metadata": {},
     "output_type": "execute_result"
    }
   ],
   "source": [
    "from sklearn.metrics import accuracy_score\n",
    "\n",
    "accuracy_score(y_pred, testy)"
   ]
  },
  {
   "cell_type": "markdown",
   "metadata": {},
   "source": [
    "f. Retrain your model using 1cycle scheduling and see if it improves speed and model accuracy."
   ]
  },
  {
   "cell_type": "code",
   "execution_count": null,
   "metadata": {},
   "outputs": [],
   "source": []
  },
  {
   "cell_type": "code",
   "execution_count": null,
   "metadata": {},
   "outputs": [],
   "source": []
  },
  {
   "cell_type": "code",
   "execution_count": null,
   "metadata": {},
   "outputs": [],
   "source": [
    "from sklearn.base import clone\n",
    "\n",
    "# Alpha dropout work.\n",
    "def normalized_dropout(n_classes=100, dropout_rate=0.2):\n",
    "    \"\"\"Keras multinomial logistic regression creation model\n",
    " \n",
    "    Args:\n",
    "        n_classes(int): Number of classes to be classified\n",
    " \n",
    "    Returns:\n",
    "        Compiled keras model\n",
    " \n",
    "    \"\"\"\n",
    "    # create model\n",
    "    model = keras.models.Sequential()\n",
    "    \n",
    "    # The input: we get 32x32 pixels, each with 3 colors (rgb). StandardScalar wants the dimensions flattened,\n",
    "    # so now this gets the input directly.\n",
    "    model.add(keras.layers.Flatten(input_shape=[3072]))\n",
    "   \n",
    "    # Apply dropout and then normalize\n",
    "    keras.layers.Dropout(rate=dropout_rate)\n",
    "    # Batch normalization after the input output.\n",
    "    model.add(keras.layers.BatchNormalization())\n",
    "    \n",
    "    # Then the hidden layers, fully connected (100 by default)\n",
    "    for i in range(20):\n",
    "        model.add(keras.layers.Dense(\n",
    "            n_classes, \n",
    "            kernel_initializer=\"lecun_normal\",\n",
    "        ))\n",
    "        # Apply dropout and then normalize\n",
    "        keras.layers.Dropout(rate=dropout_rate)\n",
    "        model.add(keras.layers.BatchNormalization())\n",
    "        model.add(keras.layers.Activation(\"selu\"))\n",
    "\n",
    "    # Now add the output layer: 10 classes in CIFAR10, so 10 outputs.\n",
    "    model.add(keras.layers.Dense(10, activation=\"softmax\"))\n",
    "\n",
    "    # print(model.summary())\n",
    "    # Compile model\n",
    "    nadam = keras.optimizers.Nadam(learning_rate=0.0001, beta_1=0.9, beta_2=0.999, epsilon=1e-07)\n",
    "\n",
    "    model.compile(\n",
    "        loss=\"sparse_categorical_crossentropy\", \n",
    "        optimizer=nadam,\n",
    "        metrics=[\"accuracy\"]\n",
    "    )\n",
    "    return model\n",
    "\n",
    "# Clear the errors, in case we observe them in the long run.\n",
    "viki_stack_trace = ''\n",
    "\n",
    "# Got to remember them. mm_bn is the model with Batch normalization\n",
    "mm_drop = normalized_dropout(100)\n",
    "print (\"Model built: \", mm_drop)\n",
    "\n",
    "# Now we must standard scale the data.\n",
    "scaler = StandardScaler()\n",
    "X_train_reshape = X_train.reshape(40000, 3072)\n",
    "X_valid_reshape = X_valid.reshape(10000, 3072)\n",
    "X_test_reshape = testX.reshape(10000, 3072)\n",
    "\n",
    "X_train_ss = scaler.fit_transform(X_train_reshape)\n",
    "# Always use the same scaler for the X_validation and X_test!\n",
    "X_valid_ss = scaler.transform(X_valid_reshape)\n",
    "X_test_ss = scaler.transform(X_test_reshape)\n",
    "\n",
    "history_drop = mm_drop.fit(X_train_ss, y_train, epochs=100, verbose=0,\n",
    "                 batch_size=32,\n",
    "                 validation_data=(X_valid_ss, y_valid))"
   ]
  },
  {
   "cell_type": "code",
   "execution_count": null,
   "metadata": {},
   "outputs": [],
   "source": [
    "import pandas as pd\n",
    "\n",
    "pd.DataFrame(history_drop.history).plot(figsize=(8,5))\n",
    "plt.grid(True)\n",
    "plt.gca().set_ylim(0,1) # Y axis set to [0,1]\n",
    "plt.show()"
   ]
  }
 ],
 "metadata": {
  "kernelspec": {
   "display_name": "Python 3",
   "language": "python",
   "name": "python3"
  },
  "language_info": {
   "codemirror_mode": {
    "name": "ipython",
    "version": 3
   },
   "file_extension": ".py",
   "mimetype": "text/x-python",
   "name": "python",
   "nbconvert_exporter": "python",
   "pygments_lexer": "ipython3",
   "version": "3.8.5"
  }
 },
 "nbformat": 4,
 "nbformat_minor": 4
}
