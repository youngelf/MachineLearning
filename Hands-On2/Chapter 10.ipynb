{
 "cells": [
  {
   "cell_type": "markdown",
   "metadata": {},
   "source": [
    "## Chapter 10: Multi-Layer Perceptrons with Keras\n",
    "\n",
    "Now that I've got [Tensorflow on this machine that doesn't have AVX support](https://www.eggwall.com/2020/09/compiling-tensorflow-without-avx.html), let's take it for a ride.\n"
   ]
  },
  {
   "cell_type": "code",
   "execution_count": 8,
   "metadata": {},
   "outputs": [
    {
     "name": "stdout",
     "output_type": "stream",
     "text": [
      "TF version  2.3.0\n",
      "Keras version  2.4.0\n"
     ]
    }
   ],
   "source": [
    "# Common imports\n",
    "\n",
    "import matplotlib.cm as cm\n",
    "from matplotlib.image import imread\n",
    "# import matplotlib as mpl\n",
    "import matplotlib.pyplot as plt\n",
    "# import mpl_toolkits.mplot3d.axes3d as p3\n",
    "\n",
    "import numpy as np\n",
    "\n",
    "from sklearn.cluster import KMeans\n",
    "from sklearn.datasets import make_blobs\n",
    "\n",
    "from sklearn.metrics import accuracy_score\n",
    "from sklearn.metrics import silhouette_samples\n",
    "from sklearn.metrics import silhouette_score\n",
    "\n",
    "from sklearn.datasets import make_blobs\n",
    "from sklearn.cluster import KMeans\n",
    "from sklearn.metrics import silhouette_samples, silhouette_score\n",
    "\n",
    "from sklearn.model_selection import StratifiedShuffleSplit\n",
    "from sklearn.model_selection import train_test_split\n",
    "\n",
    "import tensorflow as tf\n",
    "from tensorflow import keras\n",
    "\n",
    "print(\"TF version \", tf.__version__)\n",
    "print(\"Keras version \", keras.__version__)"
   ]
  },
  {
   "cell_type": "code",
   "execution_count": 2,
   "metadata": {},
   "outputs": [
    {
     "name": "stdout",
     "output_type": "stream",
     "text": [
      "Downloading data from https://storage.googleapis.com/tensorflow/tf-keras-datasets/train-labels-idx1-ubyte.gz\n",
      "32768/29515 [=================================] - 0s 3us/step\n",
      "Downloading data from https://storage.googleapis.com/tensorflow/tf-keras-datasets/train-images-idx3-ubyte.gz\n",
      "26427392/26421880 [==============================] - 35s 1us/step\n",
      "Downloading data from https://storage.googleapis.com/tensorflow/tf-keras-datasets/t10k-labels-idx1-ubyte.gz\n",
      "8192/5148 [===============================================] - 0s 0us/step\n",
      "Downloading data from https://storage.googleapis.com/tensorflow/tf-keras-datasets/t10k-images-idx3-ubyte.gz\n",
      "4423680/4422102 [==============================] - 6s 1us/step\n",
      "(60000, 28, 28)\n",
      "uint8\n"
     ]
    }
   ],
   "source": [
    "fashion_mnist = keras.datasets.fashion_mnist\n",
    "(X_train_full, y_train_full), (X_test, y_test) = fashion_mnist.load_data()\n",
    "print (X_train_full.shape)\n",
    "print (X_train_full.dtype)"
   ]
  },
  {
   "cell_type": "code",
   "execution_count": 10,
   "metadata": {},
   "outputs": [],
   "source": []
  },
  {
   "cell_type": "code",
   "execution_count": 3,
   "metadata": {},
   "outputs": [
    {
     "name": "stdout",
     "output_type": "stream",
     "text": [
      "(60000, 28, 28)\n",
      "uint8\n"
     ]
    }
   ],
   "source": [
    "print (X_train_full.shape)\n",
    "print (X_train_full.dtype)"
   ]
  },
  {
   "cell_type": "markdown",
   "metadata": {},
   "source": [
    "Let's split this into a validation set. First 5000 are kept aside for validation.\n",
    "\n",
    "Pixel densities in the attributes are 0-255, so scaling them down to \\[0,1\\].\n",
    "Notice how we specify 255.0 otherwise integer division will lead to either 0 or 1."
   ]
  },
  {
   "cell_type": "code",
   "execution_count": 5,
   "metadata": {},
   "outputs": [],
   "source": [
    "X_valid, X_train = X_train_full[:5000] / 255.0, X_train_full[5000:] / 255.0\n",
    "y_valid, y_train = y_train_full[:5000]        , y_train_full[5000:]\n",
    "X_test = X_test / 255.0"
   ]
  },
  {
   "cell_type": "markdown",
   "metadata": {},
   "source": [
    "These class-names are specified on the [Keras website](https://www.tensorflow.org/tutorials/keras/classification)"
   ]
  },
  {
   "cell_type": "code",
   "execution_count": 11,
   "metadata": {},
   "outputs": [],
   "source": [
    "class_names = ['T-shirt/top', 'Trouser', 'Pullover', 'Dress', 'Coat',\n",
    "               'Sandal', 'Shirt', 'Sneaker', 'Bag', 'Ankle boot']\n"
   ]
  },
  {
   "cell_type": "code",
   "execution_count": 12,
   "metadata": {},
   "outputs": [
    {
     "data": {
      "text/plain": [
       "'Coat'"
      ]
     },
     "execution_count": 12,
     "metadata": {},
     "output_type": "execute_result"
    }
   ],
   "source": [
    "class_names[y_train[0]]"
   ]
  },
  {
   "cell_type": "markdown",
   "metadata": {},
   "source": [
    "Let's look at a single image. By now I am good enough to print this stuff out."
   ]
  },
  {
   "cell_type": "code",
   "execution_count": 15,
   "metadata": {},
   "outputs": [
    {
     "data": {
      "text/plain": [
       "<matplotlib.image.AxesImage at 0x7f748cd93970>"
      ]
     },
     "execution_count": 15,
     "metadata": {},
     "output_type": "execute_result"
    },
    {
     "data": {
      "image/png": "[encoded data removed]",
      "text/plain": [
       "<Figure size 432x288 with 1 Axes>"
      ]
     },
     "metadata": {
      "needs_background": "light"
     },
     "output_type": "display_data"
    }
   ],
   "source": [
    "plt.imshow(1 - X_train[1])"
   ]
  },
  {
   "cell_type": "markdown",
   "metadata": {},
   "source": [
    "And let's create a Tensorflow network with Keras."
   ]
  },
  {
   "cell_type": "code",
   "execution_count": 17,
   "metadata": {},
   "outputs": [],
   "source": [
    "# model = keras.models.Sequential()\n",
    "# model.add(keras.layers.Flatten(input_shape=[28, 28]))\n",
    "# model.add(keras.layers.Dense(300, activation=\"relu\"))\n",
    "# model.add(keras.layers.Dense(100, activation=\"relu\"))\n",
    "# model.add(keras.layers.Dense(10, activation=\"softmax\"))\n",
    "\n",
    "# This is another way of creating it:\n",
    "model = keras.models.Sequential([\n",
    "    keras.layers.Flatten(input_shape=[28, 28]),\n",
    "    keras.layers.Dense(300, activation=\"relu\"),\n",
    "    keras.layers.Dense(100, activation=\"relu\"),\n",
    "    keras.layers.Dense(10, activation=\"softmax\")\n",
    "])"
   ]
  },
  {
   "cell_type": "code",
   "execution_count": 18,
   "metadata": {},
   "outputs": [
    {
     "name": "stdout",
     "output_type": "stream",
     "text": [
      "Model: \"sequential\"\n",
      "_________________________________________________________________\n",
      "Layer (type)                 Output Shape              Param #   \n",
      "=================================================================\n",
      "flatten (Flatten)            (None, 784)               0         \n",
      "_________________________________________________________________\n",
      "dense (Dense)                (None, 300)               235500    \n",
      "_________________________________________________________________\n",
      "dense_1 (Dense)              (None, 100)               30100     \n",
      "_________________________________________________________________\n",
      "dense_2 (Dense)              (None, 10)                1010      \n",
      "=================================================================\n",
      "Total params: 266,610\n",
      "Trainable params: 266,610\n",
      "Non-trainable params: 0\n",
      "_________________________________________________________________\n"
     ]
    }
   ],
   "source": [
    "model.summary()"
   ]
  },
  {
   "cell_type": "code",
   "execution_count": 19,
   "metadata": {},
   "outputs": [
    {
     "data": {
      "text/plain": [
       "[<tensorflow.python.keras.layers.core.Flatten at 0x7f748c327a00>,\n",
       " <tensorflow.python.keras.layers.core.Dense at 0x7f749b06dbe0>,\n",
       " <tensorflow.python.keras.layers.core.Dense at 0x7f748c3319d0>,\n",
       " <tensorflow.python.keras.layers.core.Dense at 0x7f748c334d90>]"
      ]
     },
     "execution_count": 19,
     "metadata": {},
     "output_type": "execute_result"
    }
   ],
   "source": [
    "model.layers"
   ]
  },
  {
   "cell_type": "code",
   "execution_count": 20,
   "metadata": {},
   "outputs": [],
   "source": [
    "model.compile(loss=\"sparse_categorical_crossentropy\",\n",
    "             optimizer=\"sgd\",\n",
    "             metrics=[\"accuracy\"])"
   ]
  },
  {
   "cell_type": "code",
   "execution_count": 21,
   "metadata": {
    "collapsed": true
   },
   "outputs": [
    {
     "name": "stdout",
     "output_type": "stream",
     "text": [
      "Epoch 1/30\n",
      "1719/1719 [==============================] - 39s 23ms/step - loss: 0.7015 - accuracy: 0.7694 - val_loss: 0.5748 - val_accuracy: 0.7924\n",
      "Epoch 2/30\n",
      "1719/1719 [==============================] - 39s 23ms/step - loss: 0.4864 - accuracy: 0.8314 - val_loss: 0.4725 - val_accuracy: 0.8358\n",
      "Epoch 3/30\n",
      "1719/1719 [==============================] - 39s 23ms/step - loss: 0.4426 - accuracy: 0.8451 - val_loss: 0.4166 - val_accuracy: 0.8580\n",
      "Epoch 4/30\n",
      "1719/1719 [==============================] - 39s 23ms/step - loss: 0.4159 - accuracy: 0.8528 - val_loss: 0.4072 - val_accuracy: 0.8622\n",
      "Epoch 5/30\n",
      "1719/1719 [==============================] - 39s 23ms/step - loss: 0.3955 - accuracy: 0.8620 - val_loss: 0.3893 - val_accuracy: 0.8636\n",
      "Epoch 6/30\n",
      "1719/1719 [==============================] - 39s 23ms/step - loss: 0.3798 - accuracy: 0.8653 - val_loss: 0.3668 - val_accuracy: 0.8718\n",
      "Epoch 7/30\n",
      "1719/1719 [==============================] - 39s 23ms/step - loss: 0.3651 - accuracy: 0.8707 - val_loss: 0.3612 - val_accuracy: 0.8752\n",
      "Epoch 8/30\n",
      "1719/1719 [==============================] - 39s 23ms/step - loss: 0.3535 - accuracy: 0.8756 - val_loss: 0.3664 - val_accuracy: 0.8680\n",
      "Epoch 9/30\n",
      "1719/1719 [==============================] - 39s 23ms/step - loss: 0.3431 - accuracy: 0.8780 - val_loss: 0.3540 - val_accuracy: 0.8762\n",
      "Epoch 10/30\n",
      "1719/1719 [==============================] - 39s 23ms/step - loss: 0.3343 - accuracy: 0.8807 - val_loss: 0.3451 - val_accuracy: 0.8802\n",
      "Epoch 11/30\n",
      "1719/1719 [==============================] - 39s 23ms/step - loss: 0.3250 - accuracy: 0.8837 - val_loss: 0.3499 - val_accuracy: 0.8752\n",
      "Epoch 12/30\n",
      "1719/1719 [==============================] - 39s 23ms/step - loss: 0.3172 - accuracy: 0.8867 - val_loss: 0.3318 - val_accuracy: 0.8830\n",
      "Epoch 13/30\n",
      "1719/1719 [==============================] - 39s 23ms/step - loss: 0.3096 - accuracy: 0.8890 - val_loss: 0.3236 - val_accuracy: 0.8876\n",
      "Epoch 14/30\n",
      "1719/1719 [==============================] - 39s 23ms/step - loss: 0.3014 - accuracy: 0.8923 - val_loss: 0.3333 - val_accuracy: 0.8832\n",
      "Epoch 15/30\n",
      "1719/1719 [==============================] - 39s 23ms/step - loss: 0.2954 - accuracy: 0.8947 - val_loss: 0.3197 - val_accuracy: 0.8848\n",
      "Epoch 16/30\n",
      "1719/1719 [==============================] - 39s 23ms/step - loss: 0.2885 - accuracy: 0.8965 - val_loss: 0.3170 - val_accuracy: 0.8890\n",
      "Epoch 17/30\n",
      "1719/1719 [==============================] - 39s 23ms/step - loss: 0.2841 - accuracy: 0.8973 - val_loss: 0.3099 - val_accuracy: 0.8898\n",
      "Epoch 18/30\n",
      "1719/1719 [==============================] - 39s 23ms/step - loss: 0.2769 - accuracy: 0.9001 - val_loss: 0.3092 - val_accuracy: 0.8898\n",
      "Epoch 19/30\n",
      "1719/1719 [==============================] - 39s 23ms/step - loss: 0.2728 - accuracy: 0.9014 - val_loss: 0.3331 - val_accuracy: 0.8824\n",
      "Epoch 20/30\n",
      "1719/1719 [==============================] - 39s 23ms/step - loss: 0.2673 - accuracy: 0.9030 - val_loss: 0.3157 - val_accuracy: 0.8900\n",
      "Epoch 21/30\n",
      "1719/1719 [==============================] - 39s 23ms/step - loss: 0.2622 - accuracy: 0.9063 - val_loss: 0.3135 - val_accuracy: 0.8868\n",
      "Epoch 22/30\n",
      "1719/1719 [==============================] - 39s 23ms/step - loss: 0.2571 - accuracy: 0.9070 - val_loss: 0.3170 - val_accuracy: 0.8870\n",
      "Epoch 23/30\n",
      "1719/1719 [==============================] - 39s 23ms/step - loss: 0.2536 - accuracy: 0.9092 - val_loss: 0.3126 - val_accuracy: 0.8858\n",
      "Epoch 24/30\n",
      "1719/1719 [==============================] - 39s 23ms/step - loss: 0.2487 - accuracy: 0.9102 - val_loss: 0.3129 - val_accuracy: 0.8904\n",
      "Epoch 25/30\n",
      "1719/1719 [==============================] - 39s 23ms/step - loss: 0.2435 - accuracy: 0.9128 - val_loss: 0.3098 - val_accuracy: 0.8888\n",
      "Epoch 26/30\n",
      "1719/1719 [==============================] - 39s 23ms/step - loss: 0.2396 - accuracy: 0.9136 - val_loss: 0.3098 - val_accuracy: 0.8900\n",
      "Epoch 27/30\n",
      "1719/1719 [==============================] - 39s 23ms/step - loss: 0.2357 - accuracy: 0.9158 - val_loss: 0.3199 - val_accuracy: 0.8854\n",
      "Epoch 28/30\n",
      "1719/1719 [==============================] - 39s 23ms/step - loss: 0.2306 - accuracy: 0.9178 - val_loss: 0.2958 - val_accuracy: 0.8938\n",
      "Epoch 29/30\n",
      "1719/1719 [==============================] - 39s 23ms/step - loss: 0.2279 - accuracy: 0.9185 - val_loss: 0.3093 - val_accuracy: 0.8908\n",
      "Epoch 30/30\n",
      "1719/1719 [==============================] - 39s 23ms/step - loss: 0.2247 - accuracy: 0.9197 - val_loss: 0.3075 - val_accuracy: 0.8896\n"
     ]
    }
   ],
   "source": [
    "history = model.fit(X_train, y_train, epochs=30,\n",
    "                   validation_data=(X_valid, y_valid))"
   ]
  },
  {
   "cell_type": "code",
   "execution_count": 22,
   "metadata": {},
   "outputs": [
    {
     "data": {
      "image/png": "[encoded data removed]",
      "text/plain": [
       "<Figure size 576x360 with 1 Axes>"
      ]
     },
     "metadata": {
      "needs_background": "light"
     },
     "output_type": "display_data"
    }
   ],
   "source": [
    "import pandas as pd\n",
    "\n",
    "pd.DataFrame(history.history).plot(figsize=(8,5))\n",
    "plt.grid(True)\n",
    "plt.gca().set_ylim(0,1) # Y axis set to [0,1]\n",
    "plt.show()"
   ]
  },
  {
   "cell_type": "markdown",
   "metadata": {},
   "source": [
    "This looks good, and convergence has been reached. Accuracy is close to validation accuracy."
   ]
  },
  {
   "cell_type": "code",
   "execution_count": 30,
   "metadata": {
    "collapsed": true
   },
   "outputs": [
    {
     "name": "stdout",
     "output_type": "stream",
     "text": [
      "Epoch 1/30\n",
      "1719/1719 [==============================] - 40s 24ms/step - loss: 0.7146 - accuracy: 0.7642 - val_loss: 0.5144 - val_accuracy: 0.8260\n",
      "Epoch 2/30\n",
      "1719/1719 [==============================] - 41s 24ms/step - loss: 0.4927 - accuracy: 0.8298 - val_loss: 0.4485 - val_accuracy: 0.8474\n",
      "Epoch 3/30\n",
      "1719/1719 [==============================] - 41s 24ms/step - loss: 0.4444 - accuracy: 0.8449 - val_loss: 0.4138 - val_accuracy: 0.8596\n",
      "Epoch 4/30\n",
      "1719/1719 [==============================] - 42s 24ms/step - loss: 0.4185 - accuracy: 0.8537 - val_loss: 0.4003 - val_accuracy: 0.8630\n",
      "Epoch 5/30\n",
      "1719/1719 [==============================] - 41s 24ms/step - loss: 0.3991 - accuracy: 0.8613 - val_loss: 0.4304 - val_accuracy: 0.8504\n",
      "Epoch 6/30\n",
      "1719/1719 [==============================] - 41s 24ms/step - loss: 0.3821 - accuracy: 0.8669 - val_loss: 0.3776 - val_accuracy: 0.8662\n",
      "Epoch 7/30\n",
      "1719/1719 [==============================] - 41s 24ms/step - loss: 0.3694 - accuracy: 0.8703 - val_loss: 0.3685 - val_accuracy: 0.8688\n",
      "Epoch 8/30\n",
      "1719/1719 [==============================] - 41s 24ms/step - loss: 0.3571 - accuracy: 0.8745 - val_loss: 0.3633 - val_accuracy: 0.8704\n",
      "Epoch 9/30\n",
      "1719/1719 [==============================] - 41s 24ms/step - loss: 0.3466 - accuracy: 0.8775 - val_loss: 0.3564 - val_accuracy: 0.8766\n",
      "Epoch 10/30\n",
      "1719/1719 [==============================] - 41s 24ms/step - loss: 0.3397 - accuracy: 0.8791 - val_loss: 0.3502 - val_accuracy: 0.8746\n",
      "Epoch 11/30\n",
      "1719/1719 [==============================] - 44s 26ms/step - loss: 0.3310 - accuracy: 0.8829 - val_loss: 0.3443 - val_accuracy: 0.8770\n",
      "Epoch 12/30\n",
      "1719/1719 [==============================] - 45s 26ms/step - loss: 0.3230 - accuracy: 0.8855 - val_loss: 0.3365 - val_accuracy: 0.8798\n",
      "Epoch 13/30\n",
      "1719/1719 [==============================] - 42s 24ms/step - loss: 0.3167 - accuracy: 0.8871 - val_loss: 0.3362 - val_accuracy: 0.8804\n",
      "Epoch 14/30\n",
      "1719/1719 [==============================] - 42s 25ms/step - loss: 0.3089 - accuracy: 0.8894 - val_loss: 0.3306 - val_accuracy: 0.8798\n",
      "Epoch 15/30\n",
      "1719/1719 [==============================] - 43s 25ms/step - loss: 0.3039 - accuracy: 0.8915 - val_loss: 0.3416 - val_accuracy: 0.8754\n",
      "Epoch 16/30\n",
      "1719/1719 [==============================] - 42s 25ms/step - loss: 0.2981 - accuracy: 0.8939 - val_loss: 0.3348 - val_accuracy: 0.8822\n",
      "Epoch 17/30\n",
      "1719/1719 [==============================] - 42s 25ms/step - loss: 0.2928 - accuracy: 0.8956 - val_loss: 0.3279 - val_accuracy: 0.8832\n",
      "Epoch 18/30\n",
      "1719/1719 [==============================] - 42s 25ms/step - loss: 0.2874 - accuracy: 0.8970 - val_loss: 0.3211 - val_accuracy: 0.8850\n",
      "Epoch 19/30\n",
      "1719/1719 [==============================] - 42s 25ms/step - loss: 0.2828 - accuracy: 0.8993 - val_loss: 0.3257 - val_accuracy: 0.8798\n",
      "Epoch 20/30\n",
      "1719/1719 [==============================] - 43s 25ms/step - loss: 0.2772 - accuracy: 0.9012 - val_loss: 0.3356 - val_accuracy: 0.8824\n",
      "Epoch 21/30\n",
      "1719/1719 [==============================] - 42s 25ms/step - loss: 0.2744 - accuracy: 0.9021 - val_loss: 0.3245 - val_accuracy: 0.8838\n",
      "Epoch 22/30\n",
      "1719/1719 [==============================] - 42s 25ms/step - loss: 0.2701 - accuracy: 0.9037 - val_loss: 0.3119 - val_accuracy: 0.8886\n",
      "Epoch 23/30\n",
      "1719/1719 [==============================] - 42s 25ms/step - loss: 0.2657 - accuracy: 0.9047 - val_loss: 0.3125 - val_accuracy: 0.8914\n",
      "Epoch 24/30\n",
      "1719/1719 [==============================] - 43s 25ms/step - loss: 0.2614 - accuracy: 0.9060 - val_loss: 0.3080 - val_accuracy: 0.8928\n",
      "Epoch 25/30\n",
      "1719/1719 [==============================] - 42s 25ms/step - loss: 0.2589 - accuracy: 0.9073 - val_loss: 0.3216 - val_accuracy: 0.8854\n",
      "Epoch 26/30\n",
      "1719/1719 [==============================] - 43s 25ms/step - loss: 0.2550 - accuracy: 0.9089 - val_loss: 0.3066 - val_accuracy: 0.8908\n",
      "Epoch 27/30\n",
      "1719/1719 [==============================] - 43s 25ms/step - loss: 0.2518 - accuracy: 0.9099 - val_loss: 0.3053 - val_accuracy: 0.8920\n",
      "Epoch 28/30\n",
      "1719/1719 [==============================] - 42s 25ms/step - loss: 0.2480 - accuracy: 0.9114 - val_loss: 0.3022 - val_accuracy: 0.8908\n",
      "Epoch 29/30\n",
      "1719/1719 [==============================] - 43s 25ms/step - loss: 0.2450 - accuracy: 0.9119 - val_loss: 0.3003 - val_accuracy: 0.8906\n",
      "Epoch 30/30\n",
      "1719/1719 [==============================] - 42s 25ms/step - loss: 0.2416 - accuracy: 0.9141 - val_loss: 0.3051 - val_accuracy: 0.8906\n"
     ]
    }
   ],
   "source": [
    "# The same model as earlier, but with a different learning rate.\n",
    "model_lr = keras.models.Sequential([\n",
    "    keras.layers.Flatten(input_shape=[28, 28]),\n",
    "    keras.layers.Dense(300, activation=\"relu\"),\n",
    "    keras.layers.Dense(100, activation=\"relu\"),\n",
    "    keras.layers.Dense(10, activation=\"softmax\")\n",
    "])\n",
    "\n",
    "# Got a learning rate example from here: https://keras.io/api/optimizers/\n",
    "lr_schedule = keras.optimizers.schedules.ExponentialDecay(\n",
    "    initial_learning_rate=1e-2,\n",
    "    decay_steps=10000,\n",
    "    decay_rate=0.9)\n",
    "\n",
    "model_lr.compile(loss=\"sparse_categorical_crossentropy\",\n",
    "                 optimizer=keras.optimizers.SGD(learning_rate=lr_schedule),\n",
    "                 metrics=[\"accuracy\"])\n",
    "history_lr = model_lr.fit(X_train, y_train, epochs=30,\n",
    "                   validation_data=(X_valid, y_valid))"
   ]
  },
  {
   "cell_type": "code",
   "execution_count": 35,
   "metadata": {},
   "outputs": [
    {
     "data": {
      "image/png": "[encoded data removed]",
      "text/plain": [
       "<Figure size 576x360 with 1 Axes>"
      ]
     },
     "metadata": {
      "needs_background": "light"
     },
     "output_type": "display_data"
    }
   ],
   "source": [
    "import pandas as pd\n",
    "\n",
    "pd.DataFrame(history_lr.history).plot(figsize=(8,5))\n",
    "plt.grid(True)\n",
    "plt.gca().set_ylim(0,1) # Y axis set to [0,1]\n",
    "plt.show()"
   ]
  },
  {
   "cell_type": "markdown",
   "metadata": {},
   "source": [
    "# Batch processing, for later\n",
    "\n",
    "For later, run with many more epochs and see if the performance improves considerably"
   ]
  },
  {
   "cell_type": "code",
   "execution_count": 31,
   "metadata": {
    "collapsed": true
   },
   "outputs": [
    {
     "name": "stdout",
     "output_type": "stream",
     "text": [
      "Epoch 1/300\n",
      "1719/1719 [==============================] - 43s 25ms/step - loss: 0.7163 - accuracy: 0.7680 - val_loss: 0.5420 - val_accuracy: 0.8142\n",
      "Epoch 2/300\n",
      "1719/1719 [==============================] - 42s 25ms/step - loss: 0.4888 - accuracy: 0.8305 - val_loss: 0.4649 - val_accuracy: 0.8332\n",
      "Epoch 3/300\n",
      "1719/1719 [==============================] - 43s 25ms/step - loss: 0.4449 - accuracy: 0.8432 - val_loss: 0.4219 - val_accuracy: 0.8536\n",
      "Epoch 4/300\n",
      "1719/1719 [==============================] - 42s 25ms/step - loss: 0.4173 - accuracy: 0.8546 - val_loss: 0.4026 - val_accuracy: 0.8648\n",
      "Epoch 5/300\n",
      "1719/1719 [==============================] - 43s 25ms/step - loss: 0.3968 - accuracy: 0.8616 - val_loss: 0.3969 - val_accuracy: 0.8602\n",
      "Epoch 6/300\n",
      "1719/1719 [==============================] - 42s 25ms/step - loss: 0.3804 - accuracy: 0.8665 - val_loss: 0.3721 - val_accuracy: 0.8690\n",
      "Epoch 7/300\n",
      "1719/1719 [==============================] - 43s 25ms/step - loss: 0.3669 - accuracy: 0.8700 - val_loss: 0.3885 - val_accuracy: 0.8624\n",
      "Epoch 8/300\n",
      "1719/1719 [==============================] - 42s 25ms/step - loss: 0.3548 - accuracy: 0.8747 - val_loss: 0.3525 - val_accuracy: 0.8746\n",
      "Epoch 9/300\n",
      "1719/1719 [==============================] - 43s 25ms/step - loss: 0.3457 - accuracy: 0.8765 - val_loss: 0.3505 - val_accuracy: 0.8756\n",
      "Epoch 10/300\n",
      "1719/1719 [==============================] - 42s 25ms/step - loss: 0.3346 - accuracy: 0.8818 - val_loss: 0.3520 - val_accuracy: 0.8792\n",
      "Epoch 11/300\n",
      "1719/1719 [==============================] - 43s 25ms/step - loss: 0.3276 - accuracy: 0.8821 - val_loss: 0.3356 - val_accuracy: 0.8808\n",
      "Epoch 12/300\n",
      "1719/1719 [==============================] - 42s 25ms/step - loss: 0.3205 - accuracy: 0.8847 - val_loss: 0.3440 - val_accuracy: 0.8792\n",
      "Epoch 13/300\n",
      "1719/1719 [==============================] - 43s 25ms/step - loss: 0.3128 - accuracy: 0.8880 - val_loss: 0.3420 - val_accuracy: 0.8784\n",
      "Epoch 14/300\n",
      "1719/1719 [==============================] - 42s 25ms/step - loss: 0.3054 - accuracy: 0.8911 - val_loss: 0.3327 - val_accuracy: 0.8806\n",
      "Epoch 15/300\n",
      "1719/1719 [==============================] - 42s 25ms/step - loss: 0.2993 - accuracy: 0.8926 - val_loss: 0.3265 - val_accuracy: 0.8830\n",
      "Epoch 16/300\n",
      "1719/1719 [==============================] - 43s 25ms/step - loss: 0.2926 - accuracy: 0.8949 - val_loss: 0.3222 - val_accuracy: 0.8830\n",
      "Epoch 17/300\n",
      "1719/1719 [==============================] - 43s 25ms/step - loss: 0.2870 - accuracy: 0.8970 - val_loss: 0.3377 - val_accuracy: 0.8806\n",
      "Epoch 18/300\n",
      "1719/1719 [==============================] - 43s 25ms/step - loss: 0.2817 - accuracy: 0.8986 - val_loss: 0.3231 - val_accuracy: 0.8852\n",
      "Epoch 19/300\n",
      "1719/1719 [==============================] - 42s 25ms/step - loss: 0.2776 - accuracy: 0.9000 - val_loss: 0.3168 - val_accuracy: 0.8882\n",
      "Epoch 20/300\n",
      "1719/1719 [==============================] - 42s 24ms/step - loss: 0.2583 - accuracy: 0.9070 - val_loss: 0.3032 - val_accuracy: 0.8920\n",
      "Epoch 24/300\n",
      "1719/1719 [==============================] - 42s 25ms/step - loss: 0.2538 - accuracy: 0.9089 - val_loss: 0.3043 - val_accuracy: 0.8908\n",
      "Epoch 25/300\n",
      "1719/1719 [==============================] - 42s 24ms/step - loss: 0.2498 - accuracy: 0.9103 - val_loss: 0.3109 - val_accuracy: 0.8832\n",
      "Epoch 26/300\n",
      "1719/1719 [==============================] - 42s 24ms/step - loss: 0.2457 - accuracy: 0.9117 - val_loss: 0.3026 - val_accuracy: 0.8942\n",
      "Epoch 27/300\n",
      "1719/1719 [==============================] - 42s 24ms/step - loss: 0.2422 - accuracy: 0.9112 - val_loss: 0.2998 - val_accuracy: 0.8934\n",
      "Epoch 28/300\n",
      "1719/1719 [==============================] - 42s 24ms/step - loss: 0.2379 - accuracy: 0.9151 - val_loss: 0.3255 - val_accuracy: 0.8840\n",
      "Epoch 29/300\n",
      "1719/1719 [==============================] - 42s 24ms/step - loss: 0.2335 - accuracy: 0.9152 - val_loss: 0.2949 - val_accuracy: 0.8944\n",
      "Epoch 30/300\n",
      "1719/1719 [==============================] - 42s 25ms/step - loss: 0.2307 - accuracy: 0.9173 - val_loss: 0.3204 - val_accuracy: 0.8870\n",
      "Epoch 31/300\n",
      "1719/1719 [==============================] - 42s 24ms/step - loss: 0.2262 - accuracy: 0.9185 - val_loss: 0.2913 - val_accuracy: 0.8944\n",
      "Epoch 32/300\n",
      "1719/1719 [==============================] - 42s 25ms/step - loss: 0.2241 - accuracy: 0.9202 - val_loss: 0.2953 - val_accuracy: 0.8906\n",
      "Epoch 33/300\n",
      "1719/1719 [==============================] - 42s 24ms/step - loss: 0.2195 - accuracy: 0.9209 - val_loss: 0.2941 - val_accuracy: 0.8916\n",
      "Epoch 34/300\n",
      "1719/1719 [==============================] - 42s 24ms/step - loss: 0.2163 - accuracy: 0.9227 - val_loss: 0.3323 - val_accuracy: 0.8832\n",
      "Epoch 35/300\n",
      "1719/1719 [==============================] - 42s 25ms/step - loss: 0.2127 - accuracy: 0.9242 - val_loss: 0.2927 - val_accuracy: 0.8966\n",
      "Epoch 36/300\n",
      "1719/1719 [==============================] - 42s 24ms/step - loss: 0.2094 - accuracy: 0.9249 - val_loss: 0.3457 - val_accuracy: 0.8752\n",
      "Epoch 37/300\n",
      "1719/1719 [==============================] - 42s 25ms/step - loss: 0.2060 - accuracy: 0.9258 - val_loss: 0.2925 - val_accuracy: 0.8940\n",
      "Epoch 38/300\n",
      "1719/1719 [==============================] - 42s 24ms/step - loss: 0.2035 - accuracy: 0.9268 - val_loss: 0.3131 - val_accuracy: 0.8880\n",
      "Epoch 39/300\n",
      "1719/1719 [==============================] - 42s 24ms/step - loss: 0.1998 - accuracy: 0.9284 - val_loss: 0.2897 - val_accuracy: 0.8938\n",
      "Epoch 40/300\n",
      "1719/1719 [==============================] - 42s 25ms/step - loss: 0.1966 - accuracy: 0.9306 - val_loss: 0.3015 - val_accuracy: 0.8942\n",
      "Epoch 41/300\n",
      "1719/1719 [==============================] - 42s 24ms/step - loss: 0.1947 - accuracy: 0.9300 - val_loss: 0.3134 - val_accuracy: 0.8920\n",
      "Epoch 42/300\n",
      "1719/1719 [==============================] - 42s 24ms/step - loss: 0.1913 - accuracy: 0.9325 - val_loss: 0.2917 - val_accuracy: 0.8938\n",
      "Epoch 43/300\n",
      "1719/1719 [==============================] - 42s 24ms/step - loss: 0.1876 - accuracy: 0.9337 - val_loss: 0.3202 - val_accuracy: 0.8926\n",
      "Epoch 44/300\n",
      "1719/1719 [==============================] - 42s 24ms/step - loss: 0.1853 - accuracy: 0.9343 - val_loss: 0.3362 - val_accuracy: 0.8770\n",
      "Epoch 45/300\n",
      "1719/1719 [==============================] - 42s 25ms/step - loss: 0.1820 - accuracy: 0.9355 - val_loss: 0.3034 - val_accuracy: 0.8948\n",
      "Epoch 46/300\n",
      "1719/1719 [==============================] - 42s 24ms/step - loss: 0.1797 - accuracy: 0.9359 - val_loss: 0.2842 - val_accuracy: 0.8988\n",
      "Epoch 47/300\n",
      "1719/1719 [==============================] - 42s 24ms/step - loss: 0.1764 - accuracy: 0.9369 - val_loss: 0.2951 - val_accuracy: 0.8998\n",
      "Epoch 48/300\n",
      "1719/1719 [==============================] - 42s 24ms/step - loss: 0.1740 - accuracy: 0.9390 - val_loss: 0.2868 - val_accuracy: 0.8978\n",
      "Epoch 49/300\n",
      "1719/1719 [==============================] - 42s 24ms/step - loss: 0.1723 - accuracy: 0.9390 - val_loss: 0.3367 - val_accuracy: 0.8816\n",
      "Epoch 50/300\n",
      "1719/1719 [==============================] - 42s 25ms/step - loss: 0.1684 - accuracy: 0.9409 - val_loss: 0.2893 - val_accuracy: 0.8946\n",
      "Epoch 51/300\n",
      "1719/1719 [==============================] - 42s 24ms/step - loss: 0.1665 - accuracy: 0.9418 - val_loss: 0.2871 - val_accuracy: 0.9002\n",
      "Epoch 52/300\n",
      "1719/1719 [==============================] - 42s 24ms/step - loss: 0.1636 - accuracy: 0.9421 - val_loss: 0.2937 - val_accuracy: 0.8986\n",
      "Epoch 53/300\n",
      "1719/1719 [==============================] - 42s 25ms/step - loss: 0.1603 - accuracy: 0.9436 - val_loss: 0.2861 - val_accuracy: 0.8992\n",
      "Epoch 54/300\n",
      "1719/1719 [==============================] - 42s 24ms/step - loss: 0.1587 - accuracy: 0.9434 - val_loss: 0.2961 - val_accuracy: 0.8976\n",
      "Epoch 55/300\n",
      "1719/1719 [==============================] - 42s 24ms/step - loss: 0.1554 - accuracy: 0.9455 - val_loss: 0.2905 - val_accuracy: 0.9010\n",
      "Epoch 56/300\n",
      "1719/1719 [==============================] - 42s 24ms/step - loss: 0.1534 - accuracy: 0.9456 - val_loss: 0.2943 - val_accuracy: 0.8980\n",
      "Epoch 57/300\n",
      "1719/1719 [==============================] - 42s 24ms/step - loss: 0.1513 - accuracy: 0.9462 - val_loss: 0.2980 - val_accuracy: 0.8968\n",
      "Epoch 58/300\n",
      "1719/1719 [==============================] - 42s 25ms/step - loss: 0.1488 - accuracy: 0.9463 - val_loss: 0.2946 - val_accuracy: 0.8992\n",
      "Epoch 59/300\n"
     ]
    },
    {
     "name": "stdout",
     "output_type": "stream",
     "text": [
      "1719/1719 [==============================] - 42s 24ms/step - loss: 0.1473 - accuracy: 0.9475 - val_loss: 0.3054 - val_accuracy: 0.8972\n",
      "Epoch 60/300\n",
      "1719/1719 [==============================] - 42s 24ms/step - loss: 0.1452 - accuracy: 0.9491 - val_loss: 0.3115 - val_accuracy: 0.8924\n",
      "Epoch 61/300\n",
      "1719/1719 [==============================] - 42s 24ms/step - loss: 0.1415 - accuracy: 0.9499 - val_loss: 0.3001 - val_accuracy: 0.8962\n",
      "Epoch 62/300\n",
      "1719/1719 [==============================] - 42s 24ms/step - loss: 0.1399 - accuracy: 0.9508 - val_loss: 0.3008 - val_accuracy: 0.8952\n",
      "Epoch 63/300\n",
      "1719/1719 [==============================] - 42s 25ms/step - loss: 0.1375 - accuracy: 0.9516 - val_loss: 0.3051 - val_accuracy: 0.8974\n",
      "Epoch 64/300\n",
      "1719/1719 [==============================] - 42s 24ms/step - loss: 0.1352 - accuracy: 0.9524 - val_loss: 0.3042 - val_accuracy: 0.8988\n",
      "Epoch 65/300\n",
      "1719/1719 [==============================] - 42s 24ms/step - loss: 0.1329 - accuracy: 0.9533 - val_loss: 0.3254 - val_accuracy: 0.8954\n",
      "Epoch 66/300\n",
      "1719/1719 [==============================] - 42s 25ms/step - loss: 0.1307 - accuracy: 0.9538 - val_loss: 0.2969 - val_accuracy: 0.8948\n",
      "Epoch 67/300\n",
      "1719/1719 [==============================] - 42s 24ms/step - loss: 0.1287 - accuracy: 0.9554 - val_loss: 0.3159 - val_accuracy: 0.8960\n",
      "Epoch 68/300\n",
      "1719/1719 [==============================] - 42s 25ms/step - loss: 0.1273 - accuracy: 0.9553 - val_loss: 0.3119 - val_accuracy: 0.9002\n",
      "Epoch 69/300\n",
      "1719/1719 [==============================] - 42s 24ms/step - loss: 0.1242 - accuracy: 0.9573 - val_loss: 0.3095 - val_accuracy: 0.8984\n",
      "Epoch 70/300\n",
      "1719/1719 [==============================] - 42s 24ms/step - loss: 0.1233 - accuracy: 0.9564 - val_loss: 0.3163 - val_accuracy: 0.8984\n",
      "Epoch 71/300\n",
      "1719/1719 [==============================] - 42s 25ms/step - loss: 0.1209 - accuracy: 0.9574 - val_loss: 0.3257 - val_accuracy: 0.8928\n",
      "Epoch 72/300\n",
      "1719/1719 [==============================] - 42s 24ms/step - loss: 0.1195 - accuracy: 0.9587 - val_loss: 0.3437 - val_accuracy: 0.8888\n",
      "Epoch 73/300\n",
      "1719/1719 [==============================] - 42s 25ms/step - loss: 0.1172 - accuracy: 0.9584 - val_loss: 0.3155 - val_accuracy: 0.8962\n",
      "Epoch 74/300\n",
      "1719/1719 [==============================] - 42s 24ms/step - loss: 0.1161 - accuracy: 0.9588 - val_loss: 0.3065 - val_accuracy: 0.8970\n",
      "Epoch 75/300\n",
      "1719/1719 [==============================] - 42s 24ms/step - loss: 0.1141 - accuracy: 0.9603 - val_loss: 0.3144 - val_accuracy: 0.8992\n",
      "Epoch 76/300\n",
      "1719/1719 [==============================] - 42s 25ms/step - loss: 0.1114 - accuracy: 0.9620 - val_loss: 0.3119 - val_accuracy: 0.8952\n",
      "Epoch 77/300\n",
      "1719/1719 [==============================] - 42s 24ms/step - loss: 0.1105 - accuracy: 0.9617 - val_loss: 0.3033 - val_accuracy: 0.8994\n",
      "Epoch 78/300\n",
      "1719/1719 [==============================] - 42s 25ms/step - loss: 0.1098 - accuracy: 0.9614 - val_loss: 0.3218 - val_accuracy: 0.8922\n",
      "Epoch 79/300\n",
      "1719/1719 [==============================] - 42s 24ms/step - loss: 0.1052 - accuracy: 0.9647 - val_loss: 0.3411 - val_accuracy: 0.8904\n",
      "Epoch 80/300\n",
      "1719/1719 [==============================] - 42s 24ms/step - loss: 0.1042 - accuracy: 0.9637 - val_loss: 0.3225 - val_accuracy: 0.8962\n",
      "Epoch 81/300\n",
      "1719/1719 [==============================] - 42s 25ms/step - loss: 0.1029 - accuracy: 0.9646 - val_loss: 0.3576 - val_accuracy: 0.8910\n",
      "Epoch 82/300\n",
      "1719/1719 [==============================] - 42s 24ms/step - loss: 0.1015 - accuracy: 0.9649 - val_loss: 0.3240 - val_accuracy: 0.8962\n",
      "Epoch 83/300\n",
      "1719/1719 [==============================] - 42s 25ms/step - loss: 0.0995 - accuracy: 0.9655 - val_loss: 0.3278 - val_accuracy: 0.8990\n",
      "Epoch 84/300\n",
      "1719/1719 [==============================] - 42s 24ms/step - loss: 0.0979 - accuracy: 0.9659 - val_loss: 0.3651 - val_accuracy: 0.8892\n",
      "Epoch 85/300\n",
      "1719/1719 [==============================] - 42s 25ms/step - loss: 0.0969 - accuracy: 0.9669 - val_loss: 0.3302 - val_accuracy: 0.8974\n",
      "Epoch 86/300\n",
      "1719/1719 [==============================] - 42s 25ms/step - loss: 0.0946 - accuracy: 0.9672 - val_loss: 0.3346 - val_accuracy: 0.8884\n",
      "Epoch 87/300\n",
      "1719/1719 [==============================] - 42s 24ms/step - loss: 0.0927 - accuracy: 0.9682 - val_loss: 0.3382 - val_accuracy: 0.8960\n",
      "Epoch 88/300\n",
      "1719/1719 [==============================] - 42s 25ms/step - loss: 0.0926 - accuracy: 0.9681 - val_loss: 0.3431 - val_accuracy: 0.8950\n",
      "Epoch 89/300\n",
      "1719/1719 [==============================] - 42s 24ms/step - loss: 0.0900 - accuracy: 0.9690 - val_loss: 0.3440 - val_accuracy: 0.8974\n",
      "Epoch 90/300\n",
      "1719/1719 [==============================] - 42s 25ms/step - loss: 0.0889 - accuracy: 0.9694 - val_loss: 0.3416 - val_accuracy: 0.8964\n",
      "Epoch 91/300\n",
      "1719/1719 [==============================] - 42s 24ms/step - loss: 0.0866 - accuracy: 0.9706 - val_loss: 0.3234 - val_accuracy: 0.8984\n",
      "Epoch 92/300\n",
      "1719/1719 [==============================] - 42s 24ms/step - loss: 0.0866 - accuracy: 0.9702 - val_loss: 0.3584 - val_accuracy: 0.8950\n",
      "Epoch 93/300\n",
      "1719/1719 [==============================] - 42s 25ms/step - loss: 0.0841 - accuracy: 0.9707 - val_loss: 0.3275 - val_accuracy: 0.8998\n",
      "Epoch 94/300\n",
      "1719/1719 [==============================] - 42s 24ms/step - loss: 0.0831 - accuracy: 0.9723 - val_loss: 0.3584 - val_accuracy: 0.8932\n",
      "Epoch 95/300\n",
      "1719/1719 [==============================] - 42s 24ms/step - loss: 0.0832 - accuracy: 0.9720 - val_loss: 0.3352 - val_accuracy: 0.8982\n",
      "Epoch 96/300\n",
      "1719/1719 [==============================] - 42s 25ms/step - loss: 0.0812 - accuracy: 0.9721 - val_loss: 0.3547 - val_accuracy: 0.8954\n",
      "Epoch 97/300\n",
      "1719/1719 [==============================] - 42s 24ms/step - loss: 0.0787 - accuracy: 0.9743 - val_loss: 0.3642 - val_accuracy: 0.8928\n",
      "Epoch 98/300\n",
      "1719/1719 [==============================] - 42s 25ms/step - loss: 0.0795 - accuracy: 0.9727 - val_loss: 0.3714 - val_accuracy: 0.8988\n",
      "Epoch 99/300\n",
      "1719/1719 [==============================] - 42s 24ms/step - loss: 0.0780 - accuracy: 0.9732 - val_loss: 0.3382 - val_accuracy: 0.9004\n",
      "Epoch 100/300\n",
      "1719/1719 [==============================] - 42s 25ms/step - loss: 0.0757 - accuracy: 0.9746 - val_loss: 0.3479 - val_accuracy: 0.8998\n",
      "Epoch 101/300\n",
      "1719/1719 [==============================] - 42s 24ms/step - loss: 0.0730 - accuracy: 0.9763 - val_loss: 0.3696 - val_accuracy: 0.8960\n",
      "Epoch 102/300\n",
      "1719/1719 [==============================] - 42s 24ms/step - loss: 0.0731 - accuracy: 0.9752 - val_loss: 0.3605 - val_accuracy: 0.8960\n",
      "Epoch 103/300\n",
      "1719/1719 [==============================] - 42s 25ms/step - loss: 0.0717 - accuracy: 0.9759 - val_loss: 0.3525 - val_accuracy: 0.9010\n",
      "Epoch 104/300\n",
      "1719/1719 [==============================] - 42s 24ms/step - loss: 0.0699 - accuracy: 0.9765 - val_loss: 0.3506 - val_accuracy: 0.8994\n",
      "Epoch 105/300\n",
      "1719/1719 [==============================] - 42s 25ms/step - loss: 0.0683 - accuracy: 0.9774 - val_loss: 0.4036 - val_accuracy: 0.8876\n",
      "Epoch 106/300\n",
      "1719/1719 [==============================] - 42s 24ms/step - loss: 0.0672 - accuracy: 0.9772 - val_loss: 0.3834 - val_accuracy: 0.8894\n",
      "Epoch 107/300\n",
      "1719/1719 [==============================] - 42s 25ms/step - loss: 0.0671 - accuracy: 0.9775 - val_loss: 0.3905 - val_accuracy: 0.8940\n",
      "Epoch 108/300\n",
      "1719/1719 [==============================] - 42s 24ms/step - loss: 0.0657 - accuracy: 0.9781 - val_loss: 0.3703 - val_accuracy: 0.8980\n",
      "Epoch 109/300\n",
      "1719/1719 [==============================] - 42s 24ms/step - loss: 0.0645 - accuracy: 0.9787 - val_loss: 0.3955 - val_accuracy: 0.8918\n",
      "Epoch 110/300\n",
      "1719/1719 [==============================] - 42s 25ms/step - loss: 0.0626 - accuracy: 0.9795 - val_loss: 0.3979 - val_accuracy: 0.8938\n",
      "Epoch 111/300\n",
      "1719/1719 [==============================] - 42s 24ms/step - loss: 0.0612 - accuracy: 0.9804 - val_loss: 0.3790 - val_accuracy: 0.8962\n",
      "Epoch 112/300\n",
      "1719/1719 [==============================] - 42s 25ms/step - loss: 0.0625 - accuracy: 0.9793 - val_loss: 0.3799 - val_accuracy: 0.8966\n",
      "Epoch 113/300\n",
      "1719/1719 [==============================] - 42s 24ms/step - loss: 0.0609 - accuracy: 0.9801 - val_loss: 0.3662 - val_accuracy: 0.9000\n",
      "Epoch 114/300\n"
     ]
    },
    {
     "name": "stdout",
     "output_type": "stream",
     "text": [
      "1719/1719 [==============================] - 42s 24ms/step - loss: 0.0581 - accuracy: 0.9811 - val_loss: 0.3833 - val_accuracy: 0.8912\n",
      "Epoch 115/300\n",
      "1719/1719 [==============================] - 42s 24ms/step - loss: 0.0586 - accuracy: 0.9809 - val_loss: 0.3756 - val_accuracy: 0.8992\n",
      "Epoch 116/300\n",
      "1719/1719 [==============================] - 42s 24ms/step - loss: 0.0569 - accuracy: 0.9814 - val_loss: 0.3876 - val_accuracy: 0.8946\n",
      "Epoch 117/300\n",
      "1719/1719 [==============================] - 42s 25ms/step - loss: 0.0548 - accuracy: 0.9820 - val_loss: 0.3898 - val_accuracy: 0.8978\n",
      "Epoch 118/300\n",
      "1719/1719 [==============================] - 42s 24ms/step - loss: 0.0553 - accuracy: 0.9819 - val_loss: 0.4048 - val_accuracy: 0.8928\n",
      "Epoch 119/300\n",
      "1719/1719 [==============================] - 42s 24ms/step - loss: 0.0550 - accuracy: 0.9823 - val_loss: 0.3868 - val_accuracy: 0.8956\n",
      "Epoch 120/300\n",
      "1719/1719 [==============================] - 42s 25ms/step - loss: 0.0530 - accuracy: 0.9831 - val_loss: 0.3955 - val_accuracy: 0.8958\n",
      "Epoch 121/300\n",
      "1719/1719 [==============================] - 42s 24ms/step - loss: 0.0514 - accuracy: 0.9831 - val_loss: 0.4089 - val_accuracy: 0.8910\n",
      "Epoch 122/300\n",
      "1719/1719 [==============================] - 42s 25ms/step - loss: 0.0523 - accuracy: 0.9825 - val_loss: 0.3865 - val_accuracy: 0.8968\n",
      "Epoch 123/300\n",
      "1719/1719 [==============================] - 42s 24ms/step - loss: 0.0503 - accuracy: 0.9836 - val_loss: 0.4031 - val_accuracy: 0.8980\n",
      "Epoch 124/300\n",
      "1719/1719 [==============================] - 42s 24ms/step - loss: 0.0479 - accuracy: 0.9851 - val_loss: 0.4072 - val_accuracy: 0.8926\n",
      "Epoch 125/300\n",
      "1719/1719 [==============================] - 42s 25ms/step - loss: 0.0481 - accuracy: 0.9850 - val_loss: 0.3853 - val_accuracy: 0.8958\n",
      "Epoch 126/300\n",
      "1719/1719 [==============================] - 42s 24ms/step - loss: 0.0464 - accuracy: 0.9854 - val_loss: 0.4072 - val_accuracy: 0.8964\n",
      "Epoch 127/300\n",
      "1719/1719 [==============================] - 42s 25ms/step - loss: 0.0467 - accuracy: 0.9850 - val_loss: 0.4108 - val_accuracy: 0.8954\n",
      "Epoch 128/300\n",
      "1719/1719 [==============================] - 42s 24ms/step - loss: 0.0456 - accuracy: 0.9853 - val_loss: 0.4092 - val_accuracy: 0.8968\n",
      "Epoch 129/300\n",
      "1719/1719 [==============================] - 42s 24ms/step - loss: 0.0450 - accuracy: 0.9857 - val_loss: 0.4115 - val_accuracy: 0.8950\n",
      "Epoch 130/300\n",
      "1719/1719 [==============================] - 42s 25ms/step - loss: 0.0452 - accuracy: 0.9859 - val_loss: 0.4183 - val_accuracy: 0.8954\n",
      "Epoch 131/300\n",
      "1719/1719 [==============================] - 42s 24ms/step - loss: 0.0427 - accuracy: 0.9864 - val_loss: 0.4294 - val_accuracy: 0.8950\n",
      "Epoch 132/300\n",
      "1719/1719 [==============================] - 42s 25ms/step - loss: 0.0419 - accuracy: 0.9865 - val_loss: 0.4138 - val_accuracy: 0.8972\n",
      "Epoch 133/300\n",
      "1719/1719 [==============================] - 42s 24ms/step - loss: 0.0432 - accuracy: 0.9865 - val_loss: 0.4142 - val_accuracy: 0.8972\n",
      "Epoch 134/300\n",
      "1719/1719 [==============================] - 42s 25ms/step - loss: 0.0404 - accuracy: 0.9871 - val_loss: 0.4222 - val_accuracy: 0.8942\n",
      "Epoch 135/300\n",
      "1719/1719 [==============================] - 42s 24ms/step - loss: 0.0388 - accuracy: 0.9878 - val_loss: 0.4242 - val_accuracy: 0.8954\n",
      "Epoch 136/300\n",
      "1719/1719 [==============================] - 42s 24ms/step - loss: 0.0389 - accuracy: 0.9876 - val_loss: 0.4260 - val_accuracy: 0.8968\n",
      "Epoch 137/300\n",
      "1719/1719 [==============================] - 42s 25ms/step - loss: 0.0383 - accuracy: 0.9881 - val_loss: 0.4713 - val_accuracy: 0.8914\n",
      "Epoch 138/300\n",
      "1719/1719 [==============================] - 42s 24ms/step - loss: 0.0403 - accuracy: 0.9868 - val_loss: 0.4379 - val_accuracy: 0.8970\n",
      "Epoch 139/300\n",
      "1719/1719 [==============================] - 42s 24ms/step - loss: 0.0350 - accuracy: 0.9896 - val_loss: 0.4437 - val_accuracy: 0.8938\n",
      "Epoch 140/300\n",
      "1719/1719 [==============================] - 42s 24ms/step - loss: 0.0358 - accuracy: 0.9890 - val_loss: 0.4451 - val_accuracy: 0.8944\n",
      "Epoch 141/300\n",
      "1719/1719 [==============================] - 42s 24ms/step - loss: 0.0353 - accuracy: 0.9889 - val_loss: 0.4346 - val_accuracy: 0.8994\n",
      "Epoch 142/300\n",
      "1719/1719 [==============================] - 42s 25ms/step - loss: 0.0346 - accuracy: 0.9892 - val_loss: 0.4364 - val_accuracy: 0.8982\n",
      "Epoch 143/300\n",
      "1719/1719 [==============================] - 42s 24ms/step - loss: 0.0360 - accuracy: 0.9888 - val_loss: 0.4462 - val_accuracy: 0.8942\n",
      "Epoch 144/300\n",
      "1719/1719 [==============================] - 42s 25ms/step - loss: 0.0355 - accuracy: 0.9888 - val_loss: 0.4302 - val_accuracy: 0.8960\n",
      "Epoch 145/300\n",
      "1719/1719 [==============================] - 42s 24ms/step - loss: 0.0332 - accuracy: 0.9899 - val_loss: 0.4502 - val_accuracy: 0.8954\n",
      "Epoch 146/300\n",
      "1719/1719 [==============================] - 42s 25ms/step - loss: 0.0329 - accuracy: 0.9900 - val_loss: 0.4369 - val_accuracy: 0.8980\n",
      "Epoch 147/300\n",
      "1719/1719 [==============================] - 42s 24ms/step - loss: 0.0292 - accuracy: 0.9912 - val_loss: 0.5107 - val_accuracy: 0.8866\n",
      "Epoch 148/300\n",
      "1719/1719 [==============================] - 42s 25ms/step - loss: 0.0310 - accuracy: 0.9908 - val_loss: 0.4439 - val_accuracy: 0.9000\n",
      "Epoch 149/300\n",
      "1719/1719 [==============================] - 42s 24ms/step - loss: 0.0289 - accuracy: 0.9919 - val_loss: 0.4631 - val_accuracy: 0.8904\n",
      "Epoch 150/300\n",
      "1719/1719 [==============================] - 42s 24ms/step - loss: 0.0311 - accuracy: 0.9907 - val_loss: 0.4524 - val_accuracy: 0.8980\n",
      "Epoch 151/300\n",
      "1719/1719 [==============================] - 42s 25ms/step - loss: 0.0303 - accuracy: 0.9910 - val_loss: 0.4428 - val_accuracy: 0.8912\n",
      "Epoch 152/300\n",
      "1719/1719 [==============================] - 42s 24ms/step - loss: 0.0278 - accuracy: 0.9919 - val_loss: 0.4410 - val_accuracy: 0.8992\n",
      "Epoch 153/300\n",
      "1719/1719 [==============================] - 42s 25ms/step - loss: 0.0270 - accuracy: 0.9925 - val_loss: 0.4600 - val_accuracy: 0.8934\n",
      "Epoch 154/300\n",
      "1719/1719 [==============================] - 42s 24ms/step - loss: 0.0262 - accuracy: 0.9922 - val_loss: 0.4824 - val_accuracy: 0.8976\n",
      "Epoch 155/300\n",
      "1719/1719 [==============================] - 42s 24ms/step - loss: 0.0259 - accuracy: 0.9926 - val_loss: 0.4570 - val_accuracy: 0.8940\n",
      "Epoch 156/300\n",
      "1719/1719 [==============================] - 42s 25ms/step - loss: 0.0274 - accuracy: 0.9916 - val_loss: 0.4716 - val_accuracy: 0.8972\n",
      "Epoch 157/300\n",
      "1719/1719 [==============================] - 42s 24ms/step - loss: 0.0248 - accuracy: 0.9933 - val_loss: 0.4588 - val_accuracy: 0.8990\n",
      "Epoch 158/300\n",
      "1719/1719 [==============================] - 42s 25ms/step - loss: 0.0234 - accuracy: 0.9935 - val_loss: 0.4529 - val_accuracy: 0.8978\n",
      "Epoch 159/300\n",
      "1719/1719 [==============================] - 42s 24ms/step - loss: 0.0231 - accuracy: 0.9941 - val_loss: 0.4610 - val_accuracy: 0.8974\n",
      "Epoch 160/300\n",
      "1719/1719 [==============================] - 42s 25ms/step - loss: 0.0226 - accuracy: 0.9937 - val_loss: 0.4725 - val_accuracy: 0.8956\n",
      "Epoch 161/300\n",
      "1719/1719 [==============================] - 42s 24ms/step - loss: 0.0212 - accuracy: 0.9943 - val_loss: 0.4830 - val_accuracy: 0.8936\n",
      "Epoch 162/300\n",
      "1719/1719 [==============================] - 42s 24ms/step - loss: 0.0236 - accuracy: 0.9934 - val_loss: 0.4843 - val_accuracy: 0.8974\n",
      "Epoch 163/300\n",
      "1719/1719 [==============================] - 42s 25ms/step - loss: 0.0244 - accuracy: 0.9931 - val_loss: 0.4769 - val_accuracy: 0.8964\n",
      "Epoch 164/300\n",
      "1719/1719 [==============================] - 42s 24ms/step - loss: 0.0207 - accuracy: 0.9945 - val_loss: 0.4949 - val_accuracy: 0.8930\n",
      "Epoch 165/300\n",
      "1719/1719 [==============================] - 42s 25ms/step - loss: 0.0208 - accuracy: 0.9947 - val_loss: 0.4989 - val_accuracy: 0.8968\n",
      "Epoch 166/300\n",
      "1719/1719 [==============================] - 42s 24ms/step - loss: 0.0208 - accuracy: 0.9944 - val_loss: 0.4812 - val_accuracy: 0.8976\n",
      "Epoch 167/300\n",
      "1719/1719 [==============================] - 42s 24ms/step - loss: 0.0197 - accuracy: 0.9946 - val_loss: 0.4753 - val_accuracy: 0.8996\n",
      "Epoch 168/300\n",
      "1719/1719 [==============================] - 42s 25ms/step - loss: 0.0195 - accuracy: 0.9953 - val_loss: 0.4848 - val_accuracy: 0.8920\n",
      "Epoch 169/300\n"
     ]
    },
    {
     "name": "stdout",
     "output_type": "stream",
     "text": [
      "1719/1719 [==============================] - 42s 24ms/step - loss: 0.0194 - accuracy: 0.9947 - val_loss: 0.5086 - val_accuracy: 0.8944\n",
      "Epoch 170/300\n",
      "1719/1719 [==============================] - 42s 25ms/step - loss: 0.0198 - accuracy: 0.9947 - val_loss: 0.4802 - val_accuracy: 0.8952\n",
      "Epoch 171/300\n",
      "1719/1719 [==============================] - 42s 24ms/step - loss: 0.0186 - accuracy: 0.9952 - val_loss: 0.5070 - val_accuracy: 0.8930\n",
      "Epoch 172/300\n",
      "1719/1719 [==============================] - 42s 25ms/step - loss: 0.0197 - accuracy: 0.9946 - val_loss: 0.4925 - val_accuracy: 0.8972\n",
      "Epoch 173/300\n",
      "1719/1719 [==============================] - 42s 25ms/step - loss: 0.0165 - accuracy: 0.9962 - val_loss: 0.5092 - val_accuracy: 0.8954\n",
      "Epoch 174/300\n",
      "1719/1719 [==============================] - 42s 24ms/step - loss: 0.0161 - accuracy: 0.9960 - val_loss: 0.4912 - val_accuracy: 0.8974\n",
      "Epoch 175/300\n",
      "1719/1719 [==============================] - 42s 25ms/step - loss: 0.0167 - accuracy: 0.9960 - val_loss: 0.5094 - val_accuracy: 0.8940\n",
      "Epoch 176/300\n",
      "1719/1719 [==============================] - 42s 25ms/step - loss: 0.0151 - accuracy: 0.9964 - val_loss: 0.4966 - val_accuracy: 0.8974\n",
      "Epoch 177/300\n",
      "1719/1719 [==============================] - 42s 24ms/step - loss: 0.0169 - accuracy: 0.9956 - val_loss: 0.4938 - val_accuracy: 0.8976\n",
      "Epoch 178/300\n",
      "1719/1719 [==============================] - 42s 25ms/step - loss: 0.0172 - accuracy: 0.9953 - val_loss: 0.5082 - val_accuracy: 0.8978\n",
      "Epoch 179/300\n",
      "1719/1719 [==============================] - 42s 24ms/step - loss: 0.0130 - accuracy: 0.9975 - val_loss: 0.5067 - val_accuracy: 0.8968\n",
      "Epoch 180/300\n",
      "1719/1719 [==============================] - 42s 25ms/step - loss: 0.0186 - accuracy: 0.9950 - val_loss: 0.5073 - val_accuracy: 0.8968\n",
      "Epoch 181/300\n",
      "1719/1719 [==============================] - 43s 25ms/step - loss: 0.0113 - accuracy: 0.9980 - val_loss: 0.4892 - val_accuracy: 0.8986\n",
      "Epoch 182/300\n",
      "1719/1719 [==============================] - 42s 24ms/step - loss: 0.0163 - accuracy: 0.9961 - val_loss: 0.5082 - val_accuracy: 0.8974\n",
      "Epoch 183/300\n",
      "1719/1719 [==============================] - 42s 25ms/step - loss: 0.0168 - accuracy: 0.9959 - val_loss: 0.4963 - val_accuracy: 0.9000\n",
      "Epoch 184/300\n",
      "1719/1719 [==============================] - 42s 24ms/step - loss: 0.0112 - accuracy: 0.9978 - val_loss: 0.4966 - val_accuracy: 0.9014\n",
      "Epoch 185/300\n",
      "1719/1719 [==============================] - 42s 25ms/step - loss: 0.0117 - accuracy: 0.9978 - val_loss: 0.5093 - val_accuracy: 0.8992\n",
      "Epoch 186/300\n",
      "1719/1719 [==============================] - 42s 24ms/step - loss: 0.0123 - accuracy: 0.9978 - val_loss: 0.5340 - val_accuracy: 0.8942\n",
      "Epoch 187/300\n",
      "1719/1719 [==============================] - 42s 25ms/step - loss: 0.0145 - accuracy: 0.9964 - val_loss: 0.5147 - val_accuracy: 0.8980\n",
      "Epoch 188/300\n",
      "1719/1719 [==============================] - 42s 24ms/step - loss: 0.0106 - accuracy: 0.9981 - val_loss: 0.5250 - val_accuracy: 0.8960\n",
      "Epoch 189/300\n",
      "1719/1719 [==============================] - 42s 25ms/step - loss: 0.0099 - accuracy: 0.9982 - val_loss: 0.5170 - val_accuracy: 0.8984\n",
      "Epoch 190/300\n",
      "1719/1719 [==============================] - 42s 25ms/step - loss: 0.0076 - accuracy: 0.9990 - val_loss: 0.5198 - val_accuracy: 0.9002\n",
      "Epoch 191/300\n",
      "1719/1719 [==============================] - 42s 24ms/step - loss: 0.0096 - accuracy: 0.9982 - val_loss: 0.5199 - val_accuracy: 0.8972\n",
      "Epoch 192/300\n",
      "1719/1719 [==============================] - 42s 25ms/step - loss: 0.0073 - accuracy: 0.9991 - val_loss: 0.5218 - val_accuracy: 0.8976\n",
      "Epoch 193/300\n",
      "1719/1719 [==============================] - 42s 24ms/step - loss: 0.0089 - accuracy: 0.9982 - val_loss: 0.5450 - val_accuracy: 0.8980\n",
      "Epoch 194/300\n",
      "1719/1719 [==============================] - 42s 25ms/step - loss: 0.0106 - accuracy: 0.9979 - val_loss: 0.5404 - val_accuracy: 0.8912\n",
      "Epoch 195/300\n",
      "1719/1719 [==============================] - 42s 24ms/step - loss: 0.0116 - accuracy: 0.9976 - val_loss: 0.5492 - val_accuracy: 0.8926\n",
      "Epoch 196/300\n",
      "1719/1719 [==============================] - 42s 25ms/step - loss: 0.0073 - accuracy: 0.9992 - val_loss: 0.5239 - val_accuracy: 0.9004\n",
      "Epoch 197/300\n",
      "1719/1719 [==============================] - 42s 24ms/step - loss: 0.0061 - accuracy: 0.9995 - val_loss: 0.5322 - val_accuracy: 0.8972\n",
      "Epoch 198/300\n",
      "1719/1719 [==============================] - 42s 24ms/step - loss: 0.0057 - accuracy: 0.9996 - val_loss: 0.5304 - val_accuracy: 0.8984\n",
      "Epoch 199/300\n",
      "1719/1719 [==============================] - 42s 25ms/step - loss: 0.0110 - accuracy: 0.9976 - val_loss: 0.5248 - val_accuracy: 0.8970\n",
      "Epoch 200/300\n",
      "1719/1719 [==============================] - 42s 24ms/step - loss: 0.0077 - accuracy: 0.9987 - val_loss: 0.5310 - val_accuracy: 0.8966\n",
      "Epoch 201/300\n",
      "1719/1719 [==============================] - 43s 25ms/step - loss: 0.0065 - accuracy: 0.9993 - val_loss: 0.5358 - val_accuracy: 0.8970\n",
      "Epoch 202/300\n",
      "1719/1719 [==============================] - 42s 24ms/step - loss: 0.0079 - accuracy: 0.9988 - val_loss: 0.5347 - val_accuracy: 0.8996\n",
      "Epoch 203/300\n",
      "1719/1719 [==============================] - 42s 25ms/step - loss: 0.0106 - accuracy: 0.9978 - val_loss: 0.5380 - val_accuracy: 0.8988\n",
      "Epoch 204/300\n",
      "1719/1719 [==============================] - 42s 24ms/step - loss: 0.0049 - accuracy: 0.9998 - val_loss: 0.5450 - val_accuracy: 0.8982\n",
      "Epoch 205/300\n",
      "1719/1719 [==============================] - 42s 25ms/step - loss: 0.0053 - accuracy: 0.9995 - val_loss: 0.5379 - val_accuracy: 0.8984\n",
      "Epoch 206/300\n",
      "1719/1719 [==============================] - 42s 24ms/step - loss: 0.0046 - accuracy: 0.9997 - val_loss: 0.5447 - val_accuracy: 0.8982\n",
      "Epoch 207/300\n",
      "1719/1719 [==============================] - 42s 24ms/step - loss: 0.0043 - accuracy: 0.9999 - val_loss: 0.5515 - val_accuracy: 0.8972\n",
      "Epoch 208/300\n",
      "1719/1719 [==============================] - 42s 25ms/step - loss: 0.0042 - accuracy: 0.9998 - val_loss: 0.5488 - val_accuracy: 0.8994\n",
      "Epoch 209/300\n",
      "1719/1719 [==============================] - 42s 25ms/step - loss: 0.0045 - accuracy: 0.9997 - val_loss: 0.5535 - val_accuracy: 0.8980\n",
      "Epoch 210/300\n",
      "1719/1719 [==============================] - 42s 24ms/step - loss: 0.0038 - accuracy: 0.9999 - val_loss: 0.5716 - val_accuracy: 0.8932\n",
      "Epoch 211/300\n",
      "1719/1719 [==============================] - 42s 25ms/step - loss: 0.0038 - accuracy: 0.9999 - val_loss: 0.5431 - val_accuracy: 0.8976\n",
      "Epoch 212/300\n",
      "1719/1719 [==============================] - 42s 24ms/step - loss: 0.0040 - accuracy: 0.9998 - val_loss: 0.5562 - val_accuracy: 0.8964\n",
      "Epoch 213/300\n",
      "1719/1719 [==============================] - 42s 25ms/step - loss: 0.0035 - accuracy: 1.0000 - val_loss: 0.5571 - val_accuracy: 0.8972\n",
      "Epoch 214/300\n",
      "1719/1719 [==============================] - 42s 25ms/step - loss: 0.0036 - accuracy: 0.9998 - val_loss: 0.5557 - val_accuracy: 0.8980\n",
      "Epoch 215/300\n",
      "1719/1719 [==============================] - 42s 24ms/step - loss: 0.0041 - accuracy: 0.9997 - val_loss: 0.5530 - val_accuracy: 0.8976\n",
      "Epoch 216/300\n",
      "1719/1719 [==============================] - 42s 25ms/step - loss: 0.0037 - accuracy: 0.9998 - val_loss: 0.5650 - val_accuracy: 0.8958\n",
      "Epoch 217/300\n",
      "1719/1719 [==============================] - 42s 24ms/step - loss: 0.0034 - accuracy: 0.9999 - val_loss: 0.5604 - val_accuracy: 0.8966\n",
      "Epoch 218/300\n",
      "1719/1719 [==============================] - 42s 25ms/step - loss: 0.0031 - accuracy: 0.9999 - val_loss: 0.5644 - val_accuracy: 0.8988\n",
      "Epoch 219/300\n",
      "1719/1719 [==============================] - 42s 24ms/step - loss: 0.0029 - accuracy: 1.0000 - val_loss: 0.5603 - val_accuracy: 0.8992\n",
      "Epoch 220/300\n",
      "1719/1719 [==============================] - 42s 25ms/step - loss: 0.0031 - accuracy: 0.9999 - val_loss: 0.5683 - val_accuracy: 0.8986\n",
      "Epoch 221/300\n",
      "1719/1719 [==============================] - 42s 25ms/step - loss: 0.0029 - accuracy: 1.0000 - val_loss: 0.5598 - val_accuracy: 0.8984\n",
      "Epoch 222/300\n",
      "1719/1719 [==============================] - 42s 24ms/step - loss: 0.0028 - accuracy: 1.0000 - val_loss: 0.5637 - val_accuracy: 0.8998\n",
      "Epoch 223/300\n",
      "1719/1719 [==============================] - 42s 25ms/step - loss: 0.0028 - accuracy: 1.0000 - val_loss: 0.5668 - val_accuracy: 0.8988\n",
      "Epoch 224/300\n"
     ]
    },
    {
     "name": "stdout",
     "output_type": "stream",
     "text": [
      "1719/1719 [==============================] - 42s 24ms/step - loss: 0.0027 - accuracy: 1.0000 - val_loss: 0.5731 - val_accuracy: 0.8974\n",
      "Epoch 225/300\n",
      "1719/1719 [==============================] - 42s 25ms/step - loss: 0.0027 - accuracy: 1.0000 - val_loss: 0.5663 - val_accuracy: 0.8988\n",
      "Epoch 226/300\n",
      "1719/1719 [==============================] - 42s 24ms/step - loss: 0.0026 - accuracy: 1.0000 - val_loss: 0.5693 - val_accuracy: 0.8986\n",
      "Epoch 227/300\n",
      "1719/1719 [==============================] - 42s 24ms/step - loss: 0.0027 - accuracy: 0.9999 - val_loss: 0.5749 - val_accuracy: 0.8982\n",
      "Epoch 228/300\n",
      "1719/1719 [==============================] - 42s 24ms/step - loss: 0.0027 - accuracy: 0.9999 - val_loss: 0.5774 - val_accuracy: 0.8980\n",
      "Epoch 229/300\n",
      "1719/1719 [==============================] - 42s 24ms/step - loss: 0.0024 - accuracy: 1.0000 - val_loss: 0.5684 - val_accuracy: 0.8974\n",
      "Epoch 230/300\n",
      "1719/1719 [==============================] - 42s 25ms/step - loss: 0.0026 - accuracy: 0.9999 - val_loss: 0.5759 - val_accuracy: 0.8966\n",
      "Epoch 231/300\n",
      "1719/1719 [==============================] - 42s 24ms/step - loss: 0.0025 - accuracy: 1.0000 - val_loss: 0.5779 - val_accuracy: 0.9000\n",
      "Epoch 232/300\n",
      "1719/1719 [==============================] - 42s 25ms/step - loss: 0.0024 - accuracy: 1.0000 - val_loss: 0.5772 - val_accuracy: 0.8980\n",
      "Epoch 233/300\n",
      "1719/1719 [==============================] - 42s 24ms/step - loss: 0.0023 - accuracy: 1.0000 - val_loss: 0.5774 - val_accuracy: 0.8978\n",
      "Epoch 234/300\n",
      "1719/1719 [==============================] - 42s 24ms/step - loss: 0.0023 - accuracy: 1.0000 - val_loss: 0.5771 - val_accuracy: 0.8984\n",
      "Epoch 235/300\n",
      "1719/1719 [==============================] - 42s 25ms/step - loss: 0.0022 - accuracy: 1.0000 - val_loss: 0.5803 - val_accuracy: 0.8990\n",
      "Epoch 236/300\n",
      "1719/1719 [==============================] - 42s 24ms/step - loss: 0.0022 - accuracy: 1.0000 - val_loss: 0.5798 - val_accuracy: 0.8996\n",
      "Epoch 237/300\n",
      "1719/1719 [==============================] - 42s 25ms/step - loss: 0.0022 - accuracy: 1.0000 - val_loss: 0.5852 - val_accuracy: 0.9002\n",
      "Epoch 238/300\n",
      "1719/1719 [==============================] - 42s 24ms/step - loss: 0.0021 - accuracy: 1.0000 - val_loss: 0.5813 - val_accuracy: 0.8994\n",
      "Epoch 239/300\n",
      "1719/1719 [==============================] - 42s 25ms/step - loss: 0.0021 - accuracy: 1.0000 - val_loss: 0.6010 - val_accuracy: 0.8976\n",
      "Epoch 240/300\n",
      "1719/1719 [==============================] - 42s 24ms/step - loss: 0.0023 - accuracy: 0.9999 - val_loss: 0.5884 - val_accuracy: 0.8992\n",
      "Epoch 241/300\n",
      "1719/1719 [==============================] - 42s 24ms/step - loss: 0.0020 - accuracy: 1.0000 - val_loss: 0.5879 - val_accuracy: 0.8976\n",
      "Epoch 242/300\n",
      "1719/1719 [==============================] - 42s 24ms/step - loss: 0.0020 - accuracy: 1.0000 - val_loss: 0.5833 - val_accuracy: 0.8988\n",
      "Epoch 243/300\n",
      "1719/1719 [==============================] - 45s 26ms/step - loss: 0.0020 - accuracy: 1.0000 - val_loss: 0.5857 - val_accuracy: 0.8980\n",
      "Epoch 244/300\n",
      "1719/1719 [==============================] - 42s 25ms/step - loss: 0.0019 - accuracy: 1.0000 - val_loss: 0.5952 - val_accuracy: 0.8982\n",
      "Epoch 245/300\n",
      "1719/1719 [==============================] - 42s 24ms/step - loss: 0.0019 - accuracy: 1.0000 - val_loss: 0.5912 - val_accuracy: 0.8976\n",
      "Epoch 246/300\n",
      "1719/1719 [==============================] - 43s 25ms/step - loss: 0.0019 - accuracy: 1.0000 - val_loss: 0.5893 - val_accuracy: 0.8978\n",
      "Epoch 247/300\n",
      "1719/1719 [==============================] - 42s 24ms/step - loss: 0.0019 - accuracy: 1.0000 - val_loss: 0.5944 - val_accuracy: 0.8980\n",
      "Epoch 248/300\n",
      "1719/1719 [==============================] - 42s 24ms/step - loss: 0.0019 - accuracy: 1.0000 - val_loss: 0.5881 - val_accuracy: 0.8982\n",
      "Epoch 249/300\n",
      "1719/1719 [==============================] - 42s 25ms/step - loss: 0.0018 - accuracy: 1.0000 - val_loss: 0.5921 - val_accuracy: 0.8976\n",
      "Epoch 250/300\n",
      "1719/1719 [==============================] - 42s 24ms/step - loss: 0.0018 - accuracy: 1.0000 - val_loss: 0.5996 - val_accuracy: 0.8980\n",
      "Epoch 251/300\n",
      "1719/1719 [==============================] - 42s 25ms/step - loss: 0.0019 - accuracy: 1.0000 - val_loss: 0.5967 - val_accuracy: 0.8972\n",
      "Epoch 252/300\n",
      "1719/1719 [==============================] - 42s 24ms/step - loss: 0.0018 - accuracy: 1.0000 - val_loss: 0.5976 - val_accuracy: 0.8970\n",
      "Epoch 253/300\n",
      "1719/1719 [==============================] - 42s 25ms/step - loss: 0.0017 - accuracy: 1.0000 - val_loss: 0.6002 - val_accuracy: 0.8972\n",
      "Epoch 254/300\n",
      "1719/1719 [==============================] - 42s 24ms/step - loss: 0.0017 - accuracy: 1.0000 - val_loss: 0.5987 - val_accuracy: 0.8968\n",
      "Epoch 255/300\n",
      "1719/1719 [==============================] - 42s 25ms/step - loss: 0.0017 - accuracy: 1.0000 - val_loss: 0.5981 - val_accuracy: 0.8992\n",
      "Epoch 256/300\n",
      "1719/1719 [==============================] - 42s 24ms/step - loss: 0.0017 - accuracy: 1.0000 - val_loss: 0.6021 - val_accuracy: 0.8976\n",
      "Epoch 257/300\n",
      "1719/1719 [==============================] - 42s 24ms/step - loss: 0.0017 - accuracy: 1.0000 - val_loss: 0.5971 - val_accuracy: 0.8992\n",
      "Epoch 258/300\n",
      "1719/1719 [==============================] - 42s 25ms/step - loss: 0.0016 - accuracy: 1.0000 - val_loss: 0.6037 - val_accuracy: 0.8986\n",
      "Epoch 259/300\n",
      "1719/1719 [==============================] - 42s 24ms/step - loss: 0.0017 - accuracy: 1.0000 - val_loss: 0.6069 - val_accuracy: 0.8998\n",
      "Epoch 260/300\n",
      "1719/1719 [==============================] - 43s 25ms/step - loss: 0.0016 - accuracy: 1.0000 - val_loss: 0.6023 - val_accuracy: 0.8992\n",
      "Epoch 261/300\n",
      "1719/1719 [==============================] - 42s 24ms/step - loss: 0.0016 - accuracy: 1.0000 - val_loss: 0.6055 - val_accuracy: 0.8980\n",
      "Epoch 262/300\n",
      "1719/1719 [==============================] - 42s 25ms/step - loss: 0.0016 - accuracy: 1.0000 - val_loss: 0.6078 - val_accuracy: 0.8994\n",
      "Epoch 263/300\n",
      "1719/1719 [==============================] - 42s 24ms/step - loss: 0.0016 - accuracy: 1.0000 - val_loss: 0.6090 - val_accuracy: 0.8994\n",
      "Epoch 264/300\n",
      "1719/1719 [==============================] - 42s 24ms/step - loss: 0.0016 - accuracy: 1.0000 - val_loss: 0.6068 - val_accuracy: 0.8982\n",
      "Epoch 265/300\n",
      "1719/1719 [==============================] - 42s 25ms/step - loss: 0.0015 - accuracy: 1.0000 - val_loss: 0.6071 - val_accuracy: 0.8972\n",
      "Epoch 266/300\n",
      "1719/1719 [==============================] - 42s 24ms/step - loss: 0.0015 - accuracy: 1.0000 - val_loss: 0.6131 - val_accuracy: 0.8982\n",
      "Epoch 267/300\n",
      "1719/1719 [==============================] - 42s 25ms/step - loss: 0.0015 - accuracy: 1.0000 - val_loss: 0.6098 - val_accuracy: 0.8974\n",
      "Epoch 268/300\n",
      "1719/1719 [==============================] - 42s 24ms/step - loss: 0.0015 - accuracy: 1.0000 - val_loss: 0.6077 - val_accuracy: 0.8974\n",
      "Epoch 269/300\n",
      "1719/1719 [==============================] - 42s 25ms/step - loss: 0.0015 - accuracy: 1.0000 - val_loss: 0.6144 - val_accuracy: 0.8980\n",
      "Epoch 270/300\n",
      "1719/1719 [==============================] - 42s 24ms/step - loss: 0.0015 - accuracy: 1.0000 - val_loss: 0.6144 - val_accuracy: 0.8970\n",
      "Epoch 271/300\n",
      "1719/1719 [==============================] - 42s 24ms/step - loss: 0.0014 - accuracy: 1.0000 - val_loss: 0.6102 - val_accuracy: 0.8980\n",
      "Epoch 272/300\n",
      "1719/1719 [==============================] - 42s 25ms/step - loss: 0.0014 - accuracy: 1.0000 - val_loss: 0.6118 - val_accuracy: 0.8972\n",
      "Epoch 273/300\n",
      "1719/1719 [==============================] - 42s 24ms/step - loss: 0.0014 - accuracy: 1.0000 - val_loss: 0.6136 - val_accuracy: 0.8990\n",
      "Epoch 274/300\n",
      "1719/1719 [==============================] - 42s 25ms/step - loss: 0.0014 - accuracy: 1.0000 - val_loss: 0.6128 - val_accuracy: 0.8976\n",
      "Epoch 275/300\n",
      "1719/1719 [==============================] - 42s 24ms/step - loss: 0.0014 - accuracy: 1.0000 - val_loss: 0.6149 - val_accuracy: 0.8972\n",
      "Epoch 276/300\n",
      "1719/1719 [==============================] - 42s 24ms/step - loss: 0.0014 - accuracy: 1.0000 - val_loss: 0.6156 - val_accuracy: 0.8986\n",
      "Epoch 277/300\n",
      "1719/1719 [==============================] - 42s 25ms/step - loss: 0.0014 - accuracy: 1.0000 - val_loss: 0.6183 - val_accuracy: 0.8984\n",
      "Epoch 278/300\n",
      "1719/1719 [==============================] - 42s 24ms/step - loss: 0.0013 - accuracy: 1.0000 - val_loss: 0.6167 - val_accuracy: 0.8972\n",
      "Epoch 279/300\n"
     ]
    },
    {
     "name": "stdout",
     "output_type": "stream",
     "text": [
      "1719/1719 [==============================] - 42s 25ms/step - loss: 0.0013 - accuracy: 1.0000 - val_loss: 0.6195 - val_accuracy: 0.8988\n",
      "Epoch 280/300\n",
      "1719/1719 [==============================] - 42s 24ms/step - loss: 0.0013 - accuracy: 1.0000 - val_loss: 0.6193 - val_accuracy: 0.8984\n",
      "Epoch 281/300\n",
      "1719/1719 [==============================] - 42s 24ms/step - loss: 0.0013 - accuracy: 1.0000 - val_loss: 0.6211 - val_accuracy: 0.8984\n",
      "Epoch 282/300\n",
      "1719/1719 [==============================] - 42s 24ms/step - loss: 0.0013 - accuracy: 1.0000 - val_loss: 0.6214 - val_accuracy: 0.8980\n",
      "Epoch 283/300\n",
      "1719/1719 [==============================] - 42s 24ms/step - loss: 0.0013 - accuracy: 1.0000 - val_loss: 0.6219 - val_accuracy: 0.8980\n",
      "Epoch 284/300\n",
      "1719/1719 [==============================] - 42s 25ms/step - loss: 0.0013 - accuracy: 1.0000 - val_loss: 0.6246 - val_accuracy: 0.8980\n",
      "Epoch 285/300\n",
      "1719/1719 [==============================] - 42s 24ms/step - loss: 0.0013 - accuracy: 1.0000 - val_loss: 0.6227 - val_accuracy: 0.8982\n",
      "Epoch 286/300\n",
      "1719/1719 [==============================] - 42s 25ms/step - loss: 0.0013 - accuracy: 1.0000 - val_loss: 0.6236 - val_accuracy: 0.8998\n",
      "Epoch 287/300\n",
      "1719/1719 [==============================] - 42s 24ms/step - loss: 0.0012 - accuracy: 1.0000 - val_loss: 0.6257 - val_accuracy: 0.8980\n",
      "Epoch 288/300\n",
      "1719/1719 [==============================] - 42s 24ms/step - loss: 0.0012 - accuracy: 1.0000 - val_loss: 0.6258 - val_accuracy: 0.8992\n",
      "Epoch 289/300\n",
      "1719/1719 [==============================] - 42s 25ms/step - loss: 0.0012 - accuracy: 1.0000 - val_loss: 0.6274 - val_accuracy: 0.8984\n",
      "Epoch 290/300\n",
      "1719/1719 [==============================] - 42s 24ms/step - loss: 0.0012 - accuracy: 1.0000 - val_loss: 0.6252 - val_accuracy: 0.8976\n",
      "Epoch 291/300\n",
      "1719/1719 [==============================] - 42s 25ms/step - loss: 0.0012 - accuracy: 1.0000 - val_loss: 0.6263 - val_accuracy: 0.8980\n",
      "Epoch 292/300\n",
      "1719/1719 [==============================] - 42s 24ms/step - loss: 0.0012 - accuracy: 1.0000 - val_loss: 0.6287 - val_accuracy: 0.8976\n",
      "Epoch 293/300\n",
      "1719/1719 [==============================] - 42s 24ms/step - loss: 0.0012 - accuracy: 1.0000 - val_loss: 0.6289 - val_accuracy: 0.8984\n",
      "Epoch 294/300\n",
      "1719/1719 [==============================] - 42s 25ms/step - loss: 0.0012 - accuracy: 1.0000 - val_loss: 0.6294 - val_accuracy: 0.8980\n",
      "Epoch 295/300\n",
      "1719/1719 [==============================] - 42s 24ms/step - loss: 0.0012 - accuracy: 1.0000 - val_loss: 0.6284 - val_accuracy: 0.8980\n",
      "Epoch 296/300\n",
      "1719/1719 [==============================] - 42s 25ms/step - loss: 0.0011 - accuracy: 1.0000 - val_loss: 0.6312 - val_accuracy: 0.8990\n",
      "Epoch 297/300\n",
      "1719/1719 [==============================] - 42s 24ms/step - loss: 0.0012 - accuracy: 1.0000 - val_loss: 0.6308 - val_accuracy: 0.8980\n",
      "Epoch 298/300\n",
      "1719/1719 [==============================] - 42s 24ms/step - loss: 0.0011 - accuracy: 1.0000 - val_loss: 0.6335 - val_accuracy: 0.8986\n",
      "Epoch 299/300\n",
      "1719/1719 [==============================] - 42s 25ms/step - loss: 0.0011 - accuracy: 1.0000 - val_loss: 0.6326 - val_accuracy: 0.8980\n",
      "Epoch 300/300\n",
      "1719/1719 [==============================] - 42s 24ms/step - loss: 0.0011 - accuracy: 1.0000 - val_loss: 0.6344 - val_accuracy: 0.8982\n"
     ]
    }
   ],
   "source": [
    "# The same model as earlier, but with many more epochs than earlier.\n",
    "model2 = keras.models.Sequential([\n",
    "    keras.layers.Flatten(input_shape=[28, 28]),\n",
    "    keras.layers.Dense(300, activation=\"relu\"),\n",
    "    keras.layers.Dense(100, activation=\"relu\"),\n",
    "    keras.layers.Dense(10, activation=\"softmax\")\n",
    "])\n",
    "model2.compile(loss=\"sparse_categorical_crossentropy\",\n",
    "             optimizer=\"sgd\",\n",
    "             metrics=[\"accuracy\"])\n",
    "history2 = model2.fit(X_train, y_train, epochs=300,\n",
    "                   validation_data=(X_valid, y_valid))"
   ]
  },
  {
   "cell_type": "code",
   "execution_count": 36,
   "metadata": {},
   "outputs": [
    {
     "data": {
      "image/png": "[encoded data removed]",
      "text/plain": [
       "<Figure size 576x360 with 1 Axes>"
      ]
     },
     "metadata": {
      "needs_background": "light"
     },
     "output_type": "display_data"
    }
   ],
   "source": [
    "import pandas as pd\n",
    "\n",
    "pd.DataFrame(history2.history).plot(figsize=(8,5))\n",
    "plt.grid(True)\n",
    "plt.gca().set_ylim(0,1) # Y axis set to [0,1]\n",
    "plt.show()"
   ]
  },
  {
   "cell_type": "markdown",
   "metadata": {},
   "source": [
    "This looks overfitted. The accuracy is 100% but the validation accuracy is 91%."
   ]
  },
  {
   "cell_type": "code",
   "execution_count": 32,
   "metadata": {
    "collapsed": true
   },
   "outputs": [
    {
     "name": "stdout",
     "output_type": "stream",
     "text": [
      "Epoch 1/30\n",
      "1719/1719 [==============================] - 60s 35ms/step - loss: 0.7099 - accuracy: 0.7638 - val_loss: 0.4921 - val_accuracy: 0.8350\n",
      "Epoch 2/30\n",
      "1719/1719 [==============================] - 60s 35ms/step - loss: 0.4708 - accuracy: 0.8358 - val_loss: 0.4589 - val_accuracy: 0.8362\n",
      "Epoch 3/30\n",
      "1719/1719 [==============================] - 60s 35ms/step - loss: 0.4236 - accuracy: 0.8506 - val_loss: 0.3978 - val_accuracy: 0.8662\n",
      "Epoch 4/30\n",
      "1719/1719 [==============================] - 60s 35ms/step - loss: 0.3954 - accuracy: 0.8593 - val_loss: 0.3922 - val_accuracy: 0.8592\n",
      "Epoch 5/30\n",
      "1719/1719 [==============================] - 60s 35ms/step - loss: 0.3751 - accuracy: 0.8652 - val_loss: 0.3676 - val_accuracy: 0.8742\n",
      "Epoch 6/30\n",
      "1719/1719 [==============================] - 60s 35ms/step - loss: 0.3585 - accuracy: 0.8711 - val_loss: 0.3486 - val_accuracy: 0.8776\n",
      "Epoch 7/30\n",
      "1719/1719 [==============================] - 59s 35ms/step - loss: 0.3449 - accuracy: 0.8756 - val_loss: 0.3486 - val_accuracy: 0.8784\n",
      "Epoch 8/30\n",
      "1719/1719 [==============================] - 59s 35ms/step - loss: 0.3314 - accuracy: 0.8800 - val_loss: 0.3398 - val_accuracy: 0.8774\n",
      "Epoch 9/30\n",
      "1719/1719 [==============================] - 59s 35ms/step - loss: 0.3217 - accuracy: 0.8844 - val_loss: 0.3385 - val_accuracy: 0.8808\n",
      "Epoch 10/30\n",
      "1719/1719 [==============================] - 60s 35ms/step - loss: 0.3113 - accuracy: 0.8866 - val_loss: 0.3480 - val_accuracy: 0.8776\n",
      "Epoch 11/30\n",
      "1719/1719 [==============================] - 60s 35ms/step - loss: 0.3022 - accuracy: 0.8907 - val_loss: 0.3434 - val_accuracy: 0.8738\n",
      "Epoch 12/30\n",
      "1719/1719 [==============================] - 60s 35ms/step - loss: 0.2943 - accuracy: 0.8941 - val_loss: 0.3087 - val_accuracy: 0.8898\n",
      "Epoch 13/30\n",
      "1719/1719 [==============================] - 60s 35ms/step - loss: 0.2857 - accuracy: 0.8953 - val_loss: 0.3126 - val_accuracy: 0.8892\n",
      "Epoch 14/30\n",
      "1719/1719 [==============================] - 60s 35ms/step - loss: 0.2801 - accuracy: 0.8973 - val_loss: 0.3084 - val_accuracy: 0.8872\n",
      "Epoch 15/30\n",
      "1719/1719 [==============================] - 60s 35ms/step - loss: 0.2715 - accuracy: 0.9011 - val_loss: 0.3362 - val_accuracy: 0.8792\n",
      "Epoch 16/30\n",
      "1719/1719 [==============================] - 60s 35ms/step - loss: 0.2668 - accuracy: 0.9029 - val_loss: 0.3106 - val_accuracy: 0.8892\n",
      "Epoch 17/30\n",
      "1719/1719 [==============================] - 59s 35ms/step - loss: 0.2603 - accuracy: 0.9047 - val_loss: 0.2940 - val_accuracy: 0.8930\n",
      "Epoch 18/30\n",
      "1719/1719 [==============================] - 60s 35ms/step - loss: 0.2535 - accuracy: 0.9070 - val_loss: 0.3172 - val_accuracy: 0.8840\n",
      "Epoch 19/30\n",
      "1719/1719 [==============================] - 59s 34ms/step - loss: 0.2488 - accuracy: 0.9093 - val_loss: 0.3112 - val_accuracy: 0.8864\n",
      "Epoch 20/30\n",
      "1719/1719 [==============================] - 59s 35ms/step - loss: 0.2415 - accuracy: 0.9116 - val_loss: 0.2864 - val_accuracy: 0.8978\n",
      "Epoch 21/30\n",
      "1719/1719 [==============================] - 60s 35ms/step - loss: 0.2370 - accuracy: 0.9129 - val_loss: 0.2882 - val_accuracy: 0.8928\n",
      "Epoch 22/30\n",
      "1719/1719 [==============================] - 60s 35ms/step - loss: 0.2313 - accuracy: 0.9175 - val_loss: 0.3069 - val_accuracy: 0.8894\n",
      "Epoch 23/30\n",
      "1719/1719 [==============================] - 60s 35ms/step - loss: 0.2255 - accuracy: 0.9173 - val_loss: 0.2944 - val_accuracy: 0.8922\n",
      "Epoch 24/30\n",
      "1719/1719 [==============================] - 60s 35ms/step - loss: 0.2222 - accuracy: 0.9190 - val_loss: 0.3022 - val_accuracy: 0.8888\n",
      "Epoch 25/30\n",
      "1719/1719 [==============================] - 60s 35ms/step - loss: 0.2167 - accuracy: 0.9208 - val_loss: 0.3005 - val_accuracy: 0.8960\n",
      "Epoch 26/30\n",
      "1719/1719 [==============================] - 59s 34ms/step - loss: 0.2115 - accuracy: 0.9222 - val_loss: 0.2994 - val_accuracy: 0.8910\n",
      "Epoch 27/30\n",
      "1719/1719 [==============================] - 59s 34ms/step - loss: 0.2073 - accuracy: 0.9245 - val_loss: 0.3011 - val_accuracy: 0.8934\n",
      "Epoch 28/30\n",
      "1719/1719 [==============================] - 59s 35ms/step - loss: 0.2034 - accuracy: 0.9255 - val_loss: 0.3214 - val_accuracy: 0.8870\n",
      "Epoch 29/30\n",
      "1719/1719 [==============================] - 60s 35ms/step - loss: 0.1988 - accuracy: 0.9280 - val_loss: 0.3070 - val_accuracy: 0.8864\n",
      "Epoch 30/30\n",
      "1719/1719 [==============================] - 60s 35ms/step - loss: 0.1950 - accuracy: 0.9291 - val_loss: 0.3080 - val_accuracy: 0.8924\n"
     ]
    }
   ],
   "source": [
    "# A deeper model than earlier, but with as many epochs as the first.\n",
    "model3 = keras.models.Sequential([\n",
    "    keras.layers.Flatten(input_shape=[28, 28]),\n",
    "    keras.layers.Dense(300, activation=\"relu\"),\n",
    "    keras.layers.Dense(300, activation=\"relu\"),\n",
    "    keras.layers.Dense(100, activation=\"relu\"),\n",
    "    keras.layers.Dense(10, activation=\"softmax\")\n",
    "])\n",
    "model3.compile(loss=\"sparse_categorical_crossentropy\",\n",
    "             optimizer=\"sgd\",\n",
    "             metrics=[\"accuracy\"])\n",
    "history3 = model3.fit(X_train, y_train, epochs=30,\n",
    "                   validation_data=(X_valid, y_valid))"
   ]
  },
  {
   "cell_type": "code",
   "execution_count": 38,
   "metadata": {},
   "outputs": [
    {
     "data": {
      "image/png": "[encoded data removed]",
      "text/plain": [
       "<Figure size 576x360 with 1 Axes>"
      ]
     },
     "metadata": {
      "needs_background": "light"
     },
     "output_type": "display_data"
    }
   ],
   "source": [
    "import pandas as pd\n",
    "\n",
    "pd.DataFrame(history3.history).plot(figsize=(8,5))\n",
    "plt.grid(True)\n",
    "plt.gca().set_ylim(0,1) # Y axis set to [0,1]\n",
    "plt.show()"
   ]
  },
  {
   "cell_type": "markdown",
   "metadata": {},
   "source": [
    "This looks good, and convergence has been reached. Accuracy is close to validation accuracy."
   ]
  },
  {
   "cell_type": "code",
   "execution_count": 33,
   "metadata": {
    "collapsed": true
   },
   "outputs": [
    {
     "name": "stdout",
     "output_type": "stream",
     "text": [
      "Epoch 1/30\n",
      "1719/1719 [==============================] - 42s 24ms/step - loss: 0.7988 - accuracy: 0.7269 - val_loss: 0.5158 - val_accuracy: 0.8262\n",
      "Epoch 2/30\n",
      "1719/1719 [==============================] - 41s 24ms/step - loss: 0.4945 - accuracy: 0.8251 - val_loss: 0.4614 - val_accuracy: 0.8420\n",
      "Epoch 3/30\n",
      "1719/1719 [==============================] - 41s 24ms/step - loss: 0.4401 - accuracy: 0.8448 - val_loss: 0.4393 - val_accuracy: 0.8462\n",
      "Epoch 4/30\n",
      "1719/1719 [==============================] - 42s 24ms/step - loss: 0.4095 - accuracy: 0.8534 - val_loss: 0.3902 - val_accuracy: 0.8648\n",
      "Epoch 5/30\n",
      "1719/1719 [==============================] - 41s 24ms/step - loss: 0.3856 - accuracy: 0.8620 - val_loss: 0.3803 - val_accuracy: 0.8630\n",
      "Epoch 6/30\n",
      "1719/1719 [==============================] - 42s 24ms/step - loss: 0.3684 - accuracy: 0.8676 - val_loss: 0.3617 - val_accuracy: 0.8744\n",
      "Epoch 7/30\n",
      "1719/1719 [==============================] - 42s 24ms/step - loss: 0.3523 - accuracy: 0.8727 - val_loss: 0.3745 - val_accuracy: 0.8714\n",
      "Epoch 8/30\n",
      "1719/1719 [==============================] - 41s 24ms/step - loss: 0.3392 - accuracy: 0.8766 - val_loss: 0.3531 - val_accuracy: 0.8748\n",
      "Epoch 9/30\n",
      "1719/1719 [==============================] - 41s 24ms/step - loss: 0.3280 - accuracy: 0.8806 - val_loss: 0.3540 - val_accuracy: 0.8712\n",
      "Epoch 10/30\n",
      "1719/1719 [==============================] - 42s 24ms/step - loss: 0.3177 - accuracy: 0.8843 - val_loss: 0.3360 - val_accuracy: 0.8784\n",
      "Epoch 11/30\n",
      "1719/1719 [==============================] - 42s 24ms/step - loss: 0.3099 - accuracy: 0.8874 - val_loss: 0.3288 - val_accuracy: 0.8840\n",
      "Epoch 12/30\n",
      "1719/1719 [==============================] - 41s 24ms/step - loss: 0.3002 - accuracy: 0.8899 - val_loss: 0.3466 - val_accuracy: 0.8772\n",
      "Epoch 13/30\n",
      "1719/1719 [==============================] - 42s 24ms/step - loss: 0.2928 - accuracy: 0.8936 - val_loss: 0.3217 - val_accuracy: 0.8824\n",
      "Epoch 14/30\n",
      "1719/1719 [==============================] - 42s 24ms/step - loss: 0.2854 - accuracy: 0.8956 - val_loss: 0.3254 - val_accuracy: 0.8792\n",
      "Epoch 15/30\n",
      "1719/1719 [==============================] - 41s 24ms/step - loss: 0.2792 - accuracy: 0.8974 - val_loss: 0.3105 - val_accuracy: 0.8874\n",
      "Epoch 16/30\n",
      "1719/1719 [==============================] - 41s 24ms/step - loss: 0.2727 - accuracy: 0.9010 - val_loss: 0.3101 - val_accuracy: 0.8854\n",
      "Epoch 17/30\n",
      "1719/1719 [==============================] - 41s 24ms/step - loss: 0.2663 - accuracy: 0.9009 - val_loss: 0.3072 - val_accuracy: 0.8890\n",
      "Epoch 18/30\n",
      "1719/1719 [==============================] - 42s 24ms/step - loss: 0.2607 - accuracy: 0.9049 - val_loss: 0.3211 - val_accuracy: 0.8836\n",
      "Epoch 19/30\n",
      "1719/1719 [==============================] - 41s 24ms/step - loss: 0.2550 - accuracy: 0.9056 - val_loss: 0.3020 - val_accuracy: 0.8896\n",
      "Epoch 20/30\n",
      "1719/1719 [==============================] - 41s 24ms/step - loss: 0.2496 - accuracy: 0.9088 - val_loss: 0.3222 - val_accuracy: 0.8838\n",
      "Epoch 21/30\n",
      "1719/1719 [==============================] - 42s 24ms/step - loss: 0.2444 - accuracy: 0.9113 - val_loss: 0.2969 - val_accuracy: 0.8896\n",
      "Epoch 22/30\n",
      "1719/1719 [==============================] - 41s 24ms/step - loss: 0.2396 - accuracy: 0.9121 - val_loss: 0.2989 - val_accuracy: 0.8916\n",
      "Epoch 23/30\n",
      "1719/1719 [==============================] - 41s 24ms/step - loss: 0.2349 - accuracy: 0.9135 - val_loss: 0.2909 - val_accuracy: 0.8956\n",
      "Epoch 24/30\n",
      "1719/1719 [==============================] - 42s 24ms/step - loss: 0.2305 - accuracy: 0.9157 - val_loss: 0.2925 - val_accuracy: 0.8932\n",
      "Epoch 25/30\n",
      "1719/1719 [==============================] - 42s 24ms/step - loss: 0.2256 - accuracy: 0.9175 - val_loss: 0.2995 - val_accuracy: 0.8892\n",
      "Epoch 26/30\n",
      "1719/1719 [==============================] - 41s 24ms/step - loss: 0.2217 - accuracy: 0.9189 - val_loss: 0.3232 - val_accuracy: 0.8816\n",
      "Epoch 27/30\n",
      "1719/1719 [==============================] - 41s 24ms/step - loss: 0.2167 - accuracy: 0.9194 - val_loss: 0.2948 - val_accuracy: 0.8928\n",
      "Epoch 28/30\n",
      "1719/1719 [==============================] - 42s 24ms/step - loss: 0.2118 - accuracy: 0.9231 - val_loss: 0.3079 - val_accuracy: 0.8850\n",
      "Epoch 29/30\n",
      "1719/1719 [==============================] - 41s 24ms/step - loss: 0.2093 - accuracy: 0.9227 - val_loss: 0.2916 - val_accuracy: 0.8934\n",
      "Epoch 30/30\n",
      "1719/1719 [==============================] - 41s 24ms/step - loss: 0.2042 - accuracy: 0.9244 - val_loss: 0.2948 - val_accuracy: 0.8914\n"
     ]
    }
   ],
   "source": [
    "# A deeper model than earlier, but constraining the input layer and expanding again\n",
    "model4 = keras.models.Sequential([\n",
    "    keras.layers.Flatten(input_shape=[28, 28]),\n",
    "    keras.layers.Dense(300, activation=\"relu\"),\n",
    "    keras.layers.Dense(50, activation=\"relu\"),\n",
    "    keras.layers.Dense(100, activation=\"relu\"),\n",
    "    keras.layers.Dense(10, activation=\"softmax\")\n",
    "])\n",
    "model4.compile(loss=\"sparse_categorical_crossentropy\",\n",
    "             optimizer=\"sgd\",\n",
    "             metrics=[\"accuracy\"])\n",
    "history4 = model4.fit(X_train, y_train, epochs=30,\n",
    "                   validation_data=(X_valid, y_valid))"
   ]
  },
  {
   "cell_type": "code",
   "execution_count": 37,
   "metadata": {},
   "outputs": [
    {
     "data": {
      "image/png": "[encoded data removed]",
      "text/plain": [
       "<Figure size 576x360 with 1 Axes>"
      ]
     },
     "metadata": {
      "needs_background": "light"
     },
     "output_type": "display_data"
    }
   ],
   "source": [
    "import pandas as pd\n",
    "\n",
    "pd.DataFrame(history4.history).plot(figsize=(8,5))\n",
    "plt.grid(True)\n",
    "plt.gca().set_ylim(0,1) # Y axis set to [0,1]\n",
    "plt.show()"
   ]
  },
  {
   "cell_type": "markdown",
   "metadata": {},
   "source": [
    "This looks good, and convergence has been reached. Accuracy is close to validation accuracy."
   ]
  },
  {
   "cell_type": "code",
   "execution_count": 34,
   "metadata": {},
   "outputs": [
    {
     "name": "stdout",
     "output_type": "stream",
     "text": [
      "Model: \"sequential_6\"\n",
      "_________________________________________________________________\n",
      "Layer (type)                 Output Shape              Param #   \n",
      "=================================================================\n",
      "flatten_6 (Flatten)          (None, 784)               0         \n",
      "_________________________________________________________________\n",
      "dense_19 (Dense)             (None, 300)               235500    \n",
      "_________________________________________________________________\n",
      "dense_20 (Dense)             (None, 50)                15050     \n",
      "_________________________________________________________________\n",
      "dense_21 (Dense)             (None, 100)               5100      \n",
      "_________________________________________________________________\n",
      "dense_22 (Dense)             (None, 10)                1010      \n",
      "=================================================================\n",
      "Total params: 256,660\n",
      "Trainable params: 256,660\n",
      "Non-trainable params: 0\n",
      "_________________________________________________________________\n"
     ]
    }
   ],
   "source": [
    "model4.summary()"
   ]
  },
  {
   "cell_type": "code",
   "execution_count": null,
   "metadata": {
    "collapsed": true
   },
   "outputs": [
    {
     "name": "stdout",
     "output_type": "stream",
     "text": [
      "Epoch 1/300\n",
      "1719/1719 [==============================] - 33s 19ms/step - loss: 0.7084 - accuracy: 0.7669 - val_loss: 0.5026 - val_accuracy: 0.8300\n",
      "Epoch 2/300\n",
      "1719/1719 [==============================] - 33s 19ms/step - loss: 0.4839 - accuracy: 0.8321 - val_loss: 0.4500 - val_accuracy: 0.8406\n",
      "Epoch 3/300\n",
      "1719/1719 [==============================] - 33s 19ms/step - loss: 0.4399 - accuracy: 0.8459 - val_loss: 0.4070 - val_accuracy: 0.8634\n",
      "Epoch 4/300\n",
      "1719/1719 [==============================] - 33s 19ms/step - loss: 0.4128 - accuracy: 0.8542 - val_loss: 0.3862 - val_accuracy: 0.8682\n",
      "Epoch 5/300\n",
      "1719/1719 [==============================] - 33s 19ms/step - loss: 0.3939 - accuracy: 0.8612 - val_loss: 0.3728 - val_accuracy: 0.8722\n",
      "Epoch 6/300\n",
      "1719/1719 [==============================] - 33s 19ms/step - loss: 0.3782 - accuracy: 0.8678 - val_loss: 0.3715 - val_accuracy: 0.8708\n",
      "Epoch 7/300\n",
      "1719/1719 [==============================] - 33s 19ms/step - loss: 0.3648 - accuracy: 0.8711 - val_loss: 0.3682 - val_accuracy: 0.8728\n",
      "Epoch 8/300\n",
      "1719/1719 [==============================] - 33s 19ms/step - loss: 0.3542 - accuracy: 0.8750 - val_loss: 0.3502 - val_accuracy: 0.8816\n",
      "Epoch 9/300\n",
      "1719/1719 [==============================] - 33s 19ms/step - loss: 0.3435 - accuracy: 0.8783 - val_loss: 0.3463 - val_accuracy: 0.8792\n",
      "Epoch 10/300\n",
      "1719/1719 [==============================] - 33s 19ms/step - loss: 0.3335 - accuracy: 0.8805 - val_loss: 0.3476 - val_accuracy: 0.8812\n",
      "Epoch 11/300\n",
      "1719/1719 [==============================] - 33s 19ms/step - loss: 0.3251 - accuracy: 0.8841 - val_loss: 0.3751 - val_accuracy: 0.8690\n",
      "Epoch 12/300\n",
      "1719/1719 [==============================] - 33s 19ms/step - loss: 0.3186 - accuracy: 0.8871 - val_loss: 0.3276 - val_accuracy: 0.8834\n",
      "Epoch 13/300\n",
      "1719/1719 [==============================] - 33s 19ms/step - loss: 0.3106 - accuracy: 0.8889 - val_loss: 0.3430 - val_accuracy: 0.8804\n",
      "Epoch 14/300\n",
      "1719/1719 [==============================] - 33s 19ms/step - loss: 0.3040 - accuracy: 0.8906 - val_loss: 0.3458 - val_accuracy: 0.8782\n",
      "Epoch 15/300\n",
      "1719/1719 [==============================] - 33s 19ms/step - loss: 0.2970 - accuracy: 0.8931 - val_loss: 0.3211 - val_accuracy: 0.8852\n",
      "Epoch 16/300\n",
      "1719/1719 [==============================] - 33s 19ms/step - loss: 0.2908 - accuracy: 0.8956 - val_loss: 0.3285 - val_accuracy: 0.8784\n",
      "Epoch 17/300\n",
      "1719/1719 [==============================] - 33s 19ms/step - loss: 0.2861 - accuracy: 0.8968 - val_loss: 0.3222 - val_accuracy: 0.8862\n",
      "Epoch 18/300\n",
      "1719/1719 [==============================] - 33s 19ms/step - loss: 0.2791 - accuracy: 0.8998 - val_loss: 0.3477 - val_accuracy: 0.8778\n",
      "Epoch 19/300\n",
      "1719/1719 [==============================] - 33s 19ms/step - loss: 0.2744 - accuracy: 0.9015 - val_loss: 0.3139 - val_accuracy: 0.8902\n",
      "Epoch 20/300\n",
      "1719/1719 [==============================] - 33s 19ms/step - loss: 0.2690 - accuracy: 0.9031 - val_loss: 0.3047 - val_accuracy: 0.8912\n",
      "Epoch 21/300\n",
      "1719/1719 [==============================] - 33s 19ms/step - loss: 0.2643 - accuracy: 0.9055 - val_loss: 0.3239 - val_accuracy: 0.8818\n",
      "Epoch 22/300\n",
      "1719/1719 [==============================] - 33s 19ms/step - loss: 0.2591 - accuracy: 0.9071 - val_loss: 0.2995 - val_accuracy: 0.8916\n",
      "Epoch 23/300\n",
      "1719/1719 [==============================] - 33s 19ms/step - loss: 0.2548 - accuracy: 0.9077 - val_loss: 0.3124 - val_accuracy: 0.8852\n",
      "Epoch 24/300\n",
      "1719/1719 [==============================] - 33s 19ms/step - loss: 0.2511 - accuracy: 0.9086 - val_loss: 0.3068 - val_accuracy: 0.8938\n",
      "Epoch 25/300\n",
      "1719/1719 [==============================] - 33s 19ms/step - loss: 0.2469 - accuracy: 0.9105 - val_loss: 0.2969 - val_accuracy: 0.8934\n",
      "Epoch 26/300\n",
      "1719/1719 [==============================] - 33s 19ms/step - loss: 0.2421 - accuracy: 0.9130 - val_loss: 0.3111 - val_accuracy: 0.8898\n",
      "Epoch 27/300\n",
      "1719/1719 [==============================] - 33s 19ms/step - loss: 0.2384 - accuracy: 0.9144 - val_loss: 0.2919 - val_accuracy: 0.8970\n",
      "Epoch 28/300\n",
      "1719/1719 [==============================] - 33s 19ms/step - loss: 0.2342 - accuracy: 0.9157 - val_loss: 0.2930 - val_accuracy: 0.8926\n",
      "Epoch 29/300\n",
      "1719/1719 [==============================] - 33s 19ms/step - loss: 0.2302 - accuracy: 0.9170 - val_loss: 0.3049 - val_accuracy: 0.8886\n",
      "Epoch 30/300\n",
      "1719/1719 [==============================] - 33s 19ms/step - loss: 0.2258 - accuracy: 0.9186 - val_loss: 0.3105 - val_accuracy: 0.8874\n",
      "Epoch 31/300\n",
      "1719/1719 [==============================] - 33s 19ms/step - loss: 0.2230 - accuracy: 0.9198 - val_loss: 0.2920 - val_accuracy: 0.8960\n",
      "Epoch 32/300\n",
      " 829/1719 [=============>................] - ETA: 16s - loss: 0.2175 - accuracy: 0.9223"
     ]
    }
   ],
   "source": [
    "# The same model as earlier, but with many more epochs than earlier.\n",
    "model2 = keras.models.Sequential([\n",
    "    keras.layers.Flatten(input_shape=[28, 28]),\n",
    "    keras.layers.Dense(300, activation=\"relu\"),\n",
    "    keras.layers.Dense(100, activation=\"relu\"),\n",
    "    keras.layers.Dense(10, activation=\"softmax\")\n",
    "])\n",
    "model2.compile(loss=\"sparse_categorical_crossentropy\",\n",
    "             optimizer=\"sgd\",\n",
    "             metrics=[\"accuracy\"])\n",
    "history2 = model2.fit(X_train, y_train, epochs=300,\n",
    "                   validation_data=(X_valid, y_valid))"
   ]
  },
  {
   "cell_type": "code",
   "execution_count": 40,
   "metadata": {},
   "outputs": [
    {
     "data": {
      "image/png": "[encoded data removed]",
      "text/plain": [
       "<Figure size 576x360 with 1 Axes>"
      ]
     },
     "metadata": {
      "needs_background": "light"
     },
     "output_type": "display_data"
    }
   ],
   "source": [
    "import pandas as pd\n",
    "\n",
    "pd.DataFrame(history2.history).plot(figsize=(8,5))\n",
    "plt.grid(True)\n",
    "plt.gca().set_ylim(0,1) # Y axis set to [0,1]\n",
    "plt.show()"
   ]
  },
  {
   "cell_type": "markdown",
   "metadata": {},
   "source": [
    "This looks overfitted. The accuracy is 100% but the validation accuracy is 91%.\n",
    "\n",
    "Let's make a very deep model and see if that is better than model4, from which this is copied."
   ]
  },
  {
   "cell_type": "code",
   "execution_count": 41,
   "metadata": {},
   "outputs": [
    {
     "name": "stdout",
     "output_type": "stream",
     "text": [
      "Epoch 1/30\n",
      "1719/1719 [==============================] - 45s 26ms/step - loss: 0.9027 - accuracy: 0.6771 - val_loss: 0.5056 - val_accuracy: 0.8268\n",
      "Epoch 2/30\n",
      "1719/1719 [==============================] - 45s 26ms/step - loss: 0.4989 - accuracy: 0.8227 - val_loss: 0.4496 - val_accuracy: 0.8442\n",
      "Epoch 3/30\n",
      "1719/1719 [==============================] - 45s 26ms/step - loss: 0.4333 - accuracy: 0.8442 - val_loss: 0.4210 - val_accuracy: 0.8448\n",
      "Epoch 4/30\n",
      "1719/1719 [==============================] - 45s 26ms/step - loss: 0.3961 - accuracy: 0.8558 - val_loss: 0.4251 - val_accuracy: 0.8400\n",
      "Epoch 5/30\n",
      "1719/1719 [==============================] - 45s 26ms/step - loss: 0.3704 - accuracy: 0.8645 - val_loss: 0.3599 - val_accuracy: 0.8722\n",
      "Epoch 6/30\n",
      "1719/1719 [==============================] - 45s 26ms/step - loss: 0.3510 - accuracy: 0.8708 - val_loss: 0.3363 - val_accuracy: 0.8832\n",
      "Epoch 7/30\n",
      "1719/1719 [==============================] - 45s 26ms/step - loss: 0.3335 - accuracy: 0.8776 - val_loss: 0.3296 - val_accuracy: 0.8786\n",
      "Epoch 8/30\n",
      "1719/1719 [==============================] - 45s 26ms/step - loss: 0.3183 - accuracy: 0.8828 - val_loss: 0.3198 - val_accuracy: 0.8836\n",
      "Epoch 9/30\n",
      "1719/1719 [==============================] - 45s 26ms/step - loss: 0.3085 - accuracy: 0.8867 - val_loss: 0.3325 - val_accuracy: 0.8818\n",
      "Epoch 10/30\n",
      "1719/1719 [==============================] - 45s 26ms/step - loss: 0.2977 - accuracy: 0.8891 - val_loss: 0.3194 - val_accuracy: 0.8828\n",
      "Epoch 11/30\n",
      "1719/1719 [==============================] - 45s 26ms/step - loss: 0.2864 - accuracy: 0.8939 - val_loss: 0.3798 - val_accuracy: 0.8656\n",
      "Epoch 12/30\n",
      "1719/1719 [==============================] - 45s 26ms/step - loss: 0.2777 - accuracy: 0.8977 - val_loss: 0.3090 - val_accuracy: 0.8906\n",
      "Epoch 13/30\n",
      "1719/1719 [==============================] - 45s 26ms/step - loss: 0.2692 - accuracy: 0.9003 - val_loss: 0.2983 - val_accuracy: 0.8938\n",
      "Epoch 14/30\n",
      "1719/1719 [==============================] - 45s 26ms/step - loss: 0.2614 - accuracy: 0.9034 - val_loss: 0.3023 - val_accuracy: 0.8906\n",
      "Epoch 15/30\n",
      "1719/1719 [==============================] - 45s 26ms/step - loss: 0.2551 - accuracy: 0.9056 - val_loss: 0.3137 - val_accuracy: 0.8836\n",
      "Epoch 16/30\n",
      "1719/1719 [==============================] - 45s 26ms/step - loss: 0.2457 - accuracy: 0.9088 - val_loss: 0.3163 - val_accuracy: 0.8902\n",
      "Epoch 17/30\n",
      "1719/1719 [==============================] - 45s 26ms/step - loss: 0.2387 - accuracy: 0.9112 - val_loss: 0.3051 - val_accuracy: 0.8910\n",
      "Epoch 18/30\n",
      "1719/1719 [==============================] - 45s 26ms/step - loss: 0.2327 - accuracy: 0.9142 - val_loss: 0.3075 - val_accuracy: 0.8892\n",
      "Epoch 19/30\n",
      "1719/1719 [==============================] - 45s 26ms/step - loss: 0.2260 - accuracy: 0.9161 - val_loss: 0.3111 - val_accuracy: 0.8930\n",
      "Epoch 20/30\n",
      "1719/1719 [==============================] - 45s 26ms/step - loss: 0.2206 - accuracy: 0.9179 - val_loss: 0.3362 - val_accuracy: 0.8800\n",
      "Epoch 21/30\n",
      "1719/1719 [==============================] - 45s 26ms/step - loss: 0.2161 - accuracy: 0.9182 - val_loss: 0.3091 - val_accuracy: 0.8886\n",
      "Epoch 22/30\n",
      "1719/1719 [==============================] - 45s 26ms/step - loss: 0.2104 - accuracy: 0.9217 - val_loss: 0.3222 - val_accuracy: 0.8886\n",
      "Epoch 23/30\n",
      "1719/1719 [==============================] - 45s 26ms/step - loss: 0.2051 - accuracy: 0.9238 - val_loss: 0.3461 - val_accuracy: 0.8810\n",
      "Epoch 24/30\n",
      "1719/1719 [==============================] - 45s 26ms/step - loss: 0.2003 - accuracy: 0.9250 - val_loss: 0.3109 - val_accuracy: 0.8918\n",
      "Epoch 25/30\n",
      "1719/1719 [==============================] - 45s 26ms/step - loss: 0.1946 - accuracy: 0.9269 - val_loss: 0.3112 - val_accuracy: 0.8930\n",
      "Epoch 26/30\n",
      "1719/1719 [==============================] - 45s 26ms/step - loss: 0.1897 - accuracy: 0.9303 - val_loss: 0.3525 - val_accuracy: 0.8770\n",
      "Epoch 27/30\n",
      "1719/1719 [==============================] - 45s 26ms/step - loss: 0.1853 - accuracy: 0.9304 - val_loss: 0.3245 - val_accuracy: 0.8908\n",
      "Epoch 28/30\n",
      "1719/1719 [==============================] - 45s 26ms/step - loss: 0.1804 - accuracy: 0.9322 - val_loss: 0.3145 - val_accuracy: 0.8986\n",
      "Epoch 29/30\n",
      "1719/1719 [==============================] - 45s 26ms/step - loss: 0.1761 - accuracy: 0.9355 - val_loss: 0.3161 - val_accuracy: 0.8926\n",
      "Epoch 30/30\n",
      "1719/1719 [==============================] - 45s 26ms/step - loss: 0.1744 - accuracy: 0.9345 - val_loss: 0.3424 - val_accuracy: 0.8924\n"
     ]
    }
   ],
   "source": [
    "# A deeper model than earlier, but constraining the input layer and expanding again\n",
    "model4_deep = keras.models.Sequential([\n",
    "    keras.layers.Flatten(input_shape=[28, 28]),\n",
    "    keras.layers.Dense(300, activation=\"relu\"),\n",
    "    keras.layers.Dense(100, activation=\"relu\"),\n",
    "    keras.layers.Dense(100, activation=\"relu\"),\n",
    "    keras.layers.Dense(100, activation=\"relu\"),\n",
    "    keras.layers.Dense(100, activation=\"relu\"),\n",
    "    keras.layers.Dense(100, activation=\"relu\"),\n",
    "    keras.layers.Dense(10, activation=\"softmax\")\n",
    "])\n",
    "model4_deep.compile(loss=\"sparse_categorical_crossentropy\",\n",
    "             optimizer=\"sgd\",\n",
    "             metrics=[\"accuracy\"])\n",
    "history4_deep = model4_deep.fit(X_train, y_train, epochs=30,\n",
    "                   validation_data=(X_valid, y_valid))"
   ]
  },
  {
   "cell_type": "code",
   "execution_count": 42,
   "metadata": {},
   "outputs": [
    {
     "data": {
      "image/png": "[encoded data removed]",
      "text/plain": [
       "<Figure size 576x360 with 1 Axes>"
      ]
     },
     "metadata": {
      "needs_background": "light"
     },
     "output_type": "display_data"
    }
   ],
   "source": [
    "import pandas as pd\n",
    "\n",
    "pd.DataFrame(history4_deep.history).plot(figsize=(8,5))\n",
    "plt.grid(True)\n",
    "plt.gca().set_ylim(0,1) # Y axis set to [0,1]\n",
    "plt.show()"
   ]
  },
  {
   "cell_type": "markdown",
   "metadata": {},
   "source": [
    "So adding extra layers didn't do much good. Let's try removing layers to see what we get."
   ]
  },
  {
   "cell_type": "code",
   "execution_count": 45,
   "metadata": {},
   "outputs": [
    {
     "name": "stdout",
     "output_type": "stream",
     "text": [
      "Epoch 1/30\n",
      "1719/1719 [==============================] - 34s 20ms/step - loss: 0.7180 - accuracy: 0.7634 - val_loss: 0.4988 - val_accuracy: 0.8334\n",
      "Epoch 2/30\n",
      "1719/1719 [==============================] - 33s 19ms/step - loss: 0.4895 - accuracy: 0.8298 - val_loss: 0.4509 - val_accuracy: 0.8438\n",
      "Epoch 3/30\n",
      "1719/1719 [==============================] - 33s 19ms/step - loss: 0.4425 - accuracy: 0.8449 - val_loss: 0.4376 - val_accuracy: 0.8454\n",
      "Epoch 4/30\n",
      "1719/1719 [==============================] - 33s 19ms/step - loss: 0.4148 - accuracy: 0.8540 - val_loss: 0.4436 - val_accuracy: 0.8398\n",
      "Epoch 5/30\n",
      "1719/1719 [==============================] - 33s 19ms/step - loss: 0.3944 - accuracy: 0.8611 - val_loss: 0.4088 - val_accuracy: 0.8522\n",
      "Epoch 6/30\n",
      "1719/1719 [==============================] - 37s 22ms/step - loss: 0.3787 - accuracy: 0.8669 - val_loss: 0.3887 - val_accuracy: 0.8640\n",
      "Epoch 7/30\n",
      "1719/1719 [==============================] - 37s 21ms/step - loss: 0.3652 - accuracy: 0.8714 - val_loss: 0.3592 - val_accuracy: 0.8766\n",
      "Epoch 8/30\n",
      "1719/1719 [==============================] - 34s 20ms/step - loss: 0.3536 - accuracy: 0.8727 - val_loss: 0.3655 - val_accuracy: 0.8714\n",
      "Epoch 9/30\n",
      "1719/1719 [==============================] - 34s 20ms/step - loss: 0.3436 - accuracy: 0.8780 - val_loss: 0.3839 - val_accuracy: 0.8668\n",
      "Epoch 10/30\n",
      "1719/1719 [==============================] - 33s 19ms/step - loss: 0.3343 - accuracy: 0.8811 - val_loss: 0.3369 - val_accuracy: 0.8844\n",
      "Epoch 11/30\n",
      "1719/1719 [==============================] - 33s 19ms/step - loss: 0.3255 - accuracy: 0.8850 - val_loss: 0.3474 - val_accuracy: 0.8808\n",
      "Epoch 12/30\n",
      "1719/1719 [==============================] - 33s 19ms/step - loss: 0.3181 - accuracy: 0.8861 - val_loss: 0.3245 - val_accuracy: 0.8862\n",
      "Epoch 13/30\n",
      "1719/1719 [==============================] - 33s 19ms/step - loss: 0.3111 - accuracy: 0.8884 - val_loss: 0.3170 - val_accuracy: 0.8888\n",
      "Epoch 14/30\n",
      "1719/1719 [==============================] - 33s 19ms/step - loss: 0.3036 - accuracy: 0.8904 - val_loss: 0.3235 - val_accuracy: 0.8894\n",
      "Epoch 15/30\n",
      "1719/1719 [==============================] - 33s 19ms/step - loss: 0.2976 - accuracy: 0.8939 - val_loss: 0.3393 - val_accuracy: 0.8778\n",
      "Epoch 16/30\n",
      "1719/1719 [==============================] - 33s 19ms/step - loss: 0.2913 - accuracy: 0.8958 - val_loss: 0.3112 - val_accuracy: 0.8906\n",
      "Epoch 17/30\n",
      "1719/1719 [==============================] - 33s 19ms/step - loss: 0.2850 - accuracy: 0.8968 - val_loss: 0.3291 - val_accuracy: 0.8840\n",
      "Epoch 18/30\n",
      "1719/1719 [==============================] - 33s 19ms/step - loss: 0.2804 - accuracy: 0.8996 - val_loss: 0.3096 - val_accuracy: 0.8890\n",
      "Epoch 19/30\n",
      "1719/1719 [==============================] - 33s 19ms/step - loss: 0.2753 - accuracy: 0.9011 - val_loss: 0.3110 - val_accuracy: 0.8856\n",
      "Epoch 20/30\n",
      "1719/1719 [==============================] - 33s 19ms/step - loss: 0.2701 - accuracy: 0.9020 - val_loss: 0.3026 - val_accuracy: 0.8900\n",
      "Epoch 21/30\n",
      "1719/1719 [==============================] - 33s 19ms/step - loss: 0.2652 - accuracy: 0.9045 - val_loss: 0.3207 - val_accuracy: 0.8838\n",
      "Epoch 22/30\n",
      "1719/1719 [==============================] - 33s 19ms/step - loss: 0.2604 - accuracy: 0.9069 - val_loss: 0.3029 - val_accuracy: 0.8926\n",
      "Epoch 23/30\n",
      "1719/1719 [==============================] - 33s 19ms/step - loss: 0.2564 - accuracy: 0.9076 - val_loss: 0.3074 - val_accuracy: 0.8914\n",
      "Epoch 24/30\n",
      "1719/1719 [==============================] - 33s 19ms/step - loss: 0.2521 - accuracy: 0.9097 - val_loss: 0.3117 - val_accuracy: 0.8900\n",
      "Epoch 25/30\n",
      "1719/1719 [==============================] - 33s 19ms/step - loss: 0.2476 - accuracy: 0.9108 - val_loss: 0.2996 - val_accuracy: 0.8944\n",
      "Epoch 26/30\n",
      "1719/1719 [==============================] - 33s 19ms/step - loss: 0.2430 - accuracy: 0.9128 - val_loss: 0.3085 - val_accuracy: 0.8890\n",
      "Epoch 27/30\n",
      "1719/1719 [==============================] - 33s 19ms/step - loss: 0.2397 - accuracy: 0.9131 - val_loss: 0.3027 - val_accuracy: 0.8938\n",
      "Epoch 28/30\n",
      "1719/1719 [==============================] - 33s 19ms/step - loss: 0.2355 - accuracy: 0.9151 - val_loss: 0.3015 - val_accuracy: 0.8970\n",
      "Epoch 29/30\n",
      "1719/1719 [==============================] - 33s 19ms/step - loss: 0.2310 - accuracy: 0.9173 - val_loss: 0.2906 - val_accuracy: 0.8968\n",
      "Epoch 30/30\n",
      "1719/1719 [==============================] - 33s 19ms/step - loss: 0.2274 - accuracy: 0.9179 - val_loss: 0.3080 - val_accuracy: 0.8908\n"
     ]
    }
   ],
   "source": [
    "# A deeper model than earlier, but constraining the input layer and expanding again\n",
    "model4_shallow = keras.models.Sequential([\n",
    "    keras.layers.Flatten(input_shape=[28, 28]),\n",
    "    keras.layers.Dense(300, activation=\"relu\"),\n",
    "    keras.layers.Dense(100, activation=\"relu\"),\n",
    "    keras.layers.Dense(10, activation=\"softmax\")\n",
    "])\n",
    "model4_shallow.compile(loss=\"sparse_categorical_crossentropy\",\n",
    "             optimizer=\"sgd\",\n",
    "             metrics=[\"accuracy\"])\n",
    "history4_shallow = model4_shallow.fit(X_train, y_train, epochs=30,\n",
    "                   validation_data=(X_valid, y_valid))"
   ]
  },
  {
   "cell_type": "code",
   "execution_count": 46,
   "metadata": {},
   "outputs": [
    {
     "data": {
      "image/png": "[encoded data removed]",
      "text/plain": [
       "<Figure size 576x360 with 1 Axes>"
      ]
     },
     "metadata": {
      "needs_background": "light"
     },
     "output_type": "display_data"
    }
   ],
   "source": [
    "import pandas as pd\n",
    "\n",
    "pd.DataFrame(history4_shallow.history).plot(figsize=(8,5))\n",
    "plt.grid(True)\n",
    "plt.gca().set_ylim(0,1) # Y axis set to [0,1]\n",
    "plt.show()"
   ]
  },
  {
   "cell_type": "code",
   "execution_count": null,
   "metadata": {},
   "outputs": [],
   "source": []
  }
 ],
 "metadata": {
  "kernelspec": {
   "display_name": "Python 3",
   "language": "python",
   "name": "python3"
  },
  "language_info": {
   "codemirror_mode": {
    "name": "ipython",
    "version": 3
   },
   "file_extension": ".py",
   "mimetype": "text/x-python",
   "name": "python",
   "nbconvert_exporter": "python",
   "pygments_lexer": "ipython3",
   "version": "3.8.2"
  }
 },
 "nbformat": 4,
 "nbformat_minor": 4
}
