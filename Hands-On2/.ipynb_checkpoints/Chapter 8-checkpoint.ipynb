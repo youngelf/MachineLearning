{
 "cells": [
  {
   "cell_type": "markdown",
   "metadata": {},
   "source": [
    "# Chapter 8: Dimensionality Reduction\n",
    "\n",
    "Too many dimensions is a problem, especially as:\n",
    "1. There are too many features, leading to slower training.\n",
    "2. The models might not generalize well.\n",
    "3. The behavior of objects in a higher-dimensional space is not intuitive, so some of our expectations break down."
   ]
  },
  {
   "cell_type": "markdown",
   "metadata": {},
   "source": [
    "How can the space between two points in a 1 million dimension hypercube be roughly 408.25? I can't derive it theoratically, so let's derive it empirically.\n",
    "\n",
    "Let's generate a billion sets of points in a 1M space, and then calculate the space between them"
   ]
  },
  {
   "cell_type": "code",
   "execution_count": 1,
   "metadata": {},
   "outputs": [],
   "source": [
    "import numpy as np\n"
   ]
  },
  {
   "cell_type": "code",
   "execution_count": 27,
   "metadata": {},
   "outputs": [],
   "source": [
    "import numpy as np\n",
    "\n",
    "# Run later\n",
    "d={}\n",
    "runs = 1000000\n",
    "\n",
    "for dimensions in (1, 2, 3, 4, 10, 100, 1000, 1000000):\n",
    "    sum_distance = 0.0\n",
    "\n",
    "    for i in range(runs):\n",
    "        a=np.random.rand(dimensions)\n",
    "        b=np.random.rand(dimensions)\n",
    "        sum_distance += np.linalg.norm(a-b)\n",
    "    \n",
    "    sum_distance /= (1.0*runs)\n",
    "    print (\"Mean distance in dimension %d is %f\" % (dimensions, sum_distance))\n",
    "    d[str(dimensions)] = sum_distancev\n"
   ]
  },
  {
   "cell_type": "code",
   "execution_count": 28,
   "metadata": {},
   "outputs": [
    {
     "data": {
      "text/plain": [
       "{'0': 1,\n",
       " '1000000': 408.2611230474335,\n",
       " '1': 0.34803266704316954,\n",
       " '2': 0.5207446344412412,\n",
       " '3': 0.6667205574300262,\n",
       " '4': 0.7807210204305841,\n",
       " '10': 1.2710891450432376,\n",
       " '100': 4.092600984543937,\n",
       " '1000': 12.914293148945156}"
      ]
     },
     "execution_count": 28,
     "metadata": {},
     "output_type": "execute_result"
    }
   ],
   "source": [
    "d"
   ]
  },
  {
   "cell_type": "markdown",
   "metadata": {},
   "source": [
    "# Principal Components Analysis\n",
    "\n",
    "Reducing dimensions by getting the principal components' eigenvectors from an SVD (Singular Value Decomposition) and then transforming to a space of the first few eigenvectors that explain most of the variance.\n",
    "\n",
    "This helps in reducing the space down (fewer attributes, smaller data) and in computational cost of training and predicting classifiers.\n",
    "\n",
    "The only hitch is that the SVD is time consuming, but you only need to do it once.\n"
   ]
  },
  {
   "cell_type": "code",
   "execution_count": 29,
   "metadata": {},
   "outputs": [],
   "source": [
    "# All imports\n",
    "\n",
    "import matplotlib as mpl\n",
    "import matplotlib.pyplot as plt\n",
    "import numpy as np\n",
    "\n",
    "from sklearn.datasets import fetch_openml\n",
    "from sklearn.decomposition import PCA\n",
    "from sklearn.linear_model import SGDClassifier\n",
    "from sklearn.metrics import confusion_matrix\n",
    "from sklearn.model_selection import cross_val_predict\n"
   ]
  },
  {
   "cell_type": "code",
   "execution_count": null,
   "metadata": {},
   "outputs": [],
   "source": [
    "# Download the MNIST data if it isn't available. Cached in ~/scikit_learn_data\n",
    "mnist = fetch_openml('mnist_784', version=1, cache=True)"
   ]
  },
  {
   "cell_type": "code",
   "execution_count": 30,
   "metadata": {},
   "outputs": [
    {
     "name": "stdout",
     "output_type": "stream",
     "text": [
      "(70000, 784)\n",
      "(70000,)\n"
     ]
    }
   ],
   "source": [
    "# Assign attributes and labels using standard terminology\n",
    "X, y = mnist[\"data\"], mnist[\"target\"]\n",
    "\n",
    "print (X.shape)\n",
    "print (y.shape)"
   ]
  },
  {
   "cell_type": "code",
   "execution_count": null,
   "metadata": {},
   "outputs": [],
   "source": []
  }
 ],
 "metadata": {
  "kernelspec": {
   "display_name": "Python 3",
   "language": "python",
   "name": "python3"
  },
  "language_info": {
   "codemirror_mode": {
    "name": "ipython",
    "version": 3
   },
   "file_extension": ".py",
   "mimetype": "text/x-python",
   "name": "python",
   "nbconvert_exporter": "python",
   "pygments_lexer": "ipython3",
   "version": "3.8.2"
  }
 },
 "nbformat": 4,
 "nbformat_minor": 4
}
