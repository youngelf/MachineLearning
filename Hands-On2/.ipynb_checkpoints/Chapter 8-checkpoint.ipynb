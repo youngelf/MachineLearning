{
 "cells": [
  {
   "cell_type": "markdown",
   "metadata": {},
   "source": [
    "# Chapter 8: Dimensionality Reduction\n",
    "\n",
    "Too many dimensions is a problem, especially as:\n",
    "1. There are too many features, leading to slower training.\n",
    "2. The models might not generalize well.\n",
    "3. The behavior of objects in a higher-dimensional space is not intuitive, so some of our expectations break down."
   ]
  },
  {
   "cell_type": "markdown",
   "metadata": {},
   "source": [
    "How can the space between two points in a 1 million dimension hypercube be roughly 408.25? I can't derive it theoratically, so let's derive it empirically.\n",
    "\n",
    "Let's generate a billion sets of points in a 1M space, and then calculate the space between them"
   ]
  },
  {
   "cell_type": "code",
   "execution_count": 54,
   "metadata": {},
   "outputs": [],
   "source": [
    "import numpy as np\n",
    "from sklearn.linear_model import SGDClassifier\n"
   ]
  },
  {
   "cell_type": "code",
   "execution_count": null,
   "metadata": {},
   "outputs": [],
   "source": [
    "import numpy as np\n",
    "\n",
    "# Run later\n",
    "d={}\n",
    "runs = 1000000\n",
    "\n",
    "for dimensions in (1, 2, 3, 4, 10, 100, 1000, 1000000):\n",
    "    sum_distance = 0.0\n",
    "\n",
    "    for i in range(runs):\n",
    "        a=np.random.rand(dimensions)\n",
    "        b=np.random.rand(dimensions)\n",
    "        sum_distance += np.linalg.norm(a-b)\n",
    "    \n",
    "    sum_distance /= (1.0*runs)\n",
    "    print (\"Mean distance in dimension %d is %f\" % (dimensions, sum_distance))\n",
    "    d[str(dimensions)] = sum_distance\n"
   ]
  },
  {
   "cell_type": "code",
   "execution_count": 28,
   "metadata": {},
   "outputs": [
    {
     "data": {
      "text/plain": [
       "{'0': 1,\n",
       " '1000000': 408.2611230474335,\n",
       " '1': 0.34803266704316954,\n",
       " '2': 0.5207446344412412,\n",
       " '3': 0.6667205574300262,\n",
       " '4': 0.7807210204305841,\n",
       " '10': 1.2710891450432376,\n",
       " '100': 4.092600984543937,\n",
       " '1000': 12.914293148945156}"
      ]
     },
     "execution_count": 28,
     "metadata": {},
     "output_type": "execute_result"
    }
   ],
   "source": [
    "d"
   ]
  },
  {
   "cell_type": "markdown",
   "metadata": {},
   "source": [
    "# Principal Components Analysis\n",
    "\n",
    "Reducing dimensions by getting the principal components' eigenvectors from an SVD (Singular Value Decomposition) and then transforming to a space of the first few eigenvectors that explain most of the variance.\n",
    "\n",
    "This helps in reducing the space down (fewer attributes, smaller data) and in computational cost of training and predicting classifiers.\n",
    "\n",
    "The only hitch is that the SVD is time consuming, but you only need to do it once.\n"
   ]
  },
  {
   "cell_type": "code",
   "execution_count": 164,
   "metadata": {},
   "outputs": [],
   "source": [
    "# All imports\n",
    "\n",
    "\n",
    "import time as time\n",
    "import numpy as np\n",
    "\n",
    "import matplotlib.pyplot as plt\n",
    "import mpl_toolkits.mplot3d.axes3d as p3\n",
    "import matplotlib as mpl\n",
    "\n",
    "from sklearn.cluster import AgglomerativeClustering\n",
    "\n",
    "from sklearn.datasets import fetch_openml\n",
    "from sklearn.datasets import make_swiss_roll\n",
    "from sklearn.decomposition import PCA\n",
    "\n",
    "from sklearn.linear_model import LinearRegression\n",
    "from sklearn.linear_model import LogisticRegression\n",
    "from sklearn.linear_model import SGDClassifier\n",
    "from sklearn.pipeline import Pipeline\n",
    "\n",
    "from sklearn.metrics import confusion_matrix\n",
    "from sklearn.model_selection import cross_val_predict\n",
    "from sklearn.model_selection import GridSearchCV\n",
    "\n",
    "\n"
   ]
  },
  {
   "cell_type": "code",
   "execution_count": null,
   "metadata": {},
   "outputs": [],
   "source": [
    "# Download the MNIST data if it isn't available. Cached in ~/scikit_learn_data\n",
    "mnist = fetch_openml('mnist_784', version=1, cache=True)"
   ]
  },
  {
   "cell_type": "code",
   "execution_count": 87,
   "metadata": {},
   "outputs": [
    {
     "name": "stdout",
     "output_type": "stream",
     "text": [
      "(70000, 784)\n",
      "(70000,)\n"
     ]
    }
   ],
   "source": [
    "# Assign attributes and labels using standard terminology\n",
    "X, y = mnist[\"data\"], mnist[\"target\"]\n",
    "\n",
    "X_train, X_test, y_train, y_test = X[:60000], X[60000:], y[:60000], y[60000:]\n",
    "\n",
    "print (X.shape)\n",
    "print (y.shape)"
   ]
  },
  {
   "cell_type": "code",
   "execution_count": 32,
   "metadata": {},
   "outputs": [],
   "source": [
    "pca = PCA(n_components=2)\n",
    "X2d = pca.fit_transform(X)"
   ]
  },
  {
   "cell_type": "code",
   "execution_count": 33,
   "metadata": {},
   "outputs": [
    {
     "data": {
      "text/plain": [
       "array([[ 122.25716581, -316.20039894],\n",
       "       [1010.49231772, -289.96543097],\n",
       "       [ -58.99448668,  393.70286813],\n",
       "       [-796.96585032, -607.42231352],\n",
       "       [-391.320065  ,  729.79618043],\n",
       "       [ 185.97006476,  223.8839752 ],\n",
       "       [-730.48595986, -162.00266633],\n",
       "       [ 503.48774756, -308.71800238],\n",
       "       [-874.55210679,  -84.30749603],\n",
       "       [-304.01577331,  463.57500023]])"
      ]
     },
     "execution_count": 33,
     "metadata": {},
     "output_type": "execute_result"
    }
   ],
   "source": [
    "X2d[:10,:]"
   ]
  },
  {
   "cell_type": "code",
   "execution_count": 34,
   "metadata": {},
   "outputs": [
    {
     "data": {
      "text/plain": [
       "array([0.09746116, 0.07155445])"
      ]
     },
     "execution_count": 34,
     "metadata": {},
     "output_type": "execute_result"
    }
   ],
   "source": [
    "pca.explained_variance_ratio_"
   ]
  },
  {
   "cell_type": "markdown",
   "metadata": {},
   "source": [
    "As you can see, the 2 dimensions only explain 16.8% of the variance. This means we have lost too much information. Instead, let's fun full PCA and see how many dimensions we need."
   ]
  },
  {
   "cell_type": "code",
   "execution_count": 106,
   "metadata": {},
   "outputs": [
    {
     "data": {
      "text/plain": [
       "PCA(copy=True, iterated_power='auto', n_components=None, random_state=None,\n",
       "    svd_solver='auto', tol=0.0, whiten=False)"
      ]
     },
     "execution_count": 106,
     "metadata": {},
     "output_type": "execute_result"
    }
   ],
   "source": [
    "full_pca = PCA()\n",
    "full_pca.fit(X_train)"
   ]
  },
  {
   "cell_type": "code",
   "execution_count": 107,
   "metadata": {},
   "outputs": [
    {
     "data": {
      "text/plain": [
       "array([9.70466436e-02, 7.09592406e-02, 6.16908876e-02, 5.38941949e-02,\n",
       "       4.86879702e-02, 4.31223132e-02, 3.27192995e-02, 2.88389545e-02,\n",
       "       2.76202940e-02, 2.35700055e-02, 2.10918962e-02, 2.02299108e-02,\n",
       "       1.71581820e-02, 1.69211143e-02, 1.57864128e-02, 1.48295261e-02,\n",
       "       1.32456095e-02, 1.27689737e-02, 1.18726294e-02, 1.15268370e-02,\n",
       "       1.06616621e-02, 1.00671337e-02, 9.53573327e-03, 9.12543746e-03,\n",
       "       8.83404692e-03, 8.39319141e-03, 8.12578809e-03, 7.86366084e-03,\n",
       "       7.44733102e-03, 6.90859128e-03, 6.58093773e-03, 6.48147870e-03,\n",
       "       6.02615030e-03, 5.86582188e-03, 5.70021474e-03, 5.43627771e-03,\n",
       "       5.05786416e-03, 4.87858604e-03, 4.81429342e-03, 4.72266326e-03,\n",
       "       4.56746921e-03, 4.44836012e-03, 4.18501329e-03, 3.98215339e-03,\n",
       "       3.84974607e-03, 3.75103387e-03, 3.62008852e-03, 3.51591277e-03,\n",
       "       3.40058205e-03, 3.21874467e-03, 3.19017051e-03, 3.12804939e-03,\n",
       "       2.95982668e-03, 2.88954600e-03, 2.84130398e-03, 2.71435811e-03,\n",
       "       2.69521453e-03, 2.58472546e-03, 2.53770594e-03, 2.44780960e-03,\n",
       "       2.40506133e-03, 2.39262901e-03, 2.30408489e-03, 2.21532131e-03,\n",
       "       2.13720816e-03, 2.07225240e-03, 2.03042671e-03, 1.96782616e-03,\n",
       "       1.92852594e-03, 1.88632479e-03, 1.86977066e-03, 1.81082983e-03,\n",
       "       1.77562102e-03, 1.74898073e-03, 1.65758220e-03, 1.63893922e-03,\n",
       "       1.61462114e-03, 1.55116423e-03, 1.47612974e-03, 1.43176066e-03,\n",
       "       1.42094228e-03, 1.41153189e-03, 1.40174414e-03, 1.35736343e-03,\n",
       "       1.33847142e-03, 1.32396333e-03, 1.30157250e-03, 1.25873090e-03,\n",
       "       1.22828160e-03, 1.21584486e-03, 1.17034462e-03, 1.14873591e-03,\n",
       "       1.13244183e-03, 1.10885640e-03, 1.09001809e-03, 1.06923234e-03,\n",
       "       1.04195974e-03, 1.04006816e-03, 1.01256280e-03, 1.00527256e-03,\n",
       "       9.84017292e-04, 9.49686225e-04, 9.41340853e-04, 9.16166389e-04,\n",
       "       9.07850679e-04, 8.96872248e-04, 8.65391297e-04, 8.55172121e-04,\n",
       "       8.45619941e-04, 8.22495629e-04, 7.91584254e-04, 7.85938694e-04,\n",
       "       7.84606705e-04, 7.68831553e-04, 7.64015495e-04, 7.53088360e-04,\n",
       "       7.36782927e-04, 7.27131928e-04, 7.19651644e-04, 7.06816284e-04,\n",
       "       6.95424441e-04, 6.92161115e-04, 6.83303352e-04, 6.74060551e-04,\n",
       "       6.66876813e-04, 6.45265738e-04, 6.35594148e-04, 6.31646280e-04,\n",
       "       6.22933684e-04, 6.05290244e-04, 6.03588668e-04, 5.94480972e-04,\n",
       "       5.88307737e-04, 5.86520057e-04, 5.81340892e-04, 5.76831332e-04,\n",
       "       5.65369113e-04, 5.54764478e-04, 5.35170320e-04, 5.25925367e-04,\n",
       "       5.25093213e-04, 5.10256933e-04, 5.02970791e-04, 5.01077862e-04,\n",
       "       4.98712828e-04, 4.91069894e-04, 4.85537580e-04, 4.82846335e-04,\n",
       "       4.74013821e-04, 4.68351298e-04, 4.66598957e-04, 4.63327885e-04,\n",
       "       4.59293726e-04, 4.50379880e-04, 4.48807397e-04, 4.42709926e-04,\n",
       "       4.36674335e-04, 4.27448506e-04, 4.24979220e-04, 4.22012400e-04,\n",
       "       4.15513534e-04, 4.09637061e-04, 4.00823776e-04, 3.97882283e-04,\n",
       "       3.94080737e-04, 3.90493569e-04, 3.85852581e-04, 3.79776550e-04,\n",
       "       3.78899163e-04, 3.73939344e-04, 3.69414567e-04, 3.65150688e-04,\n",
       "       3.63813269e-04, 3.59874612e-04, 3.54642228e-04, 3.52897969e-04,\n",
       "       3.47288448e-04, 3.45957243e-04, 3.41447060e-04, 3.37645698e-04,\n",
       "       3.37094006e-04, 3.30227027e-04, 3.28354858e-04, 3.25907348e-04,\n",
       "       3.22944525e-04, 3.21269131e-04, 3.17299289e-04, 3.16174998e-04,\n",
       "       3.10942546e-04, 3.09536878e-04, 3.05966364e-04, 3.03274764e-04,\n",
       "       3.02410301e-04, 3.01568730e-04, 2.96707208e-04, 2.95746569e-04,\n",
       "       2.93471733e-04, 2.92672507e-04, 2.87752279e-04, 2.84345214e-04,\n",
       "       2.81966256e-04, 2.79070256e-04, 2.75734563e-04, 2.72474610e-04,\n",
       "       2.69435264e-04, 2.67707341e-04, 2.65120089e-04, 2.64327139e-04,\n",
       "       2.61882893e-04, 2.59450915e-04, 2.58556918e-04, 2.56922803e-04,\n",
       "       2.54736986e-04, 2.52811988e-04, 2.52289830e-04, 2.49562926e-04,\n",
       "       2.48516635e-04, 2.46074950e-04, 2.43954927e-04, 2.41863092e-04,\n",
       "       2.40968147e-04, 2.40443925e-04, 2.38269816e-04, 2.36853390e-04,\n",
       "       2.32578089e-04, 2.31308927e-04, 2.30128065e-04, 2.28086747e-04,\n",
       "       2.27583342e-04, 2.22776216e-04, 2.21863012e-04, 2.20442345e-04,\n",
       "       2.17866578e-04, 2.16656444e-04, 2.15163934e-04, 2.14194871e-04,\n",
       "       2.12855131e-04, 2.10372485e-04, 2.09755026e-04, 2.06961451e-04,\n",
       "       2.04723959e-04, 2.04271260e-04, 2.01314252e-04, 2.00984824e-04,\n",
       "       1.98996556e-04, 1.97630643e-04, 1.95827447e-04, 1.93728239e-04,\n",
       "       1.92858401e-04, 1.91772657e-04, 1.91541926e-04, 1.89077710e-04,\n",
       "       1.88012568e-04, 1.86392293e-04, 1.85847516e-04, 1.84618051e-04,\n",
       "       1.83695841e-04, 1.83146181e-04, 1.81880619e-04, 1.79866333e-04,\n",
       "       1.77555751e-04, 1.76688735e-04, 1.75962144e-04, 1.73882869e-04,\n",
       "       1.73428592e-04, 1.72645369e-04, 1.71385636e-04, 1.70036471e-04,\n",
       "       1.69300514e-04, 1.68005468e-04, 1.66921752e-04, 1.66452293e-04,\n",
       "       1.64205616e-04, 1.63481673e-04, 1.62658054e-04, 1.61890496e-04,\n",
       "       1.60891270e-04, 1.59843844e-04, 1.58832869e-04, 1.57351800e-04,\n",
       "       1.56737737e-04, 1.54897135e-04, 1.53808995e-04, 1.53067939e-04,\n",
       "       1.52038813e-04, 1.50010664e-04, 1.49664931e-04, 1.48229235e-04,\n",
       "       1.47673931e-04, 1.46127382e-04, 1.44652367e-04, 1.43233806e-04,\n",
       "       1.42722982e-04, 1.42069479e-04, 1.41748998e-04, 1.40492178e-04,\n",
       "       1.38237632e-04, 1.37972244e-04, 1.36841265e-04, 1.35975386e-04,\n",
       "       1.35795219e-04, 1.34509178e-04, 1.33617221e-04, 1.32342804e-04,\n",
       "       1.30701809e-04, 1.30189545e-04, 1.29162788e-04, 1.28111630e-04,\n",
       "       1.27515622e-04, 1.27217857e-04, 1.26338688e-04, 1.25860075e-04,\n",
       "       1.24730732e-04, 1.23562308e-04, 1.22621744e-04, 1.21567236e-04,\n",
       "       1.21027070e-04, 1.19967460e-04, 1.19422153e-04, 1.18948773e-04,\n",
       "       1.17872139e-04, 1.17059968e-04, 1.16494914e-04, 1.16099041e-04,\n",
       "       1.14530554e-04, 1.14216964e-04, 1.12406549e-04, 1.11275336e-04,\n",
       "       1.10540088e-04, 1.10430755e-04, 1.10058802e-04, 1.08974833e-04,\n",
       "       1.08323067e-04, 1.07595699e-04, 1.07004371e-04, 1.06204964e-04,\n",
       "       1.05929000e-04, 1.05049823e-04, 1.03420556e-04, 1.02250232e-04,\n",
       "       1.02045846e-04, 1.00845765e-04, 1.00264707e-04, 9.95977605e-05,\n",
       "       9.93729336e-05, 9.81249726e-05, 9.75951411e-05, 9.68311922e-05,\n",
       "       9.55244181e-05, 9.45448376e-05, 9.37982205e-05, 9.37227397e-05,\n",
       "       9.24930550e-05, 9.15874487e-05, 9.13967681e-05, 9.06741875e-05,\n",
       "       9.00751392e-05, 8.93704762e-05, 8.91559603e-05, 8.82613901e-05,\n",
       "       8.73279152e-05, 8.63095938e-05, 8.55753930e-05, 8.51577509e-05,\n",
       "       8.46020703e-05, 8.33128198e-05, 8.29779716e-05, 8.24987018e-05,\n",
       "       8.19115141e-05, 8.10903695e-05, 8.09031492e-05, 7.96086382e-05,\n",
       "       7.94683254e-05, 7.86261248e-05, 7.80611365e-05, 7.74252223e-05,\n",
       "       7.65902473e-05, 7.58039165e-05, 7.46096438e-05, 7.38457624e-05,\n",
       "       7.35691255e-05, 7.28156159e-05, 7.27140152e-05, 7.20667117e-05,\n",
       "       7.14164029e-05, 7.08057862e-05, 6.96516583e-05, 6.92450253e-05,\n",
       "       6.82996212e-05, 6.79383934e-05, 6.70585954e-05, 6.62344532e-05,\n",
       "       6.52426254e-05, 6.42024934e-05, 6.37103953e-05, 6.34535846e-05,\n",
       "       6.20327598e-05, 6.12865889e-05, 6.03190242e-05, 5.99282849e-05,\n",
       "       5.93680428e-05, 5.87299046e-05, 5.86206850e-05, 5.73862150e-05,\n",
       "       5.67253974e-05, 5.63738152e-05, 5.56164907e-05, 5.49012889e-05,\n",
       "       5.47388158e-05, 5.44730018e-05, 5.33301511e-05, 5.27555986e-05,\n",
       "       5.25476883e-05, 5.21982374e-05, 5.18520830e-05, 5.10148872e-05,\n",
       "       5.03810394e-05, 4.97554267e-05, 4.90673847e-05, 4.87008240e-05,\n",
       "       4.79421696e-05, 4.72082305e-05, 4.66606937e-05, 4.64426143e-05,\n",
       "       4.56015927e-05, 4.49094253e-05, 4.37134777e-05, 4.29265351e-05,\n",
       "       4.26090033e-05, 4.23856134e-05, 4.21742379e-05, 4.17847347e-05,\n",
       "       4.13870352e-05, 4.08461816e-05, 4.02868464e-05, 3.85887427e-05,\n",
       "       3.82519973e-05, 3.81418940e-05, 3.78838376e-05, 3.73238173e-05,\n",
       "       3.70742452e-05, 3.65901716e-05, 3.57648817e-05, 3.53579530e-05,\n",
       "       3.52531035e-05, 3.48699976e-05, 3.45505624e-05, 3.43835708e-05,\n",
       "       3.34025597e-05, 3.29991797e-05, 3.21984785e-05, 3.19393529e-05,\n",
       "       3.16408099e-05, 3.10130586e-05, 3.04092309e-05, 3.01560244e-05,\n",
       "       2.99062221e-05, 2.92128492e-05, 2.88664671e-05, 2.85184511e-05,\n",
       "       2.80650709e-05, 2.79074006e-05, 2.75173214e-05, 2.69453276e-05,\n",
       "       2.57726430e-05, 2.52920635e-05, 2.51629710e-05, 2.48282597e-05,\n",
       "       2.46875635e-05, 2.43564637e-05, 2.43141230e-05, 2.42490170e-05,\n",
       "       2.37258154e-05, 2.33513419e-05, 2.32170821e-05, 2.25184055e-05,\n",
       "       2.23652234e-05, 2.21184484e-05, 2.14323856e-05, 2.12954548e-05,\n",
       "       2.10673717e-05, 2.08562653e-05, 2.03771092e-05, 2.00897381e-05,\n",
       "       1.98644931e-05, 1.96245262e-05, 1.95146780e-05, 1.89596250e-05,\n",
       "       1.84494831e-05, 1.81866082e-05, 1.81024894e-05, 1.79573312e-05,\n",
       "       1.75884221e-05, 1.74099542e-05, 1.63583601e-05, 1.61730953e-05,\n",
       "       1.61083699e-05, 1.59039392e-05, 1.55391050e-05, 1.52059429e-05,\n",
       "       1.51670398e-05, 1.49795143e-05, 1.47584710e-05, 1.45782846e-05,\n",
       "       1.43546720e-05, 1.41770774e-05, 1.39621442e-05, 1.37897203e-05,\n",
       "       1.36745723e-05, 1.33331346e-05, 1.31039439e-05, 1.25487316e-05,\n",
       "       1.23813543e-05, 1.21852824e-05, 1.20015454e-05, 1.19125571e-05,\n",
       "       1.17766171e-05, 1.17307444e-05, 1.13788115e-05, 1.13168482e-05,\n",
       "       1.12463625e-05, 1.10026093e-05, 1.09370277e-05, 1.05700730e-05,\n",
       "       1.05384042e-05, 1.02320303e-05, 1.00219171e-05, 9.57486478e-06,\n",
       "       9.37248288e-06, 9.26034546e-06, 9.22225544e-06, 8.87165402e-06,\n",
       "       8.80979910e-06, 8.59229313e-06, 8.16018534e-06, 7.96991273e-06,\n",
       "       7.86719136e-06, 7.73393838e-06, 7.64388821e-06, 7.57753356e-06,\n",
       "       7.53194476e-06, 7.36860975e-06, 7.26920880e-06, 7.14866366e-06,\n",
       "       6.96162486e-06, 6.88111732e-06, 6.71536305e-06, 6.65581596e-06,\n",
       "       6.53801172e-06, 6.47011389e-06, 6.13990338e-06, 5.92738988e-06,\n",
       "       5.72723565e-06, 5.67724390e-06, 5.55498087e-06, 5.34937972e-06,\n",
       "       5.27072988e-06, 5.18255272e-06, 5.03922367e-06, 4.99553423e-06,\n",
       "       4.93269115e-06, 4.90087635e-06, 4.81064307e-06, 4.69601479e-06,\n",
       "       4.62328837e-06, 4.55458565e-06, 4.19828463e-06, 4.18489825e-06,\n",
       "       4.01272873e-06, 4.00155559e-06, 3.94513313e-06, 3.79975408e-06,\n",
       "       3.78085481e-06, 3.31217786e-06, 3.23787690e-06, 3.21258771e-06,\n",
       "       3.17519283e-06, 3.11957944e-06, 3.08216368e-06, 3.02581820e-06,\n",
       "       3.01214170e-06, 2.97070334e-06, 2.95593377e-06, 2.92458383e-06,\n",
       "       2.80376962e-06, 2.62845546e-06, 2.54993592e-06, 2.36170379e-06,\n",
       "       2.31546867e-06, 2.26296354e-06, 2.24474766e-06, 2.20769129e-06,\n",
       "       2.15115435e-06, 2.14663843e-06, 2.10203952e-06, 2.04177083e-06,\n",
       "       1.87914891e-06, 1.86506271e-06, 1.85219840e-06, 1.84445913e-06,\n",
       "       1.80037033e-06, 1.75433067e-06, 1.61843679e-06, 1.60540711e-06,\n",
       "       1.50347255e-06, 1.46105778e-06, 1.41330259e-06, 1.38834867e-06,\n",
       "       1.31820430e-06, 1.30323938e-06, 1.28464610e-06, 1.24683888e-06,\n",
       "       1.11920325e-06, 1.07840610e-06, 1.04794936e-06, 1.04158261e-06,\n",
       "       1.03574809e-06, 9.81224309e-07, 9.66405113e-07, 9.34492710e-07,\n",
       "       9.15745557e-07, 9.09785238e-07, 8.99058997e-07, 8.75386886e-07,\n",
       "       8.33145790e-07, 7.76131320e-07, 7.44965020e-07, 7.21840007e-07,\n",
       "       6.66633877e-07, 6.59729865e-07, 6.36906952e-07, 6.25560617e-07,\n",
       "       6.25377870e-07, 5.90925753e-07, 5.82886091e-07, 5.66883164e-07,\n",
       "       5.60965347e-07, 5.28215209e-07, 5.22247837e-07, 4.77481341e-07,\n",
       "       4.71665542e-07, 4.66136305e-07, 4.32275403e-07, 4.20436879e-07,\n",
       "       4.06474129e-07, 3.83887717e-07, 3.62130016e-07, 3.56661921e-07,\n",
       "       3.12316550e-07, 2.96830796e-07, 2.78415077e-07, 2.72680754e-07,\n",
       "       2.57484964e-07, 2.55549537e-07, 2.41288092e-07, 2.35705750e-07,\n",
       "       2.29940877e-07, 2.25352225e-07, 2.14995493e-07, 2.02536197e-07,\n",
       "       2.01439948e-07, 1.96168276e-07, 1.76740352e-07, 1.71228701e-07,\n",
       "       1.50993460e-07, 1.49718287e-07, 1.36601233e-07, 1.35304595e-07,\n",
       "       1.28053838e-07, 1.07049722e-07, 9.44896396e-08, 8.78391852e-08,\n",
       "       8.32650491e-08, 8.16810203e-08, 6.84887549e-08, 6.72368773e-08,\n",
       "       6.42105724e-08, 5.95888733e-08, 5.54025899e-08, 4.66118024e-08,\n",
       "       4.59353843e-08, 4.06522658e-08, 3.93584037e-08, 3.60455630e-08,\n",
       "       3.56938164e-08, 3.24021678e-08, 3.08761304e-08, 3.00483077e-08,\n",
       "       2.89071625e-08, 2.40250554e-08, 1.88466245e-08, 1.77257929e-08,\n",
       "       1.66299011e-08, 1.62047448e-08, 1.11501446e-08, 1.03068085e-08,\n",
       "       1.00984193e-08, 8.64471220e-09, 7.95800335e-09, 6.91637185e-09,\n",
       "       6.88523861e-09, 5.43217033e-09, 4.96586188e-09, 3.69822162e-09,\n",
       "       3.02034593e-09, 1.94007789e-09, 8.67383731e-10, 7.08189189e-10,\n",
       "       6.92261257e-10, 2.53506429e-10, 2.36219381e-10, 1.53059748e-11,\n",
       "       3.67770967e-31, 2.72161896e-31, 7.15661858e-32, 5.59188298e-32,\n",
       "       4.41242373e-32, 3.87178932e-32, 2.55086389e-32, 2.19535677e-32,\n",
       "       1.73580084e-32, 1.35386567e-32, 1.17443287e-32, 9.42102291e-33,\n",
       "       9.07651784e-33, 7.41783227e-33, 6.82806396e-33, 5.64725767e-33,\n",
       "       5.16875689e-33, 4.60948757e-33, 4.49766520e-33, 3.57064479e-33,\n",
       "       3.24572629e-33, 2.57522375e-33, 2.26431475e-33, 1.92323645e-33,\n",
       "       1.61272510e-33, 1.36643033e-33, 9.44650033e-34, 8.87698658e-34,\n",
       "       7.21211073e-34, 4.94632108e-34, 3.96403272e-34, 3.49747693e-34,\n",
       "       3.49747693e-34, 3.49747693e-34, 3.49747693e-34, 3.49747693e-34,\n",
       "       3.49747693e-34, 3.49747693e-34, 3.49747693e-34, 3.49747693e-34,\n",
       "       3.49747693e-34, 3.49747693e-34, 3.49747693e-34, 3.49747693e-34,\n",
       "       3.49747693e-34, 3.49747693e-34, 3.49747693e-34, 3.49747693e-34,\n",
       "       3.49747693e-34, 3.49747693e-34, 3.49747693e-34, 3.49747693e-34,\n",
       "       3.49747693e-34, 3.49747693e-34, 3.49747693e-34, 3.49747693e-34,\n",
       "       3.49747693e-34, 3.49747693e-34, 3.49747693e-34, 3.49747693e-34,\n",
       "       3.49747693e-34, 3.49747693e-34, 3.49747693e-34, 3.49747693e-34,\n",
       "       3.49747693e-34, 3.49747693e-34, 3.43532289e-34, 2.64969981e-34,\n",
       "       1.69127311e-34, 1.29490758e-34, 4.70063799e-35, 2.92616693e-36])"
      ]
     },
     "execution_count": 107,
     "metadata": {},
     "output_type": "execute_result"
    }
   ],
   "source": [
    "full_pca.explained_variance_ratio_"
   ]
  },
  {
   "cell_type": "code",
   "execution_count": 108,
   "metadata": {},
   "outputs": [],
   "source": [
    "cumsum = np.cumsum(full_pca.explained_variance_ratio_)"
   ]
  },
  {
   "cell_type": "code",
   "execution_count": 109,
   "metadata": {},
   "outputs": [
    {
     "name": "stdout",
     "output_type": "stream",
     "text": [
      "154\n"
     ]
    }
   ],
   "source": [
    "d = np.argmax(cumsum >= 0.95) + 1\n",
    "print(d)\n",
    "W_d = full_pca.components_.T[:, 0:154]\n"
   ]
  },
  {
   "cell_type": "markdown",
   "metadata": {},
   "source": [
    "So now, we can get the first 154 dimensions into an array called $W_d$ and then project to hyperplane (by centering the input and multiplying by $W_d$.\n",
    "```\n",
    "centers = X.mean(axis=0)\n",
    "W_d = pca.components_.T[:, 0:154]\n",
    "\n",
    "def project_to_hyperplane(X):\n",
    "    X_centered = X - centers\n",
    "    return X_centered.dot(W_d)\n",
    "    \n",
    "```\n",
    "\n",
    "And restore to original space by multiplying by $W_d^T$ and undoing the centering.\n",
    "```\n",
    "centers = X.mean(axis=0)\n",
    "W_d = pca.components_.T[:, 0:154]\n",
    "\n",
    "def project_to_original_space(X_d):\n",
    "    return X_centered.dot(W_d.T)\n",
    "    return X + centers\n",
    "    \n",
    "```\n",
    "\n",
    " I was not able to find a way to get the centering for the PCA.\n",
    " TODO: later."
   ]
  },
  {
   "cell_type": "code",
   "execution_count": 110,
   "metadata": {},
   "outputs": [
    {
     "name": "stdout",
     "output_type": "stream",
     "text": [
      "502.4619569191871\n"
     ]
    }
   ],
   "source": [
    "# W_d = pca.components_.T[:, 0:154]\n",
    "\n",
    "X_orig = X[0]\n",
    "X_d = X_orig.dot(W_d)\n",
    "X_back = X_d.dot(W_d.T)\n",
    "\n",
    "# How much information did we lose here\n",
    "\n",
    "print(np.linalg.norm(X_back - X_orig))"
   ]
  },
  {
   "cell_type": "code",
   "execution_count": 111,
   "metadata": {},
   "outputs": [
    {
     "data": {
      "image/png": "[encoded data removed]",
      "text/plain": [
       "<Figure size 432x288 with 1 Axes>"
      ]
     },
     "metadata": {
      "needs_background": "light"
     },
     "output_type": "display_data"
    },
    {
     "data": {
      "image/png": "[encoded data removed]",
      "text/plain": [
       "<Figure size 432x288 with 1 Axes>"
      ]
     },
     "metadata": {
      "needs_background": "light"
     },
     "output_type": "display_data"
    }
   ],
   "source": [
    "showImage(X_orig)\n",
    "showImage(X_back)"
   ]
  },
  {
   "cell_type": "markdown",
   "metadata": {},
   "source": [
    "This doesn't look right. I suspect the centering is missing. Let's do this with the pca instead."
   ]
  },
  {
   "cell_type": "code",
   "execution_count": 117,
   "metadata": {},
   "outputs": [
    {
     "name": "stdout",
     "output_type": "stream",
     "text": [
      "Shape of PCA.means is  (784,)\n",
      "(784,)\n",
      "1755.4455291237537\n"
     ]
    }
   ],
   "source": [
    "print(\"Shape of PCA.means is \", pca.mean_.shape)\n",
    "\n",
    "centers = full_pca.mean_\n",
    "W_d = full_pca.components_.T[:, 0:50]\n",
    "\n",
    "def project_to_hyperplane(X):\n",
    "    X_centered = X - centers\n",
    "    return X_centered.dot(W_d)\n",
    "\n",
    "def project_to_original_space(X_d):\n",
    "    return X_d.dot(W_d.T)\n",
    "    return X + centers\n",
    "\n",
    "X_d = project_to_hyperplane(X_orig)\n",
    "X_back = project_to_original_space(X_d)\n",
    "\n",
    "# How much information did we lose here\n",
    "print(X_back.shape)\n",
    "print(np.linalg.norm(X_back - X_orig))\n"
   ]
  },
  {
   "cell_type": "code",
   "execution_count": 118,
   "metadata": {},
   "outputs": [
    {
     "data": {
      "image/png": "[encoded data removed]",
      "text/plain": [
       "<Figure size 432x288 with 1 Axes>"
      ]
     },
     "metadata": {
      "needs_background": "light"
     },
     "output_type": "display_data"
    },
    {
     "data": {
      "image/png": "[encoded data removed]",
      "text/plain": [
       "<Figure size 432x288 with 1 Axes>"
      ]
     },
     "metadata": {
      "needs_background": "light"
     },
     "output_type": "display_data"
    }
   ],
   "source": [
    "showImage(X_orig)\n",
    "showImage(X_back)"
   ]
  },
  {
   "cell_type": "markdown",
   "metadata": {},
   "source": [
    "In order to preserve x% of the variance, you can specify the fraction directly as the n_components argument to PCA. This has the advantage of giving you a fit_transform() and an inverse_transform method, rather than doing matrix manipulation to project onto the hyperplane and back to the original space.\n",
    "\n",
    "[Scaling is very important before running PCA](https://scikit-learn.org/stable/auto_examples/preprocessing/plot_scaling_importance.html#sphx-glr-auto-examples-preprocessing-plot-scaling-importance-py). We didn't do that because the MNIST pixel values are already scaled to be in the same range, but this should be done before running PCA."
   ]
  },
  {
   "cell_type": "code",
   "execution_count": 95,
   "metadata": {},
   "outputs": [],
   "source": [
    "from sklearn.linear_model import SGDClassifier\n",
    "\n",
    "X_train, X_test, y_train, y_test = X[:60000], X[60000:], y[:60000], y[60000:]\n",
    "\n",
    "pca = PCA(n_components=0.95)\n",
    "X_reduced = pca.fit_transform(X_train)"
   ]
  },
  {
   "cell_type": "code",
   "execution_count": 96,
   "metadata": {},
   "outputs": [],
   "source": [
    "def showImage(digit):\n",
    "    # The description tells you that these are 28x28 pixel boxes\n",
    "    digit_image = digit.reshape(28,28)\n",
    "    plt.imshow(digit_image, cmap='binary')\n",
    "    plt.axis(\"on\")\n",
    "    plt.show()"
   ]
  },
  {
   "cell_type": "code",
   "execution_count": 97,
   "metadata": {},
   "outputs": [
    {
     "name": "stdout",
     "output_type": "stream",
     "text": [
      "501.71189921420125\n"
     ]
    },
    {
     "data": {
      "image/png": "[encoded data removed]",
      "text/plain": [
       "<Figure size 432x288 with 1 Axes>"
      ]
     },
     "metadata": {
      "needs_background": "light"
     },
     "output_type": "display_data"
    },
    {
     "data": {
      "image/png": "[encoded data removed]",
      "text/plain": [
       "<Figure size 432x288 with 1 Axes>"
      ]
     },
     "metadata": {
      "needs_background": "light"
     },
     "output_type": "display_data"
    }
   ],
   "source": [
    "X_orig = X[0].copy()\n",
    "X_reduced = pca.transform([X_orig])\n",
    "X_recovered = pca.inverse_transform([X_reduced])\n",
    "\n",
    "# How much information did we lose here\n",
    "print(np.linalg.norm(X_orig - X_recovered))\n",
    "\n",
    "# And let's plot them both\n",
    "showImage(X_orig)\n",
    "showImage(X_recovered)"
   ]
  },
  {
   "cell_type": "markdown",
   "metadata": {},
   "source": [
    "# Randomized PCA\n",
    "\n",
    "An approximate SVD implementation when svd_solver=\"randomized\".\n",
    "\n",
    "But rnd_pca doesn't like fractional values for n_components, as it needs to know the number of dimensions right away."
   ]
  },
  {
   "cell_type": "code",
   "execution_count": 78,
   "metadata": {},
   "outputs": [],
   "source": [
    "rnd_pca = PCA(n_components=154,  svd_solver=\"randomized\")"
   ]
  },
  {
   "cell_type": "code",
   "execution_count": 79,
   "metadata": {},
   "outputs": [
    {
     "name": "stdout",
     "output_type": "stream",
     "text": [
      "CPU times: user 5min, sys: 1.53 s, total: 5min 1s\n",
      "Wall time: 5min 1s\n"
     ]
    }
   ],
   "source": [
    "%time rnd_pca.fit(X_train)"
   ]
  },
  {
   "cell_type": "markdown",
   "metadata": {},
   "source": [
    "Compare this with a full PCA\n"
   ]
  },
  {
   "cell_type": "code",
   "execution_count": 80,
   "metadata": {},
   "outputs": [
    {
     "name": "stdout",
     "output_type": "stream",
     "text": [
      "CPU times: user 4min 33s, sys: 1.86 s, total: 4min 35s\n",
      "Wall time: 4min 32s\n"
     ]
    }
   ],
   "source": [
    "%time X_reduced = pca.fit_transform(X_train)"
   ]
  },
  {
   "cell_type": "code",
   "execution_count": 102,
   "metadata": {},
   "outputs": [
    {
     "name": "stdout",
     "output_type": "stream",
     "text": [
      "502.5311062186627\n"
     ]
    },
    {
     "data": {
      "image/png": "[encoded data removed]",
      "text/plain": [
       "<Figure size 432x288 with 1 Axes>"
      ]
     },
     "metadata": {
      "needs_background": "light"
     },
     "output_type": "display_data"
    },
    {
     "data": {
      "image/png": "[encoded data removed]",
      "text/plain": [
       "<Figure size 432x288 with 1 Axes>"
      ]
     },
     "metadata": {
      "needs_background": "light"
     },
     "output_type": "display_data"
    }
   ],
   "source": [
    "digit_reduced = rnd_pca.transform([one_digit])\n",
    "digit_recovered = rnd_pca.inverse_transform([digit_reduced])\n",
    "\n",
    "# How much information did we lose here\n",
    "print(np.linalg.norm(one_digit - digit_recovered))\n",
    "\n",
    "# And let's plot them both\n",
    "showImage(one_digit)\n",
    "showImage(digit_recovered)"
   ]
  },
  {
   "cell_type": "markdown",
   "metadata": {},
   "source": [
    "# Incremental PCA\n",
    "\n",
    "Instead of training on the full dataset, we can train on subsets of the data in two ways.\n",
    "\n",
    "One, we can use IncrementalPCA.\n",
    "\n",
    "The second is more interesting, where we create a disk-backed matrix\n",
    "```\n",
    "X_mm = np.memmap(filename, dtype=\"float32\", mode=\"readonly\", shape=(m,n))\n",
    "batch_size = m\n",
    "inc_pca = IncrementalPca(n_components=154, batch_size=batch_size)\n",
    "inc_pca.fit(X_mm)\n",
    "```\n",
    "\n",
    "This works well for large datasets $(m >> n)$ that won't fit in memory but you want IncrementalPCA to go through the whole matrix."
   ]
  },
  {
   "cell_type": "code",
   "execution_count": 93,
   "metadata": {},
   "outputs": [],
   "source": [
    "from sklearn.decomposition import IncrementalPCA\n",
    "\n",
    "one_digit = X[0].copy()\n",
    "\n",
    "n_batches = 100\n",
    "inc_pca = IncrementalPCA(n_components=154)\n",
    "for X_batch in np.array_split(X_train, n_batches):\n",
    "    inc_pca.partial_fit(X_batch)\n",
    "    \n",
    "X_reduced = inc_pca.transform(X_train)\n"
   ]
  },
  {
   "cell_type": "code",
   "execution_count": 94,
   "metadata": {},
   "outputs": [
    {
     "name": "stdout",
     "output_type": "stream",
     "text": [
      "485.306290320977\n"
     ]
    },
    {
     "data": {
      "image/png": "[encoded data removed]",
      "text/plain": [
       "<Figure size 432x288 with 1 Axes>"
      ]
     },
     "metadata": {
      "needs_background": "light"
     },
     "output_type": "display_data"
    },
    {
     "data": {
      "image/png": "[encoded data removed]",
      "text/plain": [
       "<Figure size 432x288 with 1 Axes>"
      ]
     },
     "metadata": {
      "needs_background": "light"
     },
     "output_type": "display_data"
    }
   ],
   "source": [
    "digit_reduced = inc_pca.transform([one_digit])\n",
    "digit_recovered = inc_pca.inverse_transform([digit_reduced])\n",
    "\n",
    "# How much information did we lose here\n",
    "print(np.linalg.norm(one_digit - digit_recovered))\n",
    "\n",
    "# And let's plot them both\n",
    "showImage(one_digit)\n",
    "showImage(digit_recovered)"
   ]
  },
  {
   "cell_type": "code",
   "execution_count": 98,
   "metadata": {},
   "outputs": [
    {
     "data": {
      "text/plain": [
       "(1, 154)"
      ]
     },
     "execution_count": 98,
     "metadata": {},
     "output_type": "execute_result"
    }
   ],
   "source": [
    "digit_reduced.shape"
   ]
  },
  {
   "cell_type": "markdown",
   "metadata": {},
   "source": [
    "# Swiss Roll database and Kernel PCA\n",
    "\n",
    "Till now we used the digits database, and it is not a manifold. So let's use the [Swiss roll database](https://scikit-learn.org/stable/auto_examples/cluster/plot_ward_structured_vs_unstructured.html#sphx-glr-auto-examples-cluster-plot-ward-structured-vs-unstructured-py) which is a 2d manifold in a 3d space. And let's try different dimensionality reduction methods on it."
   ]
  },
  {
   "cell_type": "code",
   "execution_count": 135,
   "metadata": {},
   "outputs": [
    {
     "name": "stdout",
     "output_type": "stream",
     "text": [
      "Automatically created module for IPython interactive environment\n"
     ]
    }
   ],
   "source": [
    "print(__doc__)\n",
    "\n",
    "import time as time\n",
    "import numpy as np\n",
    "import matplotlib.pyplot as plt\n",
    "import mpl_toolkits.mplot3d.axes3d as p3\n",
    "from sklearn.cluster import AgglomerativeClustering\n",
    "from sklearn.datasets import make_swiss_roll\n",
    "\n",
    "# Generate data (swiss roll dataset)\n",
    "n_samples = 1500\n",
    "noise = 0.05\n",
    "\n",
    "# t is the location in the manifold, something that we usually would not have access\n",
    "# to, but in this toy data generator, we have the true value.\n",
    "X, t = make_swiss_roll(n_samples, noise=noise)\n",
    "\n",
    "# Make it thinner\n",
    "X[:, 1] *= .5\n"
   ]
  },
  {
   "cell_type": "code",
   "execution_count": 139,
   "metadata": {},
   "outputs": [
    {
     "data": {
      "image/png": "[encoded data removed]",
      "text/plain": [
       "<Figure size 432x288 with 1 Axes>"
      ]
     },
     "metadata": {
      "needs_background": "light"
     },
     "output_type": "display_data"
    }
   ],
   "source": [
    "# Plot result\n",
    "fig = plt.figure()\n",
    "ax = p3.Axes3D(fig)\n",
    "ax.view_init(7, -80)\n",
    "max_color=np.max(t + 1)\n",
    "scaled_color = t / max_color\n",
    "\n",
    "ax.scatter(X[:, 0], X[:, 1], X[:, 2], \n",
    "            color=plt.cm.jet(scaled_color), s=20)\n",
    "plt.title('Raw data');\n"
   ]
  },
  {
   "cell_type": "markdown",
   "metadata": {},
   "source": [
    "You can use the kernel trick with PCA as well. So you apply different modifications a\n",
    "(called kernels) that transform the original space to another space, and then PCA\n",
    "acts upon that space to reduce the dimensions. \n",
    "\n",
    "Where this can be helpful is when the original space is messy, and a Sigmoid or Radial Basis Function (RBF) kernel can modify this space, while keeping the data intact, and then PCA can reduce the information to just the important components."
   ]
  },
  {
   "cell_type": "code",
   "execution_count": 141,
   "metadata": {},
   "outputs": [],
   "source": [
    "from sklearn.decomposition import KernelPCA\n",
    "\n",
    "rbf_pca = KernelPCA(n_components=2, kernel='rbf', gamma=0.04)\n",
    "X_reduced = rbf_pca.fit_transform(X)"
   ]
  },
  {
   "cell_type": "code",
   "execution_count": 143,
   "metadata": {},
   "outputs": [
    {
     "data": {
      "text/plain": [
       "(1500, 2)"
      ]
     },
     "execution_count": 143,
     "metadata": {},
     "output_type": "execute_result"
    }
   ],
   "source": [
    "X_reduced.shape"
   ]
  },
  {
   "cell_type": "code",
   "execution_count": 150,
   "metadata": {},
   "outputs": [
    {
     "data": {
      "image/png": "[encoded data removed]",
      "text/plain": [
       "<Figure size 432x288 with 1 Axes>"
      ]
     },
     "metadata": {
      "needs_background": "light"
     },
     "output_type": "display_data"
    }
   ],
   "source": [
    "plt.scatter(X_reduced[:,0], X_reduced[:, 1], color=plt.cm.jet(scaled_color))\n",
    "plt.axis(\"on\")\n",
    "plt.show()"
   ]
  },
  {
   "cell_type": "markdown",
   "metadata": {},
   "source": [
    "This part is complicated, you can create a pipeline, and then feed it to GridSearch to evaluate across all elements in the pipeline. Fancy"
   ]
  },
  {
   "cell_type": "code",
   "execution_count": 168,
   "metadata": {},
   "outputs": [
    {
     "data": {
      "text/plain": [
       "GridSearchCV(cv=3, error_score=nan,\n",
       "             estimator=Pipeline(memory=None,\n",
       "                                steps=[('kpca',\n",
       "                                        KernelPCA(alpha=1.0, coef0=1,\n",
       "                                                  copy_X=True, degree=3,\n",
       "                                                  eigen_solver='auto',\n",
       "                                                  fit_inverse_transform=False,\n",
       "                                                  gamma=None, kernel='linear',\n",
       "                                                  kernel_params=None,\n",
       "                                                  max_iter=None, n_components=2,\n",
       "                                                  n_jobs=None,\n",
       "                                                  random_state=None,\n",
       "                                                  remove_zero_eig=False,\n",
       "                                                  tol=0)),\n",
       "                                       ('lin_reg',\n",
       "                                        LinearRegression(copy_X=Tru...\n",
       "                                                         normalize=False))],\n",
       "                                verbose=False),\n",
       "             iid='deprecated', n_jobs=None,\n",
       "             param_grid=[{'kpca__gamma': array([0.03      , 0.03222222, 0.03444444, 0.03666667, 0.03888889,\n",
       "       0.04111111, 0.04333333, 0.04555556, 0.04777778, 0.05      ]),\n",
       "                          'kpca__kernel': ['rbf', 'sigmoid', 'linear'],\n",
       "                          'lin_reg__normalize': [True, False]}],\n",
       "             pre_dispatch='2*n_jobs', refit=True, return_train_score=False,\n",
       "             scoring=None, verbose=0)"
      ]
     },
     "execution_count": 168,
     "metadata": {},
     "output_type": "execute_result"
    }
   ],
   "source": [
    "clf = Pipeline([\n",
    "    ('kpca', KernelPCA(n_components=2)),\n",
    "    ('lin_reg', LinearRegression(copy_X=True))\n",
    "])\n",
    "\n",
    "param_grid = [{\n",
    "    'kpca__gamma': np.linspace(0.03, 0.05, 10),\n",
    "    'kpca__kernel': ['rbf', 'sigmoid', 'linear'],\n",
    "    'lin_reg__normalize': [True, False]\n",
    "}]\n",
    "\n",
    "grid_search = GridSearchCV(clf, param_grid, cv=3)\n",
    "grid_search.fit(X, t)"
   ]
  },
  {
   "cell_type": "code",
   "execution_count": 169,
   "metadata": {},
   "outputs": [
    {
     "data": {
      "text/plain": [
       "{'kpca__gamma': 0.05, 'kpca__kernel': 'rbf', 'lin_reg__normalize': False}"
      ]
     },
     "execution_count": 169,
     "metadata": {},
     "output_type": "execute_result"
    }
   ],
   "source": [
    "grid_search.best_params_"
   ]
  },
  {
   "cell_type": "code",
   "execution_count": 170,
   "metadata": {},
   "outputs": [
    {
     "data": {
      "text/plain": [
       "array([6.33006417])"
      ]
     },
     "execution_count": 170,
     "metadata": {},
     "output_type": "execute_result"
    }
   ],
   "source": [
    "grid_search.predict([X[0]])"
   ]
  },
  {
   "cell_type": "code",
   "execution_count": 171,
   "metadata": {},
   "outputs": [
    {
     "data": {
      "text/plain": [
       "6.103154842364881"
      ]
     },
     "execution_count": 171,
     "metadata": {},
     "output_type": "execute_result"
    }
   ],
   "source": [
    "t[0]"
   ]
  },
  {
   "cell_type": "markdown",
   "metadata": {},
   "source": [
    "Pretty close, it was able to do a good job.\n",
    "\n",
    "When we use KernelPCA, the mapping from the transform really goes from the original space, to a modified feature space $\\phi(x) \\in \\phi(X)$. Then, PCA reduces the dimensions of this space to a lower dimension space called $Y$. So if we restore from\n",
    "$y \\in Y$, using an inverse of $\\phi$, then you are back in the modified feature-space $\\phi(X)$ rather than in $X$. So instead of using this larger (potentially infinite) space, we can find a point in the original space $X$ that is close-enough to the location in $\\phi(X)$. This is done by passing fit_inverse_transform=True to KernelPCA like this."
   ]
  },
  {
   "cell_type": "code",
   "execution_count": 173,
   "metadata": {},
   "outputs": [],
   "source": [
    "rbf_pca = KernelPCA(n_components=2, kernel='rbf', gamma=0.0433,\n",
    "                   fit_inverse_transform=True)\n",
    "X_reduced = rbf_pca.fit_transform(X)"
   ]
  },
  {
   "cell_type": "code",
   "execution_count": 174,
   "metadata": {},
   "outputs": [],
   "source": [
    "X_preimage = rbf_pca.inverse_transform(X_reduced)"
   ]
  },
  {
   "cell_type": "markdown",
   "metadata": {},
   "source": [
    "# Exercises\n",
    "\n",
    "1. Main motivation for reducing dimensionality:\n",
    "    - Preserving information while reducing features.\n",
    "    - Graphing or examining data visually.\n",
    "    - Training models that choke on a large number of features.\n",
    "    - Getting more robust models that can find similarities between points in a denser space.\n",
    "\n",
    "\n",
    "2. Curse of dimensionality:\n",
    "    - When the data is so sparsely represented that any relationship between them is lost.\n",
    "    \n",
    "    \n",
    "3. Is it possible to reverse the reduction of dimensionality?\n",
    "    - Yes, it is possible if the information loss is not too large. For example, with MNIST, if you end up with two dimensions, you cannot regain back the original information.\n",
    "    - In extreme cases, you could let go of superfluous attributes and get information back fully.\n",
    "    - From a vector in the reduced space $X_d$, and the vector $W_d$ that transforms from the full space to the reduced space: $X_d = X . W_d$, you can get the original space by undoing this operation: $X = X_d . W_d^T$. This is possible because of two key reasons\n",
    "       - $W_d$ has unit vectors, so you don't need to divide by their norm.\n",
    "       - $W_d$ has orthornomal vectors, so they are at right angles to each other: they are basis vectors of the projection space because they are obtained through the Singular Value Decomposition (SVD).\n",
    "    \n",
    "    \n",
    "4. Can PCA be used to reduce dimensionality of a highly nonlinear dataset:\n",
    "    - Probably not, unless the Kernel trick is used. After all PCA is the result of SVD, and SVD is an affine transformation from the original space to another (possibly smaller space). Affine transformations are rotations and stretches. Highly nonlinear operations cannot be expressed as matrix transformations.\n",
    "\n",
    "\n",
    "5. How many dimensions will a 1000-dimension dataset will have at 95% variance ratio\n",
    "    - Impossible to tell without more information. It could be 0 dimension (if the dataset is the same value repeated forever). It could be all 1000 dimensions if each dimension is independent.\n",
    "\n",
    "\n",
    "6. When do you use vanilla PCA, Incremental, Randomized, or Kernel\n",
    "    - Vanilla: Dataset is small, many attributes carry little information $ d << n $, information is linear\n",
    "    - Incremental: Dataset ($m$) is large, and won't fit in memory. Approximations are ok.\n",
    "    - Randomized: $d << n$ and approximations are fine.\n",
    "    - Kernel: Information in the dataset is not linear.\n",
    "\n",
    "\n",
    "7. How we evaluate dimensionality reduction?\n",
    "    - Find how much variance is explained on the training set. This should be large.\n",
    "    - If reducing dimensions for viewing, the information should be preserved (clusters are preserved, relations are somewhat retained)\n",
    "    - If doing this for training a model that chokes on a large number of attributes, then the model training is sped up sufficiently.\n",
    "\n",
    "\n",
    "8. Is there any sense to reducing dimensionality, and then doing it again?\n",
    "    - Probably not in most cases. Better to do an SVD once.\n",
    "    - But in case the original dimensions are large with most attributes superflous($n$ huge, $d << n$), then an approximate SVD followed by a full SVD on the projected space might be useful.\n",
    "    \n",
    "9. Train Random Forest on MNIST... "
   ]
  },
  {
   "cell_type": "code",
   "execution_count": null,
   "metadata": {},
   "outputs": [],
   "source": [
    "from sklearn.ensemble import RandomForestClassifier\n",
    "from sklearn.metrics import accuracy_score\n"
   ]
  },
  {
   "cell_type": "code",
   "execution_count": 175,
   "metadata": {},
   "outputs": [
    {
     "name": "stdout",
     "output_type": "stream",
     "text": [
      "(70000, 784)\n",
      "(70000,)\n"
     ]
    }
   ],
   "source": [
    "# Assign attributes and labels using standard terminology\n",
    "X, y = mnist[\"data\"], mnist[\"target\"]\n",
    "\n",
    "X_train, X_test, y_train, y_test = X[:60000], X[60000:], y[:60000], y[60000:]\n",
    "\n",
    "print (X.shape)\n",
    "print (y.shape)"
   ]
  },
  {
   "cell_type": "code",
   "execution_count": 179,
   "metadata": {},
   "outputs": [],
   "source": [
    "from sklearn.ensemble import RandomForestClassifier\n",
    "from sklearn.metrics import accuracy_score\n",
    "\n",
    "forest = RandomForestClassifier()"
   ]
  },
  {
   "cell_type": "code",
   "execution_count": 180,
   "metadata": {},
   "outputs": [
    {
     "name": "stdout",
     "output_type": "stream",
     "text": [
      "CPU times: user 1min 33s, sys: 198 ms, total: 1min 33s\n",
      "Wall time: 1min 33s\n"
     ]
    },
    {
     "data": {
      "text/plain": [
       "RandomForestClassifier(bootstrap=True, ccp_alpha=0.0, class_weight=None,\n",
       "                       criterion='gini', max_depth=None, max_features='auto',\n",
       "                       max_leaf_nodes=None, max_samples=None,\n",
       "                       min_impurity_decrease=0.0, min_impurity_split=None,\n",
       "                       min_samples_leaf=1, min_samples_split=2,\n",
       "                       min_weight_fraction_leaf=0.0, n_estimators=100,\n",
       "                       n_jobs=None, oob_score=False, random_state=None,\n",
       "                       verbose=0, warm_start=False)"
      ]
     },
     "execution_count": 180,
     "metadata": {},
     "output_type": "execute_result"
    }
   ],
   "source": [
    "%time forest.fit(X_train, y_train)"
   ]
  },
  {
   "cell_type": "code",
   "execution_count": 182,
   "metadata": {},
   "outputs": [
    {
     "name": "stdout",
     "output_type": "stream",
     "text": [
      "0.9691\n"
     ]
    }
   ],
   "source": [
    "print (accuracy_score(forest.predict(X_test), y_test))"
   ]
  },
  {
   "cell_type": "markdown",
   "metadata": {},
   "source": [
    "Now reduce the dimensions to 95%, and then train, and time the whole thing, including the PCA."
   ]
  },
  {
   "cell_type": "code",
   "execution_count": 183,
   "metadata": {},
   "outputs": [],
   "source": [
    "pca = PCA(n_components=.95)"
   ]
  },
  {
   "cell_type": "code",
   "execution_count": 184,
   "metadata": {},
   "outputs": [
    {
     "name": "stdout",
     "output_type": "stream",
     "text": [
      "CPU times: user 4min 6s, sys: 2.25 s, total: 4min 8s\n",
      "Wall time: 4min 6s\n"
     ]
    },
    {
     "data": {
      "text/plain": [
       "PCA(copy=True, iterated_power='auto', n_components=0.95, random_state=None,\n",
       "    svd_solver='auto', tol=0.0, whiten=False)"
      ]
     },
     "execution_count": 184,
     "metadata": {},
     "output_type": "execute_result"
    }
   ],
   "source": [
    "%time pca.fit(X_train)"
   ]
  },
  {
   "cell_type": "code",
   "execution_count": 186,
   "metadata": {},
   "outputs": [
    {
     "name": "stdout",
     "output_type": "stream",
     "text": [
      "CPU times: user 20.3 s, sys: 208 ms, total: 20.5 s\n",
      "Wall time: 20.5 s\n"
     ]
    }
   ],
   "source": [
    "# Transform all the attributes.\n",
    "%time Xs_train = pca.transform(X_train)"
   ]
  },
  {
   "cell_type": "code",
   "execution_count": 187,
   "metadata": {},
   "outputs": [
    {
     "name": "stdout",
     "output_type": "stream",
     "text": [
      "CPU times: user 3.05 s, sys: 36 ms, total: 3.08 s\n",
      "Wall time: 3.08 s\n"
     ]
    }
   ],
   "source": [
    "%time Xs_test = pca.transform(X_test)"
   ]
  },
  {
   "cell_type": "code",
   "execution_count": null,
   "metadata": {},
   "outputs": [],
   "source": []
  },
  {
   "cell_type": "code",
   "execution_count": 188,
   "metadata": {},
   "outputs": [],
   "source": [
    "forest_small = RandomForestClassifier()\n"
   ]
  },
  {
   "cell_type": "code",
   "execution_count": 189,
   "metadata": {},
   "outputs": [
    {
     "name": "stdout",
     "output_type": "stream",
     "text": [
      "CPU times: user 3min 20s, sys: 689 ms, total: 3min 21s\n",
      "Wall time: 3min 21s\n"
     ]
    },
    {
     "data": {
      "text/plain": [
       "RandomForestClassifier(bootstrap=True, ccp_alpha=0.0, class_weight=None,\n",
       "                       criterion='gini', max_depth=None, max_features='auto',\n",
       "                       max_leaf_nodes=None, max_samples=None,\n",
       "                       min_impurity_decrease=0.0, min_impurity_split=None,\n",
       "                       min_samples_leaf=1, min_samples_split=2,\n",
       "                       min_weight_fraction_leaf=0.0, n_estimators=100,\n",
       "                       n_jobs=None, oob_score=False, random_state=None,\n",
       "                       verbose=0, warm_start=False)"
      ]
     },
     "execution_count": 189,
     "metadata": {},
     "output_type": "execute_result"
    }
   ],
   "source": [
    "%time forest_small.fit(Xs_train, y_train)"
   ]
  },
  {
   "cell_type": "code",
   "execution_count": 191,
   "metadata": {},
   "outputs": [
    {
     "name": "stdout",
     "output_type": "stream",
     "text": [
      "0.9479\n"
     ]
    }
   ],
   "source": [
    "print (accuracy_score(forest_small.predict(Xs_test), y_test))"
   ]
  },
  {
   "cell_type": "markdown",
   "metadata": {},
   "source": [
    "10. t-SNE to visualize the MNIST dataset"
   ]
  },
  {
   "cell_type": "code",
   "execution_count": 192,
   "metadata": {},
   "outputs": [
    {
     "name": "stdout",
     "output_type": "stream",
     "text": [
      "CPU times: user 53 µs, sys: 1e+03 ns, total: 54 µs\n",
      "Wall time: 66.3 µs\n"
     ]
    }
   ],
   "source": [
    "from sklearn.manifold import TSNE\n",
    "\n",
    "%time tsne = TSNE(n_components=2)"
   ]
  },
  {
   "cell_type": "code",
   "execution_count": null,
   "metadata": {},
   "outputs": [],
   "source": [
    "%time X_tsne = tsne.fit_transform(X)"
   ]
  },
  {
   "cell_type": "code",
   "execution_count": 202,
   "metadata": {},
   "outputs": [
    {
     "data": {
      "image/png": "[encoded data removed]",
      "text/plain": [
       "<Figure size 432x288 with 1 Axes>"
      ]
     },
     "metadata": {
      "needs_background": "light"
     },
     "output_type": "display_data"
    }
   ],
   "source": [
    "scaled_color = y.astype(np.float32) / 10.0\n",
    "plt.scatter(X_tsne[:,0], X_tsne[:, 1], color=plt.cm.jet(scaled_color))\n",
    "plt.axis(\"on\")\n",
    "plt.show()"
   ]
  },
  {
   "cell_type": "code",
   "execution_count": 196,
   "metadata": {},
   "outputs": [
    {
     "data": {
      "text/plain": [
       "TSNE(angle=0.5, early_exaggeration=12.0, init='random', learning_rate=200.0,\n",
       "     method='barnes_hut', metric='euclidean', min_grad_norm=1e-07,\n",
       "     n_components=2, n_iter=1000, n_iter_without_progress=300, n_jobs=None,\n",
       "     perplexity=30.0, random_state=None, verbose=0)"
      ]
     },
     "execution_count": 196,
     "metadata": {},
     "output_type": "execute_result"
    }
   ],
   "source": [
    "tsne"
   ]
  },
  {
   "cell_type": "code",
   "execution_count": 195,
   "metadata": {},
   "outputs": [
    {
     "data": {
      "text/plain": [
       "2"
      ]
     },
     "execution_count": 195,
     "metadata": {},
     "output_type": "execute_result"
    }
   ],
   "source": [
    "1+1"
   ]
  },
  {
   "cell_type": "code",
   "execution_count": null,
   "metadata": {},
   "outputs": [],
   "source": []
  }
 ],
 "metadata": {
  "kernelspec": {
   "display_name": "Python 3",
   "language": "python",
   "name": "python3"
  },
  "language_info": {
   "codemirror_mode": {
    "name": "ipython",
    "version": 3
   },
   "file_extension": ".py",
   "mimetype": "text/x-python",
   "name": "python",
   "nbconvert_exporter": "python",
   "pygments_lexer": "ipython3",
   "version": "3.8.2"
  }
 },
 "nbformat": 4,
 "nbformat_minor": 4
}
