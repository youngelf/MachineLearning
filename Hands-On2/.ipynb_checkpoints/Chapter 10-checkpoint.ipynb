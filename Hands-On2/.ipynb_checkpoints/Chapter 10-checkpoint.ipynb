{
 "cells": [
  {
   "cell_type": "markdown",
   "metadata": {},
   "source": [
    "## Chapter 10: Multi-Layer Perceptrons with Keras\n",
    "\n",
    "Now that I've got [Tensorflow on this machine that doesn't have AVX support](https://www.eggwall.com/2020/09/compiling-tensorflow-without-avx.html), let's take it for a ride.\n"
   ]
  },
  {
   "cell_type": "code",
   "execution_count": 8,
   "metadata": {},
   "outputs": [
    {
     "name": "stdout",
     "output_type": "stream",
     "text": [
      "TF version  2.3.0\n",
      "Keras version  2.4.0\n"
     ]
    }
   ],
   "source": [
    "# Common imports\n",
    "\n",
    "import matplotlib.cm as cm\n",
    "from matplotlib.image import imread\n",
    "# import matplotlib as mpl\n",
    "import matplotlib.pyplot as plt\n",
    "# import mpl_toolkits.mplot3d.axes3d as p3\n",
    "\n",
    "import numpy as np\n",
    "\n",
    "from sklearn.cluster import KMeans\n",
    "from sklearn.datasets import make_blobs\n",
    "\n",
    "from sklearn.metrics import accuracy_score\n",
    "from sklearn.metrics import silhouette_samples\n",
    "from sklearn.metrics import silhouette_score\n",
    "\n",
    "from sklearn.datasets import make_blobs\n",
    "from sklearn.cluster import KMeans\n",
    "from sklearn.metrics import silhouette_samples, silhouette_score\n",
    "\n",
    "from sklearn.model_selection import StratifiedShuffleSplit\n",
    "from sklearn.model_selection import train_test_split\n",
    "\n",
    "import tensorflow as tf\n",
    "from tensorflow import keras\n",
    "\n",
    "print(\"TF version \", tf.__version__)\n",
    "print(\"Keras version \", keras.__version__)"
   ]
  },
  {
   "cell_type": "code",
   "execution_count": 2,
   "metadata": {},
   "outputs": [
    {
     "name": "stdout",
     "output_type": "stream",
     "text": [
      "Downloading data from https://storage.googleapis.com/tensorflow/tf-keras-datasets/train-labels-idx1-ubyte.gz\n",
      "32768/29515 [=================================] - 0s 3us/step\n",
      "Downloading data from https://storage.googleapis.com/tensorflow/tf-keras-datasets/train-images-idx3-ubyte.gz\n",
      "26427392/26421880 [==============================] - 35s 1us/step\n",
      "Downloading data from https://storage.googleapis.com/tensorflow/tf-keras-datasets/t10k-labels-idx1-ubyte.gz\n",
      "8192/5148 [===============================================] - 0s 0us/step\n",
      "Downloading data from https://storage.googleapis.com/tensorflow/tf-keras-datasets/t10k-images-idx3-ubyte.gz\n",
      "4423680/4422102 [==============================] - 6s 1us/step\n",
      "(60000, 28, 28)\n",
      "uint8\n"
     ]
    }
   ],
   "source": [
    "fashion_mnist = keras.datasets.fashion_mnist\n",
    "(X_train_full, y_train_full), (X_test, y_test) = fashion_mnist.load_data()\n",
    "print (X_train_full.shape)\n",
    "print (X_train_full.dtype)"
   ]
  },
  {
   "cell_type": "code",
   "execution_count": 10,
   "metadata": {},
   "outputs": [],
   "source": []
  },
  {
   "cell_type": "code",
   "execution_count": 3,
   "metadata": {},
   "outputs": [
    {
     "name": "stdout",
     "output_type": "stream",
     "text": [
      "(60000, 28, 28)\n",
      "uint8\n"
     ]
    }
   ],
   "source": [
    "print (X_train_full.shape)\n",
    "print (X_train_full.dtype)"
   ]
  },
  {
   "cell_type": "markdown",
   "metadata": {},
   "source": [
    "Let's split this into a validation set. First 5000 are kept aside for validation.\n",
    "\n",
    "Pixel densities in the attributes are 0-255, so scaling them down to \\[0,1\\].\n",
    "Notice how we specify 255.0 otherwise integer division will lead to either 0 or 1."
   ]
  },
  {
   "cell_type": "code",
   "execution_count": 5,
   "metadata": {},
   "outputs": [],
   "source": [
    "X_valid, X_train = X_train_full[:5000] / 255.0, X_train_full[5000:] / 255.0\n",
    "y_valid, y_train = y_train_full[:5000]        , y_train_full[5000:]\n",
    "X_test = X_test / 255.0"
   ]
  },
  {
   "cell_type": "markdown",
   "metadata": {},
   "source": [
    "These class-names are specified on the [Keras website](https://www.tensorflow.org/tutorials/keras/classification)"
   ]
  },
  {
   "cell_type": "code",
   "execution_count": 11,
   "metadata": {},
   "outputs": [],
   "source": [
    "class_names = ['T-shirt/top', 'Trouser', 'Pullover', 'Dress', 'Coat',\n",
    "               'Sandal', 'Shirt', 'Sneaker', 'Bag', 'Ankle boot']\n"
   ]
  },
  {
   "cell_type": "code",
   "execution_count": 12,
   "metadata": {},
   "outputs": [
    {
     "data": {
      "text/plain": [
       "'Coat'"
      ]
     },
     "execution_count": 12,
     "metadata": {},
     "output_type": "execute_result"
    }
   ],
   "source": [
    "class_names[y_train[0]]"
   ]
  },
  {
   "cell_type": "markdown",
   "metadata": {},
   "source": [
    "Let's look at a single image. By now I am good enough to print this stuff out."
   ]
  },
  {
   "cell_type": "code",
   "execution_count": 15,
   "metadata": {},
   "outputs": [
    {
     "data": {
      "text/plain": [
       "<matplotlib.image.AxesImage at 0x7f748cd93970>"
      ]
     },
     "execution_count": 15,
     "metadata": {},
     "output_type": "execute_result"
    },
    {
     "data": {
      "image/png": "[encoded data removed]",
      "text/plain": [
       "<Figure size 432x288 with 1 Axes>"
      ]
     },
     "metadata": {
      "needs_background": "light"
     },
     "output_type": "display_data"
    }
   ],
   "source": [
    "plt.imshow(1 - X_train[1])"
   ]
  },
  {
   "cell_type": "markdown",
   "metadata": {},
   "source": [
    "And let's create a Tensorflow network with Keras."
   ]
  },
  {
   "cell_type": "code",
   "execution_count": 17,
   "metadata": {},
   "outputs": [],
   "source": [
    "# model = keras.models.Sequential()\n",
    "# model.add(keras.layers.Flatten(input_shape=[28, 28]))\n",
    "# model.add(keras.layers.Dense(300, activation=\"relu\"))\n",
    "# model.add(keras.layers.Dense(100, activation=\"relu\"))\n",
    "# model.add(keras.layers.Dense(10, activation=\"softmax\"))\n",
    "\n",
    "# This is another way of creating it:\n",
    "model = keras.models.Sequential([\n",
    "    keras.layers.Flatten(input_shape=[28, 28]),\n",
    "    keras.layers.Dense(300, activation=\"relu\"),\n",
    "    keras.layers.Dense(100, activation=\"relu\"),\n",
    "    keras.layers.Dense(10, activation=\"softmax\")\n",
    "])"
   ]
  },
  {
   "cell_type": "code",
   "execution_count": 18,
   "metadata": {},
   "outputs": [
    {
     "name": "stdout",
     "output_type": "stream",
     "text": [
      "Model: \"sequential\"\n",
      "_________________________________________________________________\n",
      "Layer (type)                 Output Shape              Param #   \n",
      "=================================================================\n",
      "flatten (Flatten)            (None, 784)               0         \n",
      "_________________________________________________________________\n",
      "dense (Dense)                (None, 300)               235500    \n",
      "_________________________________________________________________\n",
      "dense_1 (Dense)              (None, 100)               30100     \n",
      "_________________________________________________________________\n",
      "dense_2 (Dense)              (None, 10)                1010      \n",
      "=================================================================\n",
      "Total params: 266,610\n",
      "Trainable params: 266,610\n",
      "Non-trainable params: 0\n",
      "_________________________________________________________________\n"
     ]
    }
   ],
   "source": [
    "model.summary()"
   ]
  },
  {
   "cell_type": "code",
   "execution_count": 19,
   "metadata": {},
   "outputs": [
    {
     "data": {
      "text/plain": [
       "[<tensorflow.python.keras.layers.core.Flatten at 0x7f748c327a00>,\n",
       " <tensorflow.python.keras.layers.core.Dense at 0x7f749b06dbe0>,\n",
       " <tensorflow.python.keras.layers.core.Dense at 0x7f748c3319d0>,\n",
       " <tensorflow.python.keras.layers.core.Dense at 0x7f748c334d90>]"
      ]
     },
     "execution_count": 19,
     "metadata": {},
     "output_type": "execute_result"
    }
   ],
   "source": [
    "model.layers"
   ]
  },
  {
   "cell_type": "code",
   "execution_count": 20,
   "metadata": {},
   "outputs": [],
   "source": [
    "model.compile(loss=\"sparse_categorical_crossentropy\",\n",
    "             optimizer=\"sgd\",\n",
    "             metrics=[\"accuracy\"])"
   ]
  },
  {
   "cell_type": "code",
   "execution_count": 21,
   "metadata": {},
   "outputs": [
    {
     "name": "stdout",
     "output_type": "stream",
     "text": [
      "Epoch 1/30\n",
      "1719/1719 [==============================] - 39s 23ms/step - loss: 0.7015 - accuracy: 0.7694 - val_loss: 0.5748 - val_accuracy: 0.7924\n",
      "Epoch 2/30\n",
      "1719/1719 [==============================] - 39s 23ms/step - loss: 0.4864 - accuracy: 0.8314 - val_loss: 0.4725 - val_accuracy: 0.8358\n",
      "Epoch 3/30\n",
      "1719/1719 [==============================] - 39s 23ms/step - loss: 0.4426 - accuracy: 0.8451 - val_loss: 0.4166 - val_accuracy: 0.8580\n",
      "Epoch 4/30\n",
      "1719/1719 [==============================] - 39s 23ms/step - loss: 0.4159 - accuracy: 0.8528 - val_loss: 0.4072 - val_accuracy: 0.8622\n",
      "Epoch 5/30\n",
      "1719/1719 [==============================] - 39s 23ms/step - loss: 0.3955 - accuracy: 0.8620 - val_loss: 0.3893 - val_accuracy: 0.8636\n",
      "Epoch 6/30\n",
      "1719/1719 [==============================] - 39s 23ms/step - loss: 0.3798 - accuracy: 0.8653 - val_loss: 0.3668 - val_accuracy: 0.8718\n",
      "Epoch 7/30\n",
      "1719/1719 [==============================] - 39s 23ms/step - loss: 0.3651 - accuracy: 0.8707 - val_loss: 0.3612 - val_accuracy: 0.8752\n",
      "Epoch 8/30\n",
      "1719/1719 [==============================] - 39s 23ms/step - loss: 0.3535 - accuracy: 0.8756 - val_loss: 0.3664 - val_accuracy: 0.8680\n",
      "Epoch 9/30\n",
      "1719/1719 [==============================] - 39s 23ms/step - loss: 0.3431 - accuracy: 0.8780 - val_loss: 0.3540 - val_accuracy: 0.8762\n",
      "Epoch 10/30\n",
      "1719/1719 [==============================] - 39s 23ms/step - loss: 0.3343 - accuracy: 0.8807 - val_loss: 0.3451 - val_accuracy: 0.8802\n",
      "Epoch 11/30\n",
      "1719/1719 [==============================] - 39s 23ms/step - loss: 0.3250 - accuracy: 0.8837 - val_loss: 0.3499 - val_accuracy: 0.8752\n",
      "Epoch 12/30\n",
      "1719/1719 [==============================] - 39s 23ms/step - loss: 0.3172 - accuracy: 0.8867 - val_loss: 0.3318 - val_accuracy: 0.8830\n",
      "Epoch 13/30\n",
      "1719/1719 [==============================] - 39s 23ms/step - loss: 0.3096 - accuracy: 0.8890 - val_loss: 0.3236 - val_accuracy: 0.8876\n",
      "Epoch 14/30\n",
      "1719/1719 [==============================] - 39s 23ms/step - loss: 0.3014 - accuracy: 0.8923 - val_loss: 0.3333 - val_accuracy: 0.8832\n",
      "Epoch 15/30\n",
      "1719/1719 [==============================] - 39s 23ms/step - loss: 0.2954 - accuracy: 0.8947 - val_loss: 0.3197 - val_accuracy: 0.8848\n",
      "Epoch 16/30\n",
      "1719/1719 [==============================] - 39s 23ms/step - loss: 0.2885 - accuracy: 0.8965 - val_loss: 0.3170 - val_accuracy: 0.8890\n",
      "Epoch 17/30\n",
      "1719/1719 [==============================] - 39s 23ms/step - loss: 0.2841 - accuracy: 0.8973 - val_loss: 0.3099 - val_accuracy: 0.8898\n",
      "Epoch 18/30\n",
      "1719/1719 [==============================] - 39s 23ms/step - loss: 0.2769 - accuracy: 0.9001 - val_loss: 0.3092 - val_accuracy: 0.8898\n",
      "Epoch 19/30\n",
      "1719/1719 [==============================] - 39s 23ms/step - loss: 0.2728 - accuracy: 0.9014 - val_loss: 0.3331 - val_accuracy: 0.8824\n",
      "Epoch 20/30\n",
      "1719/1719 [==============================] - 39s 23ms/step - loss: 0.2673 - accuracy: 0.9030 - val_loss: 0.3157 - val_accuracy: 0.8900\n",
      "Epoch 21/30\n",
      "1719/1719 [==============================] - 39s 23ms/step - loss: 0.2622 - accuracy: 0.9063 - val_loss: 0.3135 - val_accuracy: 0.8868\n",
      "Epoch 22/30\n",
      "1719/1719 [==============================] - 39s 23ms/step - loss: 0.2571 - accuracy: 0.9070 - val_loss: 0.3170 - val_accuracy: 0.8870\n",
      "Epoch 23/30\n",
      "1719/1719 [==============================] - 39s 23ms/step - loss: 0.2536 - accuracy: 0.9092 - val_loss: 0.3126 - val_accuracy: 0.8858\n",
      "Epoch 24/30\n",
      "1719/1719 [==============================] - 39s 23ms/step - loss: 0.2487 - accuracy: 0.9102 - val_loss: 0.3129 - val_accuracy: 0.8904\n",
      "Epoch 25/30\n",
      "1719/1719 [==============================] - 39s 23ms/step - loss: 0.2435 - accuracy: 0.9128 - val_loss: 0.3098 - val_accuracy: 0.8888\n",
      "Epoch 26/30\n",
      "1719/1719 [==============================] - 39s 23ms/step - loss: 0.2396 - accuracy: 0.9136 - val_loss: 0.3098 - val_accuracy: 0.8900\n",
      "Epoch 27/30\n",
      "1719/1719 [==============================] - 39s 23ms/step - loss: 0.2357 - accuracy: 0.9158 - val_loss: 0.3199 - val_accuracy: 0.8854\n",
      "Epoch 28/30\n",
      "1719/1719 [==============================] - 39s 23ms/step - loss: 0.2306 - accuracy: 0.9178 - val_loss: 0.2958 - val_accuracy: 0.8938\n",
      "Epoch 29/30\n",
      "1719/1719 [==============================] - 39s 23ms/step - loss: 0.2279 - accuracy: 0.9185 - val_loss: 0.3093 - val_accuracy: 0.8908\n",
      "Epoch 30/30\n",
      "1719/1719 [==============================] - 39s 23ms/step - loss: 0.2247 - accuracy: 0.9197 - val_loss: 0.3075 - val_accuracy: 0.8896\n"
     ]
    }
   ],
   "source": [
    "history = model.fit(X_train, y_train, epochs=30,\n",
    "                   validation_data=(X_valid, y_valid))"
   ]
  },
  {
   "cell_type": "code",
   "execution_count": 22,
   "metadata": {},
   "outputs": [
    {
     "data": {
      "image/png": "[encoded data removed]",
      "text/plain": [
       "<Figure size 576x360 with 1 Axes>"
      ]
     },
     "metadata": {
      "needs_background": "light"
     },
     "output_type": "display_data"
    }
   ],
   "source": [
    "import pandas as pd\n",
    "\n",
    "pd.DataFrame(history.history).plot(figsize=(8,5))\n",
    "plt.grid(True)\n",
    "plt.gca().set_ylim(0,1) # Y axis set to [0,1]\n",
    "plt.show()"
   ]
  },
  {
   "cell_type": "code",
   "execution_count": null,
   "metadata": {},
   "outputs": [],
   "source": [
    "# The same model as earlier, but with a different learning rate.\n",
    "model_lr = keras.models.Sequential([\n",
    "    keras.layers.Flatten(input_shape=[28, 28]),\n",
    "    keras.layers.Dense(300, activation=\"relu\"),\n",
    "    keras.layers.Dense(100, activation=\"relu\"),\n",
    "    keras.layers.Dense(10, activation=\"softmax\")\n",
    "])\n",
    "\n",
    "# Got a learning rate example from here: https://keras.io/api/optimizers/\n",
    "lr_schedule = keras.optimizers.schedules.ExponentialDecay(\n",
    "    initial_learning_rate=1e-2,\n",
    "    decay_steps=10000,\n",
    "    decay_rate=0.9)\n",
    "\n",
    "model_lr.compile(loss=\"sparse_categorical_crossentropy\",\n",
    "                 optimizer=keras.optimizers.SGD(learning_rate=lr_schedule),\n",
    "                 metrics=[\"accuracy\"])\n",
    "history_lr = model_lr.fit(X_train, y_train, epochs=30,\n",
    "                   validation_data=(X_valid, y_valid))"
   ]
  },
  {
   "cell_type": "code",
   "execution_count": null,
   "metadata": {},
   "outputs": [],
   "source": []
  },
  {
   "cell_type": "markdown",
   "metadata": {},
   "source": [
    "# Batch processing, for later\n",
    "\n",
    "For later, run with many more epochs and see if the performance improves considerably"
   ]
  },
  {
   "cell_type": "code",
   "execution_count": null,
   "metadata": {},
   "outputs": [],
   "source": [
    "# The same model as earlier, but with many more epochs than earlier.\n",
    "model2 = keras.models.Sequential([\n",
    "    keras.layers.Flatten(input_shape=[28, 28]),\n",
    "    keras.layers.Dense(300, activation=\"relu\"),\n",
    "    keras.layers.Dense(100, activation=\"relu\"),\n",
    "    keras.layers.Dense(10, activation=\"softmax\")\n",
    "])\n",
    "model2.compile(loss=\"sparse_categorical_crossentropy\",\n",
    "             optimizer=\"sgd\",\n",
    "             metrics=[\"accuracy\"])\n",
    "history2 = model2.fit(X_train, y_train, epochs=300,\n",
    "                   validation_data=(X_valid, y_valid))"
   ]
  },
  {
   "cell_type": "code",
   "execution_count": null,
   "metadata": {},
   "outputs": [],
   "source": [
    "# A deeper model than earlier, but with as many epochs as the first.\n",
    "model3 = keras.models.Sequential([\n",
    "    keras.layers.Flatten(input_shape=[28, 28]),\n",
    "    keras.layers.Dense(300, activation=\"relu\"),\n",
    "    keras.layers.Dense(300, activation=\"relu\"),\n",
    "    keras.layers.Dense(100, activation=\"relu\"),\n",
    "    keras.layers.Dense(10, activation=\"softmax\")\n",
    "])\n",
    "model3.compile(loss=\"sparse_categorical_crossentropy\",\n",
    "             optimizer=\"sgd\",\n",
    "             metrics=[\"accuracy\"])\n",
    "history3 = model3.fit(X_train, y_train, epochs=30,\n",
    "                   validation_data=(X_valid, y_valid))"
   ]
  },
  {
   "cell_type": "code",
   "execution_count": null,
   "metadata": {},
   "outputs": [],
   "source": [
    "# A deeper model than earlier, but constraining the input layer and expanding again\n",
    "model4 = keras.models.Sequential([\n",
    "    keras.layers.Flatten(input_shape=[28, 28]),\n",
    "    keras.layers.Dense(300, activation=\"relu\"),\n",
    "    keras.layers.Dense(50, activation=\"relu\"),\n",
    "    keras.layers.Dense(100, activation=\"relu\"),\n",
    "    keras.layers.Dense(10, activation=\"softmax\")\n",
    "])\n",
    "model4.compile(loss=\"sparse_categorical_crossentropy\",\n",
    "             optimizer=\"sgd\",\n",
    "             metrics=[\"accuracy\"])\n",
    "history4 = model4.fit(X_train, y_train, epochs=30,\n",
    "                   validation_data=(X_valid, y_valid))"
   ]
  },
  {
   "cell_type": "code",
   "execution_count": null,
   "metadata": {},
   "outputs": [],
   "source": []
  }
 ],
 "metadata": {
  "kernelspec": {
   "display_name": "Python 3",
   "language": "python",
   "name": "python3"
  },
  "language_info": {
   "codemirror_mode": {
    "name": "ipython",
    "version": 3
   },
   "file_extension": ".py",
   "mimetype": "text/x-python",
   "name": "python",
   "nbconvert_exporter": "python",
   "pygments_lexer": "ipython3",
   "version": "3.8.2"
  }
 },
 "nbformat": 4,
 "nbformat_minor": 4
}
