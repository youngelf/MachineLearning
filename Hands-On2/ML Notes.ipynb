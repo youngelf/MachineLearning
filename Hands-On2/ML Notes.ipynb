{
 "cells": [
  {
   "cell_type": "markdown",
   "metadata": {},
   "source": [
    "# General Notes\n",
    "\n",
    "To attach to an existing python kernel, you run this command at the console:\n",
    "```\n",
    "$ jupyter console --existing\n",
    "```\n",
    "But then, when you exit, the kernel stops! This is probably not what you want. So exit like this:\n",
    "```\n",
    "exit(keep_kernel=True)\n",
    "```\n",
    "Ctrl-D also works, it asks if you want to keep the kernel alive, and it does as asked\n",
    "\n",
    "\n",
    "Read about [GPT-3](https://www.jesuisundev.com/en/gpt-3-the-gigantic-artificial-intelligence/). Much more [information about GPT-3](https://www.gwern.net/GPT-3#william-shakespeare)"
   ]
  },
  {
   "cell_type": "markdown",
   "metadata": {},
   "source": [
    "# Music based learning\n",
    "\n",
    "Links for either training based on music, extracing music features or generating music\n",
    "\n",
    "[Extracting music features](https://towardsdatascience.com/extract-features-of-music-75a3f9bc265d)"
   ]
  },
  {
   "cell_type": "markdown",
   "metadata": {},
   "source": [
    "# Web data based learning\n",
    "\n",
    "[Getting stock information](https://medium.com/@andy.m9627/the-ultimate-guide-to-stock-market-apis-for-2020-1de6f55adbb) and [this company](https://finnhub.io/) has a great free product for getting open/high/low/close information over a time period.\n",
    "[Scraping the web for arbitrary information](https://github.com/alirezamika/autoscraper)"
   ]
  },
  {
   "cell_type": "markdown",
   "metadata": {},
   "source": [
    "# Other notes\n",
    "Links for Google Cloud Courses\n",
    "[The single video](https://www.coursera.org/lecture/gcp-fundamentals/why-choose-google-cloud-platform-vXwU1)\n",
    "and the full course:\n",
    "[You have to select single courses to view the content for free](https://www.coursera.org/specializations/gcp-architecture?action=enroll&authType=google&completeMode=existingCourseraAccount#courses)\n",
    "\n",
    "[These are someone's notes on this exam](https://medium.com/@sathishvj/notes-from-my-google-cloud-professional-cloud-architect-exam-bbc4299ac30)"
   ]
  },
  {
   "cell_type": "code",
   "execution_count": 1,
   "metadata": {},
   "outputs": [],
   "source": [
    "a=5"
   ]
  },
  {
   "cell_type": "code",
   "execution_count": 2,
   "metadata": {},
   "outputs": [
    {
     "data": {
      "text/plain": [
       "5"
      ]
     },
     "execution_count": 2,
     "metadata": {},
     "output_type": "execute_result"
    }
   ],
   "source": [
    "a"
   ]
  },
  {
   "cell_type": "code",
   "execution_count": 4,
   "metadata": {},
   "outputs": [],
   "source": [
    "import numpy as np"
   ]
  },
  {
   "cell_type": "code",
   "execution_count": null,
   "metadata": {},
   "outputs": [],
   "source": []
  }
 ],
 "metadata": {
  "kernelspec": {
   "display_name": "Python 3",
   "language": "python",
   "name": "python3"
  },
  "language_info": {
   "codemirror_mode": {
    "name": "ipython",
    "version": 3
   },
   "file_extension": ".py",
   "mimetype": "text/x-python",
   "name": "python",
   "nbconvert_exporter": "python",
   "pygments_lexer": "ipython3",
   "version": "3.8.2"
  }
 },
 "nbformat": 4,
 "nbformat_minor": 4
}
