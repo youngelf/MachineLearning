{
 "cells": [
  {
   "cell_type": "code",
   "execution_count": 15,
   "metadata": {},
   "outputs": [
    {
     "name": "stdout",
     "output_type": "stream",
     "text": [
      "162 µs ± 113 ns per loop (mean ± std. dev. of 7 runs, 10000 loops each)\n"
     ]
    }
   ],
   "source": [
    "import numpy as np\n",
    "\n",
    "a=np.random.randn(100,100)\n",
    "%timeit np.dot(a,a)"
   ]
  },
  {
   "cell_type": "markdown",
   "metadata": {},
   "source": [
    "So that produced some output, let's reformat it.\n",
    "a= 5\n",
    "np.arange(30)"
   ]
  },
  {
   "cell_type": "markdown",
   "metadata": {},
   "source": [
    "X = np.arange(30)\n",
    "Y = X.reshape((5,6))\n",
    "print(Y)"
   ]
  },
  {
   "cell_type": "code",
   "execution_count": 7,
   "metadata": {},
   "outputs": [
    {
     "data": {
      "text/plain": [
       "93"
      ]
     },
     "execution_count": 7,
     "metadata": {},
     "output_type": "execute_result"
    }
   ],
   "source": [
    "Y[3,3]"
   ]
  },
  {
   "cell_type": "code",
   "execution_count": 13,
   "metadata": {},
   "outputs": [
    {
     "data": {
      "text/plain": [
       "'/home/viki/ml/MachineLearning/Python_for_Data_Analysis'"
      ]
     },
     "execution_count": 13,
     "metadata": {},
     "output_type": "execute_result"
    }
   ],
   "source": [
    "%pwd"
   ]
  },
  {
   "cell_type": "code",
   "execution_count": 14,
   "metadata": {},
   "outputs": [
    {
     "data": {
      "text/plain": [
       "array([[  4.526611  , -10.32791873,  -3.59576497, ..., -11.92781497,\n",
       "          3.41854188,  19.12044256],\n",
       "       [ -0.77481142,  13.00743414,   1.57403866, ..., -15.89651566,\n",
       "          9.93036854,   6.51762393],\n",
       "       [  5.66649308,   4.04939391,   0.81583283, ...,   9.63486717,\n",
       "         -4.01992624,   2.46705103],\n",
       "       ...,\n",
       "       [ -5.54881886,   2.47423175,  -3.94649361, ...,   5.06871683,\n",
       "         -6.59921388,  -4.41738196],\n",
       "       [ -5.68616125, -17.88841985,  -5.63563812, ...,  -0.2868575 ,\n",
       "        -34.99073701,  14.16690043],\n",
       "       [  1.35210758,   9.48143962,  -4.07205983, ...,  -9.09713684,\n",
       "          3.47921256,   5.07727184]])"
      ]
     },
     "execution_count": 14,
     "metadata": {},
     "output_type": "execute_result"
    }
   ],
   "source": [
    "np.dot(a,a)"
   ]
  },
  {
   "cell_type": "code",
   "execution_count": null,
   "metadata": {},
   "outputs": [],
   "source": []
  }
 ],
 "metadata": {
  "kernelspec": {
   "display_name": "Python 3",
   "language": "python",
   "name": "python3"
  },
  "language_info": {
   "codemirror_mode": {
    "name": "ipython",
    "version": 3
   },
   "file_extension": ".py",
   "mimetype": "text/x-python",
   "name": "python",
   "nbconvert_exporter": "python",
   "pygments_lexer": "ipython3",
   "version": "3.8.5"
  }
 },
 "nbformat": 4,
 "nbformat_minor": 4
}
